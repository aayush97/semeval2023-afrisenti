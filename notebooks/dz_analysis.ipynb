{
  "cells": [
    {
      "cell_type": "markdown",
      "metadata": {
        "id": "V4BB4JDx5W8d"
      },
      "source": [
        "#1) Installations and imports"
      ]
    },
    {
      "cell_type": "markdown",
      "metadata": {
        "id": "DObkW3ulM7yg"
      },
      "source": [
        "##a. Mount drive (if you are running on colab)"
      ]
    },
    {
      "cell_type": "code",
      "execution_count": 68,
      "metadata": {
        "colab": {
          "base_uri": "https://localhost:8080/"
        },
        "id": "Z0IelbK7NBZZ",
        "outputId": "64ad914d-171d-4f90-b73a-28a28b743a8e"
      },
      "outputs": [
        {
          "output_type": "stream",
          "name": "stdout",
          "text": [
            "Drive already mounted at /content/drive; to attempt to forcibly remount, call drive.mount(\"/content/drive\", force_remount=True).\n"
          ]
        }
      ],
      "source": [
        "from google.colab import drive\n",
        "from sklearn.metrics import f1_score, accuracy_score, precision_score, recall_score\n",
        "import os\n",
        "drive.mount('/content/drive')"
      ]
    },
    {
      "cell_type": "markdown",
      "metadata": {
        "id": "U-OZxUWIMqtq"
      },
      "source": [
        "##b. Clone or update competition repository\n",
        "\n",
        "After cloning, under MyDrive, you will see afrisenti-semeval-2023 folder with all the the data for the afrisenti shared task (training and dev) "
      ]
    },
    {
      "cell_type": "code",
      "execution_count": 69,
      "metadata": {
        "id": "2392TKadMvqT",
        "colab": {
          "base_uri": "https://localhost:8080/"
        },
        "outputId": "47652e70-690d-43c8-b79d-ec5429de9b4c"
      },
      "outputs": [
        {
          "output_type": "stream",
          "name": "stdout",
          "text": [
            "/content/drive/MyDrive\n",
            "True\n"
          ]
        }
      ],
      "source": [
        "%cd /content/drive/MyDrive\n",
        "\n",
        "PROJECT_DIR = '/content/drive/MyDrive/afrisent-semeval-2023'\n",
        "PROJECT_GITHUB_URL = 'https://github.com/afrisenti-semeval/afrisent-semeval-2023.git'\n",
        "\n",
        "print(os.path.isdir(PROJECT_DIR))\n"
      ]
    },
    {
      "cell_type": "markdown",
      "metadata": {
        "id": "Xb03Gp9fUN8C"
      },
      "source": [
        "##c. Install required libraries\n",
        "\n"
      ]
    },
    {
      "cell_type": "code",
      "source": [
        "os.listdir(os.path.join(PROJECT_DIR, 'starter_kit'))"
      ],
      "metadata": {
        "colab": {
          "base_uri": "https://localhost:8080/"
        },
        "id": "ekCCYmdQjbPR",
        "outputId": "d1053985-7ff4-4014-d0ed-aaacb2d3d10c"
      },
      "execution_count": 70,
      "outputs": [
        {
          "output_type": "execute_result",
          "data": {
            "text/plain": [
              "['afrisenti_get_scores1.py',\n",
              " 'run_textclass.py',\n",
              " 'run_textclass.sh',\n",
              " 'requirements.txt',\n",
              " 'run_predict.py']"
            ]
          },
          "metadata": {},
          "execution_count": 70
        }
      ]
    },
    {
      "cell_type": "code",
      "source": [
        "#Install other required libraries\n",
        "!pip install -r '/content/drive/MyDrive/afrisent-semeval-2023/starter_kit/requirements.txt'"
      ],
      "metadata": {
        "colab": {
          "base_uri": "https://localhost:8080/"
        },
        "id": "rHpn_tCXk2vq",
        "outputId": "66a4e0b8-7c81-4158-9758-fbef98e3165a"
      },
      "execution_count": 71,
      "outputs": [
        {
          "output_type": "stream",
          "name": "stdout",
          "text": [
            "Looking in indexes: https://pypi.org/simple, https://us-python.pkg.dev/colab-wheels/public/simple/\n",
            "Requirement already satisfied: pandas in /usr/local/lib/python3.7/dist-packages (from -r /content/drive/MyDrive/afrisent-semeval-2023/starter_kit/requirements.txt (line 1)) (1.3.5)\n",
            "Requirement already satisfied: numpy in /usr/local/lib/python3.7/dist-packages (from -r /content/drive/MyDrive/afrisent-semeval-2023/starter_kit/requirements.txt (line 2)) (1.21.6)\n",
            "Requirement already satisfied: transformers in /usr/local/lib/python3.7/dist-packages (from -r /content/drive/MyDrive/afrisent-semeval-2023/starter_kit/requirements.txt (line 3)) (4.24.0)\n",
            "Requirement already satisfied: torch>=1.3 in /usr/local/lib/python3.7/dist-packages (from -r /content/drive/MyDrive/afrisent-semeval-2023/starter_kit/requirements.txt (line 4)) (1.12.1+cu113)\n",
            "Requirement already satisfied: scipy in /usr/local/lib/python3.7/dist-packages (from -r /content/drive/MyDrive/afrisent-semeval-2023/starter_kit/requirements.txt (line 5)) (1.7.3)\n",
            "Requirement already satisfied: protobuf in /usr/local/lib/python3.7/dist-packages (from -r /content/drive/MyDrive/afrisent-semeval-2023/starter_kit/requirements.txt (line 6)) (3.19.6)\n",
            "Requirement already satisfied: scikit-learn in /usr/local/lib/python3.7/dist-packages (from -r /content/drive/MyDrive/afrisent-semeval-2023/starter_kit/requirements.txt (line 7)) (1.0.2)\n",
            "Requirement already satisfied: accelerate in /usr/local/lib/python3.7/dist-packages (from -r /content/drive/MyDrive/afrisent-semeval-2023/starter_kit/requirements.txt (line 8)) (0.14.0)\n",
            "Requirement already satisfied: sentencepiece!=0.1.92 in /usr/local/lib/python3.7/dist-packages (from -r /content/drive/MyDrive/afrisent-semeval-2023/starter_kit/requirements.txt (line 9)) (0.1.97)\n",
            "Requirement already satisfied: datasets>=1.8.0 in /usr/local/lib/python3.7/dist-packages (from -r /content/drive/MyDrive/afrisent-semeval-2023/starter_kit/requirements.txt (line 10)) (2.7.1)\n",
            "Requirement already satisfied: evaluate in /usr/local/lib/python3.7/dist-packages (from -r /content/drive/MyDrive/afrisent-semeval-2023/starter_kit/requirements.txt (line 11)) (0.3.0)\n",
            "Requirement already satisfied: typing-extensions in /usr/local/lib/python3.7/dist-packages (from torch>=1.3->-r /content/drive/MyDrive/afrisent-semeval-2023/starter_kit/requirements.txt (line 4)) (4.1.1)\n",
            "Requirement already satisfied: tqdm>=4.62.1 in /usr/local/lib/python3.7/dist-packages (from datasets>=1.8.0->-r /content/drive/MyDrive/afrisent-semeval-2023/starter_kit/requirements.txt (line 10)) (4.64.1)\n",
            "Requirement already satisfied: packaging in /usr/local/lib/python3.7/dist-packages (from datasets>=1.8.0->-r /content/drive/MyDrive/afrisent-semeval-2023/starter_kit/requirements.txt (line 10)) (21.3)\n",
            "Requirement already satisfied: responses<0.19 in /usr/local/lib/python3.7/dist-packages (from datasets>=1.8.0->-r /content/drive/MyDrive/afrisent-semeval-2023/starter_kit/requirements.txt (line 10)) (0.18.0)\n",
            "Requirement already satisfied: requests>=2.19.0 in /usr/local/lib/python3.7/dist-packages (from datasets>=1.8.0->-r /content/drive/MyDrive/afrisent-semeval-2023/starter_kit/requirements.txt (line 10)) (2.23.0)\n",
            "Requirement already satisfied: xxhash in /usr/local/lib/python3.7/dist-packages (from datasets>=1.8.0->-r /content/drive/MyDrive/afrisent-semeval-2023/starter_kit/requirements.txt (line 10)) (3.1.0)\n",
            "Requirement already satisfied: multiprocess in /usr/local/lib/python3.7/dist-packages (from datasets>=1.8.0->-r /content/drive/MyDrive/afrisent-semeval-2023/starter_kit/requirements.txt (line 10)) (0.70.14)\n",
            "Requirement already satisfied: aiohttp in /usr/local/lib/python3.7/dist-packages (from datasets>=1.8.0->-r /content/drive/MyDrive/afrisent-semeval-2023/starter_kit/requirements.txt (line 10)) (3.8.3)\n",
            "Requirement already satisfied: dill<0.3.7 in /usr/local/lib/python3.7/dist-packages (from datasets>=1.8.0->-r /content/drive/MyDrive/afrisent-semeval-2023/starter_kit/requirements.txt (line 10)) (0.3.6)\n",
            "Requirement already satisfied: importlib-metadata in /usr/local/lib/python3.7/dist-packages (from datasets>=1.8.0->-r /content/drive/MyDrive/afrisent-semeval-2023/starter_kit/requirements.txt (line 10)) (4.13.0)\n",
            "Requirement already satisfied: fsspec[http]>=2021.11.1 in /usr/local/lib/python3.7/dist-packages (from datasets>=1.8.0->-r /content/drive/MyDrive/afrisent-semeval-2023/starter_kit/requirements.txt (line 10)) (2022.11.0)\n",
            "Requirement already satisfied: pyyaml>=5.1 in /usr/local/lib/python3.7/dist-packages (from datasets>=1.8.0->-r /content/drive/MyDrive/afrisent-semeval-2023/starter_kit/requirements.txt (line 10)) (6.0)\n",
            "Requirement already satisfied: pyarrow>=6.0.0 in /usr/local/lib/python3.7/dist-packages (from datasets>=1.8.0->-r /content/drive/MyDrive/afrisent-semeval-2023/starter_kit/requirements.txt (line 10)) (9.0.0)\n",
            "Requirement already satisfied: huggingface-hub<1.0.0,>=0.2.0 in /usr/local/lib/python3.7/dist-packages (from datasets>=1.8.0->-r /content/drive/MyDrive/afrisent-semeval-2023/starter_kit/requirements.txt (line 10)) (0.11.1)\n",
            "Requirement already satisfied: charset-normalizer<3.0,>=2.0 in /usr/local/lib/python3.7/dist-packages (from aiohttp->datasets>=1.8.0->-r /content/drive/MyDrive/afrisent-semeval-2023/starter_kit/requirements.txt (line 10)) (2.1.1)\n",
            "Requirement already satisfied: yarl<2.0,>=1.0 in /usr/local/lib/python3.7/dist-packages (from aiohttp->datasets>=1.8.0->-r /content/drive/MyDrive/afrisent-semeval-2023/starter_kit/requirements.txt (line 10)) (1.8.1)\n",
            "Requirement already satisfied: aiosignal>=1.1.2 in /usr/local/lib/python3.7/dist-packages (from aiohttp->datasets>=1.8.0->-r /content/drive/MyDrive/afrisent-semeval-2023/starter_kit/requirements.txt (line 10)) (1.3.1)\n",
            "Requirement already satisfied: async-timeout<5.0,>=4.0.0a3 in /usr/local/lib/python3.7/dist-packages (from aiohttp->datasets>=1.8.0->-r /content/drive/MyDrive/afrisent-semeval-2023/starter_kit/requirements.txt (line 10)) (4.0.2)\n",
            "Requirement already satisfied: frozenlist>=1.1.1 in /usr/local/lib/python3.7/dist-packages (from aiohttp->datasets>=1.8.0->-r /content/drive/MyDrive/afrisent-semeval-2023/starter_kit/requirements.txt (line 10)) (1.3.3)\n",
            "Requirement already satisfied: attrs>=17.3.0 in /usr/local/lib/python3.7/dist-packages (from aiohttp->datasets>=1.8.0->-r /content/drive/MyDrive/afrisent-semeval-2023/starter_kit/requirements.txt (line 10)) (22.1.0)\n",
            "Requirement already satisfied: multidict<7.0,>=4.5 in /usr/local/lib/python3.7/dist-packages (from aiohttp->datasets>=1.8.0->-r /content/drive/MyDrive/afrisent-semeval-2023/starter_kit/requirements.txt (line 10)) (6.0.2)\n",
            "Requirement already satisfied: asynctest==0.13.0 in /usr/local/lib/python3.7/dist-packages (from aiohttp->datasets>=1.8.0->-r /content/drive/MyDrive/afrisent-semeval-2023/starter_kit/requirements.txt (line 10)) (0.13.0)\n",
            "Requirement already satisfied: filelock in /usr/local/lib/python3.7/dist-packages (from huggingface-hub<1.0.0,>=0.2.0->datasets>=1.8.0->-r /content/drive/MyDrive/afrisent-semeval-2023/starter_kit/requirements.txt (line 10)) (3.8.0)\n",
            "Requirement already satisfied: pyparsing!=3.0.5,>=2.0.2 in /usr/local/lib/python3.7/dist-packages (from packaging->datasets>=1.8.0->-r /content/drive/MyDrive/afrisent-semeval-2023/starter_kit/requirements.txt (line 10)) (3.0.9)\n",
            "Requirement already satisfied: chardet<4,>=3.0.2 in /usr/local/lib/python3.7/dist-packages (from requests>=2.19.0->datasets>=1.8.0->-r /content/drive/MyDrive/afrisent-semeval-2023/starter_kit/requirements.txt (line 10)) (3.0.4)\n",
            "Requirement already satisfied: idna<3,>=2.5 in /usr/local/lib/python3.7/dist-packages (from requests>=2.19.0->datasets>=1.8.0->-r /content/drive/MyDrive/afrisent-semeval-2023/starter_kit/requirements.txt (line 10)) (2.10)\n",
            "Requirement already satisfied: urllib3!=1.25.0,!=1.25.1,<1.26,>=1.21.1 in /usr/local/lib/python3.7/dist-packages (from requests>=2.19.0->datasets>=1.8.0->-r /content/drive/MyDrive/afrisent-semeval-2023/starter_kit/requirements.txt (line 10)) (1.25.11)\n",
            "Requirement already satisfied: certifi>=2017.4.17 in /usr/local/lib/python3.7/dist-packages (from requests>=2.19.0->datasets>=1.8.0->-r /content/drive/MyDrive/afrisent-semeval-2023/starter_kit/requirements.txt (line 10)) (2022.9.24)\n",
            "Requirement already satisfied: pytz>=2017.3 in /usr/local/lib/python3.7/dist-packages (from pandas->-r /content/drive/MyDrive/afrisent-semeval-2023/starter_kit/requirements.txt (line 1)) (2022.6)\n",
            "Requirement already satisfied: python-dateutil>=2.7.3 in /usr/local/lib/python3.7/dist-packages (from pandas->-r /content/drive/MyDrive/afrisent-semeval-2023/starter_kit/requirements.txt (line 1)) (2.8.2)\n",
            "Requirement already satisfied: six>=1.5 in /usr/local/lib/python3.7/dist-packages (from python-dateutil>=2.7.3->pandas->-r /content/drive/MyDrive/afrisent-semeval-2023/starter_kit/requirements.txt (line 1)) (1.15.0)\n",
            "Requirement already satisfied: tokenizers!=0.11.3,<0.14,>=0.11.1 in /usr/local/lib/python3.7/dist-packages (from transformers->-r /content/drive/MyDrive/afrisent-semeval-2023/starter_kit/requirements.txt (line 3)) (0.13.2)\n",
            "Requirement already satisfied: regex!=2019.12.17 in /usr/local/lib/python3.7/dist-packages (from transformers->-r /content/drive/MyDrive/afrisent-semeval-2023/starter_kit/requirements.txt (line 3)) (2022.6.2)\n",
            "Requirement already satisfied: threadpoolctl>=2.0.0 in /usr/local/lib/python3.7/dist-packages (from scikit-learn->-r /content/drive/MyDrive/afrisent-semeval-2023/starter_kit/requirements.txt (line 7)) (3.1.0)\n",
            "Requirement already satisfied: joblib>=0.11 in /usr/local/lib/python3.7/dist-packages (from scikit-learn->-r /content/drive/MyDrive/afrisent-semeval-2023/starter_kit/requirements.txt (line 7)) (1.2.0)\n",
            "Requirement already satisfied: psutil in /usr/local/lib/python3.7/dist-packages (from accelerate->-r /content/drive/MyDrive/afrisent-semeval-2023/starter_kit/requirements.txt (line 8)) (5.4.8)\n",
            "Requirement already satisfied: zipp>=0.5 in /usr/local/lib/python3.7/dist-packages (from importlib-metadata->datasets>=1.8.0->-r /content/drive/MyDrive/afrisent-semeval-2023/starter_kit/requirements.txt (line 10)) (3.10.0)\n"
          ]
        }
      ]
    },
    {
      "cell_type": "markdown",
      "metadata": {
        "id": "2zszKhh2Ufb3"
      },
      "source": [
        "##d. Import libraries\n",
        "\n",
        "Import libraries below"
      ]
    },
    {
      "cell_type": "code",
      "execution_count": 72,
      "metadata": {
        "id": "8QIl420aUM1O"
      },
      "outputs": [],
      "source": [
        "import pandas as pd\n",
        "import numpy as np\n",
        "\n",
        "# Please don not edit anything here\n",
        "languages = ['am', 'dz', 'ha', 'ig', 'ma', 'pcm', 'pt', 'sw', 'yo']"
      ]
    },
    {
      "cell_type": "markdown",
      "metadata": {
        "id": "SoRyMJMDJ7lF"
      },
      "source": [
        "#2) Dataset"
      ]
    },
    {
      "cell_type": "code",
      "source": [
        "# Training Data Paths\n",
        "\n",
        "TASK = 'SubtaskA'\n",
        "TRAINING_DATA_DIR = os.path.join(PROJECT_DIR, TASK, 'train')\n",
        "FORMATTED_TRAIN_DATA = os.path.join(TRAINING_DATA_DIR, 'formatted-train-data')\n",
        "\n",
        "if os.path.isdir(TRAINING_DATA_DIR):\n",
        "  print('Data directory found.')\n",
        "  if not os.path.isdir(FORMATTED_TRAIN_DATA):\n",
        "    print('Creating directory to store formatted data.')\n",
        "    os.mkdir(FORMATTED_TRAIN_DATA)\n",
        "else:\n",
        "  print(TRAINING_DATA_DIR + ' is not a valid directory or does not exist!')"
      ],
      "metadata": {
        "id": "QzoSbWC678Zm",
        "colab": {
          "base_uri": "https://localhost:8080/"
        },
        "outputId": "4e8dbc04-5f38-4642-d4bc-5a22ae5585ea"
      },
      "execution_count": 73,
      "outputs": [
        {
          "output_type": "stream",
          "name": "stdout",
          "text": [
            "Data directory found.\n"
          ]
        }
      ]
    },
    {
      "cell_type": "code",
      "source": [
        "LANGUAGE_CODE = 'dz'\n",
        "# file_path = os.path.join(PROJECT_DIR, TASK, 'train', 'splitted-train-dev-test', LANGUAGE_CODE, 'test.tsv')\n",
        "file_path = r'/content/drive/MyDrive/afrisent-semeval-2023/SubtaskA/train/dz_train.tsv'\n",
        "print('splitted-train-dev-test/am/test.tsv')"
      ],
      "metadata": {
        "colab": {
          "base_uri": "https://localhost:8080/"
        },
        "id": "WJNP6pPXtLSp",
        "outputId": "79bb011d-d7d7-4f5c-ec58-a5968c5adb53"
      },
      "execution_count": 74,
      "outputs": [
        {
          "output_type": "stream",
          "name": "stdout",
          "text": [
            "splitted-train-dev-test/am/test.tsv\n"
          ]
        }
      ]
    },
    {
      "cell_type": "code",
      "source": [
        "df_dz = pd.read_csv(file_path, sep='\\t')"
      ],
      "metadata": {
        "id": "a8_aYCWItLVS"
      },
      "execution_count": 75,
      "outputs": []
    },
    {
      "cell_type": "code",
      "source": [
        "df_dz"
      ],
      "metadata": {
        "colab": {
          "base_uri": "https://localhost:8080/",
          "height": 423
        },
        "id": "jBgDPdEKtLap",
        "outputId": "fcfb5d0f-e8d1-4fa5-f7b1-c65024f5ca6e"
      },
      "execution_count": 76,
      "outputs": [
        {
          "output_type": "execute_result",
          "data": {
            "text/plain": [
              "                  ID                                              tweet  \\\n",
              "0     dz_train_00001  @user على حسب موقعك يبدو أنك صاحب نظرة ثاقبة ....   \n",
              "1     dz_train_00002                                  @user تبهليل هاذا   \n",
              "2     dz_train_00003                       @user هاذي تبهليل ماشي فهامة   \n",
              "3     dz_train_00004  @user @user تخاف نجاوب يا ناصر ببلوك لانو طريق...   \n",
              "4     dz_train_00005  @user مرنكة أقسم بالله 😂😂😂تبهليل ما بعد منتصف ...   \n",
              "...              ...                                                ...   \n",
              "1646  dz_train_01647              @user نسيت هذي أنت تحب بزاف هذي @user   \n",
              "1647  dz_train_01648           @user يخدمو ما يهدروش بزاف،تخية لواد سوف   \n",
              "1648  dz_train_01649                      @user مليحة بزاف صراحة عجبتني   \n",
              "1649  dz_train_01650           RT @user الخميس و البحر فور بزاف🤗😍 @user   \n",
              "1650  dz_train_01651                  @user اواه نكمل خير . مابقاش بزاف   \n",
              "\n",
              "         label  \n",
              "0     negative  \n",
              "1     negative  \n",
              "2     negative  \n",
              "3     negative  \n",
              "4     negative  \n",
              "...        ...  \n",
              "1646  positive  \n",
              "1647  positive  \n",
              "1648  positive  \n",
              "1649  positive  \n",
              "1650  positive  \n",
              "\n",
              "[1651 rows x 3 columns]"
            ],
            "text/html": [
              "\n",
              "  <div id=\"df-9d306ddc-082c-48f7-b23d-921dba72afc3\">\n",
              "    <div class=\"colab-df-container\">\n",
              "      <div>\n",
              "<style scoped>\n",
              "    .dataframe tbody tr th:only-of-type {\n",
              "        vertical-align: middle;\n",
              "    }\n",
              "\n",
              "    .dataframe tbody tr th {\n",
              "        vertical-align: top;\n",
              "    }\n",
              "\n",
              "    .dataframe thead th {\n",
              "        text-align: right;\n",
              "    }\n",
              "</style>\n",
              "<table border=\"1\" class=\"dataframe\">\n",
              "  <thead>\n",
              "    <tr style=\"text-align: right;\">\n",
              "      <th></th>\n",
              "      <th>ID</th>\n",
              "      <th>tweet</th>\n",
              "      <th>label</th>\n",
              "    </tr>\n",
              "  </thead>\n",
              "  <tbody>\n",
              "    <tr>\n",
              "      <th>0</th>\n",
              "      <td>dz_train_00001</td>\n",
              "      <td>@user على حسب موقعك يبدو أنك صاحب نظرة ثاقبة ....</td>\n",
              "      <td>negative</td>\n",
              "    </tr>\n",
              "    <tr>\n",
              "      <th>1</th>\n",
              "      <td>dz_train_00002</td>\n",
              "      <td>@user تبهليل هاذا</td>\n",
              "      <td>negative</td>\n",
              "    </tr>\n",
              "    <tr>\n",
              "      <th>2</th>\n",
              "      <td>dz_train_00003</td>\n",
              "      <td>@user هاذي تبهليل ماشي فهامة</td>\n",
              "      <td>negative</td>\n",
              "    </tr>\n",
              "    <tr>\n",
              "      <th>3</th>\n",
              "      <td>dz_train_00004</td>\n",
              "      <td>@user @user تخاف نجاوب يا ناصر ببلوك لانو طريق...</td>\n",
              "      <td>negative</td>\n",
              "    </tr>\n",
              "    <tr>\n",
              "      <th>4</th>\n",
              "      <td>dz_train_00005</td>\n",
              "      <td>@user مرنكة أقسم بالله 😂😂😂تبهليل ما بعد منتصف ...</td>\n",
              "      <td>negative</td>\n",
              "    </tr>\n",
              "    <tr>\n",
              "      <th>...</th>\n",
              "      <td>...</td>\n",
              "      <td>...</td>\n",
              "      <td>...</td>\n",
              "    </tr>\n",
              "    <tr>\n",
              "      <th>1646</th>\n",
              "      <td>dz_train_01647</td>\n",
              "      <td>@user نسيت هذي أنت تحب بزاف هذي @user</td>\n",
              "      <td>positive</td>\n",
              "    </tr>\n",
              "    <tr>\n",
              "      <th>1647</th>\n",
              "      <td>dz_train_01648</td>\n",
              "      <td>@user يخدمو ما يهدروش بزاف،تخية لواد سوف</td>\n",
              "      <td>positive</td>\n",
              "    </tr>\n",
              "    <tr>\n",
              "      <th>1648</th>\n",
              "      <td>dz_train_01649</td>\n",
              "      <td>@user مليحة بزاف صراحة عجبتني</td>\n",
              "      <td>positive</td>\n",
              "    </tr>\n",
              "    <tr>\n",
              "      <th>1649</th>\n",
              "      <td>dz_train_01650</td>\n",
              "      <td>RT @user الخميس و البحر فور بزاف🤗😍 @user</td>\n",
              "      <td>positive</td>\n",
              "    </tr>\n",
              "    <tr>\n",
              "      <th>1650</th>\n",
              "      <td>dz_train_01651</td>\n",
              "      <td>@user اواه نكمل خير . مابقاش بزاف</td>\n",
              "      <td>positive</td>\n",
              "    </tr>\n",
              "  </tbody>\n",
              "</table>\n",
              "<p>1651 rows × 3 columns</p>\n",
              "</div>\n",
              "      <button class=\"colab-df-convert\" onclick=\"convertToInteractive('df-9d306ddc-082c-48f7-b23d-921dba72afc3')\"\n",
              "              title=\"Convert this dataframe to an interactive table.\"\n",
              "              style=\"display:none;\">\n",
              "        \n",
              "  <svg xmlns=\"http://www.w3.org/2000/svg\" height=\"24px\"viewBox=\"0 0 24 24\"\n",
              "       width=\"24px\">\n",
              "    <path d=\"M0 0h24v24H0V0z\" fill=\"none\"/>\n",
              "    <path d=\"M18.56 5.44l.94 2.06.94-2.06 2.06-.94-2.06-.94-.94-2.06-.94 2.06-2.06.94zm-11 1L8.5 8.5l.94-2.06 2.06-.94-2.06-.94L8.5 2.5l-.94 2.06-2.06.94zm10 10l.94 2.06.94-2.06 2.06-.94-2.06-.94-.94-2.06-.94 2.06-2.06.94z\"/><path d=\"M17.41 7.96l-1.37-1.37c-.4-.4-.92-.59-1.43-.59-.52 0-1.04.2-1.43.59L10.3 9.45l-7.72 7.72c-.78.78-.78 2.05 0 2.83L4 21.41c.39.39.9.59 1.41.59.51 0 1.02-.2 1.41-.59l7.78-7.78 2.81-2.81c.8-.78.8-2.07 0-2.86zM5.41 20L4 18.59l7.72-7.72 1.47 1.35L5.41 20z\"/>\n",
              "  </svg>\n",
              "      </button>\n",
              "      \n",
              "  <style>\n",
              "    .colab-df-container {\n",
              "      display:flex;\n",
              "      flex-wrap:wrap;\n",
              "      gap: 12px;\n",
              "    }\n",
              "\n",
              "    .colab-df-convert {\n",
              "      background-color: #E8F0FE;\n",
              "      border: none;\n",
              "      border-radius: 50%;\n",
              "      cursor: pointer;\n",
              "      display: none;\n",
              "      fill: #1967D2;\n",
              "      height: 32px;\n",
              "      padding: 0 0 0 0;\n",
              "      width: 32px;\n",
              "    }\n",
              "\n",
              "    .colab-df-convert:hover {\n",
              "      background-color: #E2EBFA;\n",
              "      box-shadow: 0px 1px 2px rgba(60, 64, 67, 0.3), 0px 1px 3px 1px rgba(60, 64, 67, 0.15);\n",
              "      fill: #174EA6;\n",
              "    }\n",
              "\n",
              "    [theme=dark] .colab-df-convert {\n",
              "      background-color: #3B4455;\n",
              "      fill: #D2E3FC;\n",
              "    }\n",
              "\n",
              "    [theme=dark] .colab-df-convert:hover {\n",
              "      background-color: #434B5C;\n",
              "      box-shadow: 0px 1px 3px 1px rgba(0, 0, 0, 0.15);\n",
              "      filter: drop-shadow(0px 1px 2px rgba(0, 0, 0, 0.3));\n",
              "      fill: #FFFFFF;\n",
              "    }\n",
              "  </style>\n",
              "\n",
              "      <script>\n",
              "        const buttonEl =\n",
              "          document.querySelector('#df-9d306ddc-082c-48f7-b23d-921dba72afc3 button.colab-df-convert');\n",
              "        buttonEl.style.display =\n",
              "          google.colab.kernel.accessAllowed ? 'block' : 'none';\n",
              "\n",
              "        async function convertToInteractive(key) {\n",
              "          const element = document.querySelector('#df-9d306ddc-082c-48f7-b23d-921dba72afc3');\n",
              "          const dataTable =\n",
              "            await google.colab.kernel.invokeFunction('convertToInteractive',\n",
              "                                                     [key], {});\n",
              "          if (!dataTable) return;\n",
              "\n",
              "          const docLinkHtml = 'Like what you see? Visit the ' +\n",
              "            '<a target=\"_blank\" href=https://colab.research.google.com/notebooks/data_table.ipynb>data table notebook</a>'\n",
              "            + ' to learn more about interactive tables.';\n",
              "          element.innerHTML = '';\n",
              "          dataTable['output_type'] = 'display_data';\n",
              "          await google.colab.output.renderOutput(dataTable, element);\n",
              "          const docLink = document.createElement('div');\n",
              "          docLink.innerHTML = docLinkHtml;\n",
              "          element.appendChild(docLink);\n",
              "        }\n",
              "      </script>\n",
              "    </div>\n",
              "  </div>\n",
              "  "
            ]
          },
          "metadata": {},
          "execution_count": 76
        }
      ]
    },
    {
      "cell_type": "code",
      "source": [
        "df_dz.label.value_counts()"
      ],
      "metadata": {
        "colab": {
          "base_uri": "https://localhost:8080/"
        },
        "id": "C9v6C7sQtLdx",
        "outputId": "c63cf0bf-2cb4-4f21-d706-383ebc484233"
      },
      "execution_count": 77,
      "outputs": [
        {
          "output_type": "execute_result",
          "data": {
            "text/plain": [
              "negative    892\n",
              "positive    417\n",
              "neutral     342\n",
              "Name: label, dtype: int64"
            ]
          },
          "metadata": {},
          "execution_count": 77
        }
      ]
    },
    {
      "cell_type": "code",
      "source": [
        "#Regex patterns\n",
        "import re\n",
        "def clean_text(row, options):\n",
        "    \"\"\"Removes url, mentions, emoji and uppercase from tweets\"\"\"\n",
        "    if options['lowercase']:\n",
        "        row = row.lower()\n",
        "\n",
        "    if options['remove_url']:\n",
        "        row = re.sub(r\"(?:\\@|https?\\://)\\S+\", \"\", row)\n",
        "\n",
        "    if options['remove_mentions']:\n",
        "        row = re.sub(r\"[^\\w\\s]\", \"\", row)\n",
        "            \n",
        "    if options['remove_punctuation']:\n",
        "        row = re.sub(\"@[A-Za-z0-9_]+\",\"\", row)\n",
        "    \n",
        "    if options['remove_numbers']:\n",
        "        row = re.sub(\"[0-9_]+\",\"\", row)\n",
        "\n",
        "    if options['remove_eng_chars']:\n",
        "        row = re.sub(\"[A-Za-z]+\",\"\", row)\n",
        "        \n",
        "    if options['demojify']:\n",
        "      emoj = re.compile(\"[\"\n",
        "        u\"\\U0001F600-\\U0001F64F\"  # emoticons\n",
        "        u\"\\U0001F300-\\U0001F5FF\"  # symbols & pictographs\n",
        "        u\"\\U0001F680-\\U0001F6FF\"  # transport & map symbols\n",
        "        u\"\\U0001F1E0-\\U0001F1FF\"  # flags (iOS)\n",
        "        u\"\\U00002500-\\U00002BEF\"  # chinese char\n",
        "        u\"\\U00002702-\\U000027B0\"\n",
        "        u\"\\U00002702-\\U000027B0\"\n",
        "        u\"\\U000024C2-\\U0001F251\"\n",
        "        u\"\\U0001f926-\\U0001f937\"\n",
        "        u\"\\U00010000-\\U0010ffff\"\n",
        "        u\"\\u2640-\\u2642\" \n",
        "        u\"\\u2600-\\u2B55\"\n",
        "        u\"\\u200d\"\n",
        "        u\"\\u23cf\"\n",
        "        u\"\\u23e9\"\n",
        "        u\"\\u231a\"\n",
        "        u\"\\ufe0f\"  # dingbats\n",
        "        u\"\\u3030\"\n",
        "                      \"]+\", re.UNICODE)\n",
        "      row = re.sub(emoj, '', row)\n",
        "\n",
        "    return row"
      ],
      "metadata": {
        "id": "1kVePpwNtLga"
      },
      "execution_count": 78,
      "outputs": []
    },
    {
      "cell_type": "code",
      "source": [
        "clean_config = {\n",
        "    'remove_url': True,\n",
        "    'remove_mentions': True,\n",
        "    'lowercase': True,\n",
        "    'remove_numbers': True,\n",
        "    'remove_eng_chars': True,\n",
        "    'remove_punctuation':True,\n",
        "    'demojify': True\n",
        "    }"
      ],
      "metadata": {
        "id": "NAXOJl_HtLi-"
      },
      "execution_count": 79,
      "outputs": []
    },
    {
      "cell_type": "code",
      "source": [
        "df_dz['text'] = df_dz['tweet'].apply(clean_text, args=(clean_config,))"
      ],
      "metadata": {
        "id": "IMM_lZb1tLk_"
      },
      "execution_count": 80,
      "outputs": []
    },
    {
      "cell_type": "code",
      "source": [
        "df_dz.drop(['ID', 'tweet'], axis=1, inplace=True)"
      ],
      "metadata": {
        "id": "NEBMzaIi2G5c"
      },
      "execution_count": 81,
      "outputs": []
    },
    {
      "cell_type": "code",
      "source": [
        "train_f, dev_f, test_f = np.split(df_dz.sample(frac=1, random_state=1), [int(.7*len(df_dz)), int(.85*len(df_dz))])\n"
      ],
      "metadata": {
        "id": "9kUdhfDutLr0"
      },
      "execution_count": 82,
      "outputs": []
    },
    {
      "cell_type": "code",
      "source": [
        "fil_split_path = '/content/drive/MyDrive/afrisent-semeval-2023/SubtaskA/train/split-dz'"
      ],
      "metadata": {
        "id": "I3kuec8bxpxR"
      },
      "execution_count": 83,
      "outputs": []
    },
    {
      "cell_type": "code",
      "source": [
        "train_f.sample(frac=1).to_csv(os.path.join(fil_split_path,'train.tsv'), sep='\\t', index=False)\n",
        "dev_f.sample(frac=1).to_csv(os.path.join(fil_split_path,'dev.tsv'), sep='\\t', index=False)\n",
        "test_f.sample(frac=1).to_csv(os.path.join(fil_split_path,'test.tsv'), sep='\\t', index=False)"
      ],
      "metadata": {
        "id": "zQOhh9xgtLuy"
      },
      "execution_count": 84,
      "outputs": []
    },
    {
      "cell_type": "markdown",
      "source": [
        "# 3) Evaluate on test subsets from train set -- p/r/f1 scores"
      ],
      "metadata": {
        "id": "uEw3H8Xbd9Ts"
      }
    },
    {
      "cell_type": "markdown",
      "source": [
        "## a. predict and create a scores folder"
      ],
      "metadata": {
        "id": "5vbYuO8NGZJy"
      }
    },
    {
      "cell_type": "markdown",
      "source": [
        "### Check the pre-training step and set the parameters"
      ],
      "metadata": {
        "id": "vNJeUAu66Kgd"
      }
    },
    {
      "cell_type": "code",
      "source": [
        "%cd {PROJECT_DIR}\n",
        "\n",
        "#Language to train sentiment classifier for dz\n",
        "LANGUAGE_CODE = 'dz'\n",
        "if LANGUAGE_CODE in languages:\n",
        "  # Model Training Parameters\n",
        "  MODEL_NAME_OR_PATH = \"alger-ia/dziribert\"  \n",
        "  BATCH_SIZE = 8\n",
        "  LEARNING_RATE = 2e-05\n",
        "  NUMBER_OF_TRAINING_EPOCHS = 2\n",
        "  MAXIMUM_SEQUENCE_LENGTH = 128\n",
        "  SAVE_STEPS = -1\n",
        "\n",
        "  print('Everything set. You can now start model training.')\n",
        "else:\n",
        "  print(\"Invalid language code/Dataset not released. Please input any of the following released data\\n\\n\\t- 'am'\\n\\t- 'dz'\\n\\t- 'ha'\\n\\t- 'ig'\\n\\t- 'ma'\\n\\t- 'pcm'\\n\\t- 'pt'\\n\\t- 'sw'\\n\\t- 'yo'\")\n"
      ],
      "metadata": {
        "colab": {
          "base_uri": "https://localhost:8080/"
        },
        "id": "TPqCXnYf6A7a",
        "outputId": "7edb521d-0750-44d4-86d9-12a34faa0526"
      },
      "execution_count": 85,
      "outputs": [
        {
          "output_type": "stream",
          "name": "stdout",
          "text": [
            "/content/drive/MyDrive/afrisent-semeval-2023\n",
            "Everything set. You can now start model training.\n"
          ]
        }
      ]
    },
    {
      "cell_type": "code",
      "source": [
        "os.path.join(TRAINING_DATA_DIR, 'fil-splitted-train-dev-test', LANGUAGE_CODE)"
      ],
      "metadata": {
        "colab": {
          "base_uri": "https://localhost:8080/",
          "height": 36
        },
        "id": "A7zklRdBybze",
        "outputId": "d341d209-de1b-4da3-c9b9-c0ac2ce39f57"
      },
      "execution_count": 86,
      "outputs": [
        {
          "output_type": "execute_result",
          "data": {
            "text/plain": [
              "'/content/drive/MyDrive/afrisent-semeval-2023/SubtaskA/train/fil-splitted-train-dev-test/dz'"
            ],
            "application/vnd.google.colaboratory.intrinsic+json": {
              "type": "string"
            }
          },
          "metadata": {},
          "execution_count": 86
        }
      ]
    },
    {
      "cell_type": "markdown",
      "source": [
        "### Actual training step"
      ],
      "metadata": {
        "id": "SG6Td01r6WD_"
      }
    },
    {
      "cell_type": "code",
      "source": [
        "#DATA_DIR = os.path.join(TRAINING_DATA_DIR, 'splitted-train-dev-test', LANGUAGE_CODE)\n",
        "# DATA_DIR = os.path.join(TRAINING_DATA_DIR, 'fil-splitted-train-dev-test', LANGUAGE_CODE)\n",
        "DATA_DIR = r'/content/drive/MyDrive/afrisent-semeval-2023/SubtaskA/train/split-dz'#os.path.join(TRAINING_DATA_DIR, 'fil-splitted-train-dev-test', LANGUAGE_CODE)\n",
        "OUTPUT_DIR = os.path.join(PROJECT_DIR, 'models', LANGUAGE_CODE)\n",
        "\n",
        "#python starter_kit/run_textclass.py \\\n",
        "!CUDA_VISIBLE_DEVICES=0 python starter_kit/run_textclass.py \\\n",
        "  --model_name_or_path {MODEL_NAME_OR_PATH} \\\n",
        "  --data_dir {DATA_DIR} \\\n",
        "  --do_train \\\n",
        "  --do_eval \\\n",
        "  --do_predict \\\n",
        "  --per_device_train_batch_size {BATCH_SIZE} \\\n",
        "  --learning_rate {LEARNING_RATE} \\\n",
        "  --num_train_epochs {NUMBER_OF_TRAINING_EPOCHS} \\\n",
        "  --max_seq_length {MAXIMUM_SEQUENCE_LENGTH} \\\n",
        "  --output_dir {OUTPUT_DIR} \\\n",
        "  --save_steps {SAVE_STEPS} \\\n",
        "  --overwrite_output_dir\n"
      ],
      "metadata": {
        "colab": {
          "base_uri": "https://localhost:8080/"
        },
        "id": "5B2zJbEo6BiX",
        "outputId": "f8ca9ad8-c3fd-4f34-daf9-2167aaedea27"
      },
      "execution_count": 99,
      "outputs": [
        {
          "output_type": "stream",
          "name": "stdout",
          "text": [
            "WARNING:__main__:Process rank: -1, device: cuda:0, n_gpu: 1distributed training: False, 16-bits training: False\n",
            "INFO:__main__:Training/evaluation parameters TrainingArguments(\n",
            "_n_gpu=1,\n",
            "adafactor=False,\n",
            "adam_beta1=0.9,\n",
            "adam_beta2=0.999,\n",
            "adam_epsilon=1e-08,\n",
            "auto_find_batch_size=False,\n",
            "bf16=False,\n",
            "bf16_full_eval=False,\n",
            "data_seed=None,\n",
            "dataloader_drop_last=False,\n",
            "dataloader_num_workers=0,\n",
            "dataloader_pin_memory=True,\n",
            "ddp_bucket_cap_mb=None,\n",
            "ddp_find_unused_parameters=None,\n",
            "ddp_timeout=1800,\n",
            "debug=[],\n",
            "deepspeed=None,\n",
            "disable_tqdm=False,\n",
            "do_eval=True,\n",
            "do_predict=True,\n",
            "do_train=True,\n",
            "eval_accumulation_steps=None,\n",
            "eval_delay=0,\n",
            "eval_steps=None,\n",
            "evaluation_strategy=no,\n",
            "fp16=False,\n",
            "fp16_backend=auto,\n",
            "fp16_full_eval=False,\n",
            "fp16_opt_level=O1,\n",
            "fsdp=[],\n",
            "fsdp_min_num_params=0,\n",
            "fsdp_transformer_layer_cls_to_wrap=None,\n",
            "full_determinism=False,\n",
            "gradient_accumulation_steps=1,\n",
            "gradient_checkpointing=False,\n",
            "greater_is_better=None,\n",
            "group_by_length=False,\n",
            "half_precision_backend=auto,\n",
            "hub_model_id=None,\n",
            "hub_private_repo=False,\n",
            "hub_strategy=every_save,\n",
            "hub_token=<HUB_TOKEN>,\n",
            "ignore_data_skip=False,\n",
            "include_inputs_for_metrics=False,\n",
            "jit_mode_eval=False,\n",
            "label_names=None,\n",
            "label_smoothing_factor=0.0,\n",
            "learning_rate=2e-05,\n",
            "length_column_name=length,\n",
            "load_best_model_at_end=False,\n",
            "local_rank=-1,\n",
            "log_level=passive,\n",
            "log_level_replica=passive,\n",
            "log_on_each_node=True,\n",
            "logging_dir=/content/drive/MyDrive/afrisent-semeval-2023/models/dz/runs/Nov30_06-20-50_d19f89cb9aa7,\n",
            "logging_first_step=False,\n",
            "logging_nan_inf_filter=True,\n",
            "logging_steps=500,\n",
            "logging_strategy=steps,\n",
            "lr_scheduler_type=linear,\n",
            "max_grad_norm=1.0,\n",
            "max_steps=-1,\n",
            "metric_for_best_model=None,\n",
            "mp_parameters=,\n",
            "no_cuda=False,\n",
            "num_train_epochs=2.0,\n",
            "optim=adamw_hf,\n",
            "output_dir=/content/drive/MyDrive/afrisent-semeval-2023/models/dz,\n",
            "overwrite_output_dir=True,\n",
            "past_index=-1,\n",
            "per_device_eval_batch_size=8,\n",
            "per_device_train_batch_size=8,\n",
            "prediction_loss_only=False,\n",
            "push_to_hub=False,\n",
            "push_to_hub_model_id=None,\n",
            "push_to_hub_organization=None,\n",
            "push_to_hub_token=<PUSH_TO_HUB_TOKEN>,\n",
            "ray_scope=last,\n",
            "remove_unused_columns=True,\n",
            "report_to=['tensorboard'],\n",
            "resume_from_checkpoint=None,\n",
            "run_name=/content/drive/MyDrive/afrisent-semeval-2023/models/dz,\n",
            "save_on_each_node=False,\n",
            "save_steps=-1,\n",
            "save_strategy=steps,\n",
            "save_total_limit=None,\n",
            "seed=42,\n",
            "sharded_ddp=[],\n",
            "skip_memory_metrics=True,\n",
            "tf32=None,\n",
            "torchdynamo=None,\n",
            "tpu_metrics_debug=False,\n",
            "tpu_num_cores=None,\n",
            "use_ipex=False,\n",
            "use_legacy_prediction_loop=False,\n",
            "use_mps_device=False,\n",
            "warmup_ratio=0.0,\n",
            "warmup_steps=0,\n",
            "weight_decay=0.0,\n",
            "xpu_backend=None,\n",
            ")\n",
            "['negative', 'positive', 'neutral']\n",
            "[INFO|configuration_utils.py:654] 2022-11-30 06:20:51,248 >> loading configuration file config.json from cache at /root/.cache/huggingface/hub/models--alger-ia--dziribert/snapshots/dbce1283e1d19049e4197749cfecc66f7f8c778a/config.json\n",
            "[INFO|configuration_utils.py:706] 2022-11-30 06:20:51,254 >> Model config BertConfig {\n",
            "  \"_name_or_path\": \"alger-ia/dziribert\",\n",
            "  \"architectures\": [\n",
            "    \"BertForMaskedLM\"\n",
            "  ],\n",
            "  \"attention_probs_dropout_prob\": 0.1,\n",
            "  \"classifier_dropout\": null,\n",
            "  \"gradient_checkpointing\": false,\n",
            "  \"hidden_act\": \"gelu\",\n",
            "  \"hidden_dropout_prob\": 0.1,\n",
            "  \"hidden_size\": 768,\n",
            "  \"id2label\": {\n",
            "    \"0\": \"LABEL_0\",\n",
            "    \"1\": \"LABEL_1\",\n",
            "    \"2\": \"LABEL_2\"\n",
            "  },\n",
            "  \"initializer_range\": 0.02,\n",
            "  \"intermediate_size\": 3072,\n",
            "  \"label2id\": {\n",
            "    \"LABEL_0\": 0,\n",
            "    \"LABEL_1\": 1,\n",
            "    \"LABEL_2\": 2\n",
            "  },\n",
            "  \"layer_norm_eps\": 1e-12,\n",
            "  \"max_position_embeddings\": 512,\n",
            "  \"model_type\": \"bert\",\n",
            "  \"num_attention_heads\": 12,\n",
            "  \"num_hidden_layers\": 12,\n",
            "  \"pad_token_id\": 0,\n",
            "  \"position_embedding_type\": \"absolute\",\n",
            "  \"transformers_version\": \"4.24.0\",\n",
            "  \"type_vocab_size\": 2,\n",
            "  \"use_cache\": true,\n",
            "  \"vocab_size\": 50000\n",
            "}\n",
            "\n",
            "[INFO|configuration_utils.py:654] 2022-11-30 06:20:52,223 >> loading configuration file config.json from cache at /root/.cache/huggingface/hub/models--alger-ia--dziribert/snapshots/dbce1283e1d19049e4197749cfecc66f7f8c778a/config.json\n",
            "[INFO|configuration_utils.py:706] 2022-11-30 06:20:52,224 >> Model config BertConfig {\n",
            "  \"_name_or_path\": \"alger-ia/dziribert\",\n",
            "  \"architectures\": [\n",
            "    \"BertForMaskedLM\"\n",
            "  ],\n",
            "  \"attention_probs_dropout_prob\": 0.1,\n",
            "  \"classifier_dropout\": null,\n",
            "  \"gradient_checkpointing\": false,\n",
            "  \"hidden_act\": \"gelu\",\n",
            "  \"hidden_dropout_prob\": 0.1,\n",
            "  \"hidden_size\": 768,\n",
            "  \"initializer_range\": 0.02,\n",
            "  \"intermediate_size\": 3072,\n",
            "  \"layer_norm_eps\": 1e-12,\n",
            "  \"max_position_embeddings\": 512,\n",
            "  \"model_type\": \"bert\",\n",
            "  \"num_attention_heads\": 12,\n",
            "  \"num_hidden_layers\": 12,\n",
            "  \"pad_token_id\": 0,\n",
            "  \"position_embedding_type\": \"absolute\",\n",
            "  \"transformers_version\": \"4.24.0\",\n",
            "  \"type_vocab_size\": 2,\n",
            "  \"use_cache\": true,\n",
            "  \"vocab_size\": 50000\n",
            "}\n",
            "\n",
            "[INFO|tokenization_utils_base.py:1775] 2022-11-30 06:20:52,225 >> loading file vocab.txt from cache at /root/.cache/huggingface/hub/models--alger-ia--dziribert/snapshots/dbce1283e1d19049e4197749cfecc66f7f8c778a/vocab.txt\n",
            "[INFO|tokenization_utils_base.py:1775] 2022-11-30 06:20:52,225 >> loading file tokenizer.json from cache at None\n",
            "[INFO|tokenization_utils_base.py:1775] 2022-11-30 06:20:52,225 >> loading file added_tokens.json from cache at None\n",
            "[INFO|tokenization_utils_base.py:1775] 2022-11-30 06:20:52,225 >> loading file special_tokens_map.json from cache at None\n",
            "[INFO|tokenization_utils_base.py:1775] 2022-11-30 06:20:52,225 >> loading file tokenizer_config.json from cache at /root/.cache/huggingface/hub/models--alger-ia--dziribert/snapshots/dbce1283e1d19049e4197749cfecc66f7f8c778a/tokenizer_config.json\n",
            "[INFO|configuration_utils.py:654] 2022-11-30 06:20:52,226 >> loading configuration file config.json from cache at /root/.cache/huggingface/hub/models--alger-ia--dziribert/snapshots/dbce1283e1d19049e4197749cfecc66f7f8c778a/config.json\n",
            "[INFO|configuration_utils.py:706] 2022-11-30 06:20:52,226 >> Model config BertConfig {\n",
            "  \"_name_or_path\": \"alger-ia/dziribert\",\n",
            "  \"architectures\": [\n",
            "    \"BertForMaskedLM\"\n",
            "  ],\n",
            "  \"attention_probs_dropout_prob\": 0.1,\n",
            "  \"classifier_dropout\": null,\n",
            "  \"gradient_checkpointing\": false,\n",
            "  \"hidden_act\": \"gelu\",\n",
            "  \"hidden_dropout_prob\": 0.1,\n",
            "  \"hidden_size\": 768,\n",
            "  \"initializer_range\": 0.02,\n",
            "  \"intermediate_size\": 3072,\n",
            "  \"layer_norm_eps\": 1e-12,\n",
            "  \"max_position_embeddings\": 512,\n",
            "  \"model_type\": \"bert\",\n",
            "  \"num_attention_heads\": 12,\n",
            "  \"num_hidden_layers\": 12,\n",
            "  \"pad_token_id\": 0,\n",
            "  \"position_embedding_type\": \"absolute\",\n",
            "  \"transformers_version\": \"4.24.0\",\n",
            "  \"type_vocab_size\": 2,\n",
            "  \"use_cache\": true,\n",
            "  \"vocab_size\": 50000\n",
            "}\n",
            "\n",
            "[INFO|configuration_utils.py:654] 2022-11-30 06:20:52,276 >> loading configuration file config.json from cache at /root/.cache/huggingface/hub/models--alger-ia--dziribert/snapshots/dbce1283e1d19049e4197749cfecc66f7f8c778a/config.json\n",
            "[INFO|configuration_utils.py:706] 2022-11-30 06:20:52,277 >> Model config BertConfig {\n",
            "  \"_name_or_path\": \"alger-ia/dziribert\",\n",
            "  \"architectures\": [\n",
            "    \"BertForMaskedLM\"\n",
            "  ],\n",
            "  \"attention_probs_dropout_prob\": 0.1,\n",
            "  \"classifier_dropout\": null,\n",
            "  \"gradient_checkpointing\": false,\n",
            "  \"hidden_act\": \"gelu\",\n",
            "  \"hidden_dropout_prob\": 0.1,\n",
            "  \"hidden_size\": 768,\n",
            "  \"initializer_range\": 0.02,\n",
            "  \"intermediate_size\": 3072,\n",
            "  \"layer_norm_eps\": 1e-12,\n",
            "  \"max_position_embeddings\": 512,\n",
            "  \"model_type\": \"bert\",\n",
            "  \"num_attention_heads\": 12,\n",
            "  \"num_hidden_layers\": 12,\n",
            "  \"pad_token_id\": 0,\n",
            "  \"position_embedding_type\": \"absolute\",\n",
            "  \"transformers_version\": \"4.24.0\",\n",
            "  \"type_vocab_size\": 2,\n",
            "  \"use_cache\": true,\n",
            "  \"vocab_size\": 50000\n",
            "}\n",
            "\n",
            "[INFO|modeling_utils.py:2158] 2022-11-30 06:20:52,318 >> loading weights file pytorch_model.bin from cache at /root/.cache/huggingface/hub/models--alger-ia--dziribert/snapshots/dbce1283e1d19049e4197749cfecc66f7f8c778a/pytorch_model.bin\n",
            "[WARNING|modeling_utils.py:2599] 2022-11-30 06:20:53,668 >> Some weights of the model checkpoint at alger-ia/dziribert were not used when initializing BertForSequenceClassification: ['cls.predictions.transform.dense.bias', 'cls.predictions.transform.LayerNorm.weight', 'cls.predictions.transform.LayerNorm.bias', 'cls.predictions.transform.dense.weight', 'cls.predictions.decoder.bias', 'cls.predictions.decoder.weight', 'cls.predictions.bias']\n",
            "- This IS expected if you are initializing BertForSequenceClassification from the checkpoint of a model trained on another task or with another architecture (e.g. initializing a BertForSequenceClassification model from a BertForPreTraining model).\n",
            "- This IS NOT expected if you are initializing BertForSequenceClassification from the checkpoint of a model that you expect to be exactly identical (initializing a BertForSequenceClassification model from a BertForSequenceClassification model).\n",
            "[WARNING|modeling_utils.py:2611] 2022-11-30 06:20:53,668 >> Some weights of BertForSequenceClassification were not initialized from the model checkpoint at alger-ia/dziribert and are newly initialized: ['bert.pooler.dense.weight', 'bert.pooler.dense.bias', 'classifier.weight', 'classifier.bias']\n",
            "You should probably TRAIN this model on a down-stream task to be able to use it for predictions and inference.\n",
            "Running tokenizer on train dataset: 100% 2/2 [00:00<00:00, 19.67ba/s]\n",
            "INFO:__main__:Sample 228 of the training set: {'label': 1, 'text': ' ونعم بك وباصلك يا خو شما', '__index_level_0__': 228, 'input_ids': [2, 3779, 2448, 2186, 25667, 1020, 1906, 2449, 11057, 3, 0, 0, 0, 0, 0, 0, 0, 0, 0, 0, 0, 0, 0, 0, 0, 0, 0, 0, 0, 0, 0, 0, 0, 0, 0, 0, 0, 0, 0, 0, 0, 0, 0, 0, 0, 0, 0, 0, 0, 0, 0, 0, 0, 0, 0, 0, 0, 0, 0, 0, 0, 0, 0, 0, 0, 0, 0, 0, 0, 0, 0, 0, 0, 0, 0, 0, 0, 0, 0, 0, 0, 0, 0, 0, 0, 0, 0, 0, 0, 0, 0, 0, 0, 0, 0, 0, 0, 0, 0, 0, 0, 0, 0, 0, 0, 0, 0, 0, 0, 0, 0, 0, 0, 0, 0, 0, 0, 0, 0, 0, 0, 0, 0, 0, 0, 0, 0, 0], 'token_type_ids': [0, 0, 0, 0, 0, 0, 0, 0, 0, 0, 0, 0, 0, 0, 0, 0, 0, 0, 0, 0, 0, 0, 0, 0, 0, 0, 0, 0, 0, 0, 0, 0, 0, 0, 0, 0, 0, 0, 0, 0, 0, 0, 0, 0, 0, 0, 0, 0, 0, 0, 0, 0, 0, 0, 0, 0, 0, 0, 0, 0, 0, 0, 0, 0, 0, 0, 0, 0, 0, 0, 0, 0, 0, 0, 0, 0, 0, 0, 0, 0, 0, 0, 0, 0, 0, 0, 0, 0, 0, 0, 0, 0, 0, 0, 0, 0, 0, 0, 0, 0, 0, 0, 0, 0, 0, 0, 0, 0, 0, 0, 0, 0, 0, 0, 0, 0, 0, 0, 0, 0, 0, 0, 0, 0, 0, 0, 0, 0], 'attention_mask': [1, 1, 1, 1, 1, 1, 1, 1, 1, 1, 0, 0, 0, 0, 0, 0, 0, 0, 0, 0, 0, 0, 0, 0, 0, 0, 0, 0, 0, 0, 0, 0, 0, 0, 0, 0, 0, 0, 0, 0, 0, 0, 0, 0, 0, 0, 0, 0, 0, 0, 0, 0, 0, 0, 0, 0, 0, 0, 0, 0, 0, 0, 0, 0, 0, 0, 0, 0, 0, 0, 0, 0, 0, 0, 0, 0, 0, 0, 0, 0, 0, 0, 0, 0, 0, 0, 0, 0, 0, 0, 0, 0, 0, 0, 0, 0, 0, 0, 0, 0, 0, 0, 0, 0, 0, 0, 0, 0, 0, 0, 0, 0, 0, 0, 0, 0, 0, 0, 0, 0, 0, 0, 0, 0, 0, 0, 0, 0]}.\n",
            "INFO:__main__:Sample 51 of the training set: {'label': 0, 'text': ' و هذا وقتاش نطق', '__index_level_0__': 51, 'input_ids': [2, 178, 2034, 12218, 17976, 3, 0, 0, 0, 0, 0, 0, 0, 0, 0, 0, 0, 0, 0, 0, 0, 0, 0, 0, 0, 0, 0, 0, 0, 0, 0, 0, 0, 0, 0, 0, 0, 0, 0, 0, 0, 0, 0, 0, 0, 0, 0, 0, 0, 0, 0, 0, 0, 0, 0, 0, 0, 0, 0, 0, 0, 0, 0, 0, 0, 0, 0, 0, 0, 0, 0, 0, 0, 0, 0, 0, 0, 0, 0, 0, 0, 0, 0, 0, 0, 0, 0, 0, 0, 0, 0, 0, 0, 0, 0, 0, 0, 0, 0, 0, 0, 0, 0, 0, 0, 0, 0, 0, 0, 0, 0, 0, 0, 0, 0, 0, 0, 0, 0, 0, 0, 0, 0, 0, 0, 0, 0, 0], 'token_type_ids': [0, 0, 0, 0, 0, 0, 0, 0, 0, 0, 0, 0, 0, 0, 0, 0, 0, 0, 0, 0, 0, 0, 0, 0, 0, 0, 0, 0, 0, 0, 0, 0, 0, 0, 0, 0, 0, 0, 0, 0, 0, 0, 0, 0, 0, 0, 0, 0, 0, 0, 0, 0, 0, 0, 0, 0, 0, 0, 0, 0, 0, 0, 0, 0, 0, 0, 0, 0, 0, 0, 0, 0, 0, 0, 0, 0, 0, 0, 0, 0, 0, 0, 0, 0, 0, 0, 0, 0, 0, 0, 0, 0, 0, 0, 0, 0, 0, 0, 0, 0, 0, 0, 0, 0, 0, 0, 0, 0, 0, 0, 0, 0, 0, 0, 0, 0, 0, 0, 0, 0, 0, 0, 0, 0, 0, 0, 0, 0], 'attention_mask': [1, 1, 1, 1, 1, 1, 0, 0, 0, 0, 0, 0, 0, 0, 0, 0, 0, 0, 0, 0, 0, 0, 0, 0, 0, 0, 0, 0, 0, 0, 0, 0, 0, 0, 0, 0, 0, 0, 0, 0, 0, 0, 0, 0, 0, 0, 0, 0, 0, 0, 0, 0, 0, 0, 0, 0, 0, 0, 0, 0, 0, 0, 0, 0, 0, 0, 0, 0, 0, 0, 0, 0, 0, 0, 0, 0, 0, 0, 0, 0, 0, 0, 0, 0, 0, 0, 0, 0, 0, 0, 0, 0, 0, 0, 0, 0, 0, 0, 0, 0, 0, 0, 0, 0, 0, 0, 0, 0, 0, 0, 0, 0, 0, 0, 0, 0, 0, 0, 0, 0, 0, 0, 0, 0, 0, 0, 0, 0]}.\n",
            "INFO:__main__:Sample 563 of the training set: {'label': 1, 'text': 'الحمد لله العلاقات الاجتماعية عندنا في أقصى درجاتها في بلادنا الجار علابالو بيك وقتاش تدخل للدار ووقتاش تخرج وقت ', '__index_level_0__': 563, 'input_ids': [2, 2720, 2292, 10128, 13614, 3365, 1821, 1, 18815, 1814, 1821, 5123, 24210, 20958, 3673, 12218, 4677, 8389, 35371, 1923, 3976, 2691, 3, 0, 0, 0, 0, 0, 0, 0, 0, 0, 0, 0, 0, 0, 0, 0, 0, 0, 0, 0, 0, 0, 0, 0, 0, 0, 0, 0, 0, 0, 0, 0, 0, 0, 0, 0, 0, 0, 0, 0, 0, 0, 0, 0, 0, 0, 0, 0, 0, 0, 0, 0, 0, 0, 0, 0, 0, 0, 0, 0, 0, 0, 0, 0, 0, 0, 0, 0, 0, 0, 0, 0, 0, 0, 0, 0, 0, 0, 0, 0, 0, 0, 0, 0, 0, 0, 0, 0, 0, 0, 0, 0, 0, 0, 0, 0, 0, 0, 0, 0, 0, 0, 0, 0, 0, 0], 'token_type_ids': [0, 0, 0, 0, 0, 0, 0, 0, 0, 0, 0, 0, 0, 0, 0, 0, 0, 0, 0, 0, 0, 0, 0, 0, 0, 0, 0, 0, 0, 0, 0, 0, 0, 0, 0, 0, 0, 0, 0, 0, 0, 0, 0, 0, 0, 0, 0, 0, 0, 0, 0, 0, 0, 0, 0, 0, 0, 0, 0, 0, 0, 0, 0, 0, 0, 0, 0, 0, 0, 0, 0, 0, 0, 0, 0, 0, 0, 0, 0, 0, 0, 0, 0, 0, 0, 0, 0, 0, 0, 0, 0, 0, 0, 0, 0, 0, 0, 0, 0, 0, 0, 0, 0, 0, 0, 0, 0, 0, 0, 0, 0, 0, 0, 0, 0, 0, 0, 0, 0, 0, 0, 0, 0, 0, 0, 0, 0, 0], 'attention_mask': [1, 1, 1, 1, 1, 1, 1, 1, 1, 1, 1, 1, 1, 1, 1, 1, 1, 1, 1, 1, 1, 1, 1, 0, 0, 0, 0, 0, 0, 0, 0, 0, 0, 0, 0, 0, 0, 0, 0, 0, 0, 0, 0, 0, 0, 0, 0, 0, 0, 0, 0, 0, 0, 0, 0, 0, 0, 0, 0, 0, 0, 0, 0, 0, 0, 0, 0, 0, 0, 0, 0, 0, 0, 0, 0, 0, 0, 0, 0, 0, 0, 0, 0, 0, 0, 0, 0, 0, 0, 0, 0, 0, 0, 0, 0, 0, 0, 0, 0, 0, 0, 0, 0, 0, 0, 0, 0, 0, 0, 0, 0, 0, 0, 0, 0, 0, 0, 0, 0, 0, 0, 0, 0, 0, 0, 0, 0, 0]}.\n",
            "Running tokenizer on validation dataset: 100% 1/1 [00:00<00:00, 48.18ba/s]\n",
            "Running tokenizer on prediction dataset: 100% 1/1 [00:00<00:00, 38.42ba/s]\n",
            "[INFO|trainer.py:726] 2022-11-30 06:20:57,477 >> The following columns in the training set don't have a corresponding argument in `BertForSequenceClassification.forward` and have been ignored: __index_level_0__, text. If __index_level_0__, text are not expected by `BertForSequenceClassification.forward`,  you can safely ignore this message.\n",
            "/usr/local/lib/python3.7/dist-packages/transformers/optimization.py:310: FutureWarning: This implementation of AdamW is deprecated and will be removed in a future version. Use the PyTorch implementation torch.optim.AdamW instead, or set `no_deprecation_warning=True` to disable this warning\n",
            "  FutureWarning,\n",
            "[INFO|trainer.py:1608] 2022-11-30 06:20:57,489 >> ***** Running training *****\n",
            "[INFO|trainer.py:1609] 2022-11-30 06:20:57,489 >>   Num examples = 1155\n",
            "[INFO|trainer.py:1610] 2022-11-30 06:20:57,489 >>   Num Epochs = 2\n",
            "[INFO|trainer.py:1611] 2022-11-30 06:20:57,489 >>   Instantaneous batch size per device = 8\n",
            "[INFO|trainer.py:1612] 2022-11-30 06:20:57,489 >>   Total train batch size (w. parallel, distributed & accumulation) = 8\n",
            "[INFO|trainer.py:1613] 2022-11-30 06:20:57,489 >>   Gradient Accumulation steps = 1\n",
            "[INFO|trainer.py:1614] 2022-11-30 06:20:57,489 >>   Total optimization steps = 290\n",
            "[INFO|trainer.py:1616] 2022-11-30 06:20:57,490 >>   Number of trainable parameters = 124443651\n",
            "100% 290/290 [00:57<00:00,  5.53it/s][INFO|trainer.py:1859] 2022-11-30 06:21:54,953 >> \n",
            "\n",
            "Training completed. Do not forget to share your model on huggingface.co/models =)\n",
            "\n",
            "\n",
            "{'train_runtime': 57.4664, 'train_samples_per_second': 40.197, 'train_steps_per_second': 5.046, 'train_loss': 0.6721597079573006, 'epoch': 2.0}\n",
            "100% 290/290 [00:57<00:00,  5.05it/s]\n",
            "[INFO|trainer.py:2678] 2022-11-30 06:21:54,963 >> Saving model checkpoint to /content/drive/MyDrive/afrisent-semeval-2023/models/dz\n",
            "[INFO|configuration_utils.py:447] 2022-11-30 06:21:54,968 >> Configuration saved in /content/drive/MyDrive/afrisent-semeval-2023/models/dz/config.json\n",
            "[INFO|modeling_utils.py:1624] 2022-11-30 06:21:56,978 >> Model weights saved in /content/drive/MyDrive/afrisent-semeval-2023/models/dz/pytorch_model.bin\n",
            "[INFO|tokenization_utils_base.py:2125] 2022-11-30 06:21:57,085 >> tokenizer config file saved in /content/drive/MyDrive/afrisent-semeval-2023/models/dz/tokenizer_config.json\n",
            "[INFO|tokenization_utils_base.py:2132] 2022-11-30 06:21:57,089 >> Special tokens file saved in /content/drive/MyDrive/afrisent-semeval-2023/models/dz/special_tokens_map.json\n",
            "***** train metrics *****\n",
            "  epoch                    =        2.0\n",
            "  train_loss               =     0.6722\n",
            "  train_runtime            = 0:00:57.46\n",
            "  train_samples            =       1155\n",
            "  train_samples_per_second =     40.197\n",
            "  train_steps_per_second   =      5.046\n",
            "INFO:__main__:*** Evaluate ***\n",
            "[INFO|trainer.py:726] 2022-11-30 06:21:57,636 >> The following columns in the evaluation set don't have a corresponding argument in `BertForSequenceClassification.forward` and have been ignored: __index_level_0__, text. If __index_level_0__, text are not expected by `BertForSequenceClassification.forward`,  you can safely ignore this message.\n",
            "[INFO|trainer.py:2929] 2022-11-30 06:21:57,638 >> ***** Running Evaluation *****\n",
            "[INFO|trainer.py:2931] 2022-11-30 06:21:57,638 >>   Num examples = 248\n",
            "[INFO|trainer.py:2934] 2022-11-30 06:21:57,638 >>   Batch size = 8\n",
            "100% 31/31 [00:01<00:00, 17.40it/s]\n",
            "***** eval metrics *****\n",
            "  epoch                   =        2.0\n",
            "  eval_accuracy           =     0.7298\n",
            "  eval_loss               =      0.661\n",
            "  eval_runtime            = 0:00:01.86\n",
            "  eval_samples            =        248\n",
            "  eval_samples_per_second =    133.227\n",
            "  eval_steps_per_second   =     16.653\n",
            "INFO:__main__:*** Predict ***\n",
            "[INFO|trainer.py:726] 2022-11-30 06:21:59,513 >> The following columns in the test set don't have a corresponding argument in `BertForSequenceClassification.forward` and have been ignored: __index_level_0__, text. If __index_level_0__, text are not expected by `BertForSequenceClassification.forward`,  you can safely ignore this message.\n",
            "[INFO|trainer.py:2929] 2022-11-30 06:21:59,514 >> ***** Running Prediction *****\n",
            "[INFO|trainer.py:2931] 2022-11-30 06:21:59,515 >>   Num examples = 248\n",
            "[INFO|trainer.py:2934] 2022-11-30 06:21:59,515 >>   Batch size = 8\n",
            "100% 31/31 [00:01<00:00, 17.50it/s]\n",
            "***** predict metrics *****\n",
            "  predict_accuracy           =     0.6613\n",
            "  predict_loss               =     0.7614\n",
            "  predict_runtime            = 0:00:01.82\n",
            "  predict_samples            =        248\n",
            "  predict_samples_per_second =    136.112\n",
            "  predict_steps_per_second   =     17.014\n"
          ]
        }
      ]
    },
    {
      "cell_type": "markdown",
      "source": [
        "### Do the predictions on the test set"
      ],
      "metadata": {
        "id": "bHh6o5cW6hDm"
      }
    },
    {
      "cell_type": "code",
      "source": [
        "## file will be saved in submission folder\n",
        "\n",
        "%cd {PROJECT_DIR}\n",
        "\n",
        "OUTPUT_DIR = os.path.join(PROJECT_DIR, 'models', LANGUAGE_CODE)\n",
        "# FILE_NAME = os.path.join(PROJECT_DIR, TASK, 'train', 'fil-splitted-train-dev-test', LANGUAGE_CODE, 'test.tsv')  ## test file name\n",
        "FILE_NAME = r'/content/drive/MyDrive/afrisent-semeval-2023/SubtaskA/train/split-dz/test.tsv'## test file name\n",
        "TEXT_COLUMN = 'text'\n",
        "\n",
        "## file will be saved in submission folder\n",
        "!python starter_kit/run_predict.py \\\n",
        "  --model_path {OUTPUT_DIR} \\\n",
        "  --file_name {FILE_NAME} \\\n",
        "  --text_column {TEXT_COLUMN} \\\n",
        "  --lang_code {LANGUAGE_CODE}\n",
        "\n",
        "print('current language code is:', LANGUAGE_CODE)\n",
        "print('current model path is:', OUTPUT_DIR)"
      ],
      "metadata": {
        "colab": {
          "base_uri": "https://localhost:8080/"
        },
        "id": "kfQb0mUurT8P",
        "outputId": "468329af-99fa-4f51-d550-fc574a7fb4ae"
      },
      "execution_count": 100,
      "outputs": [
        {
          "output_type": "stream",
          "name": "stdout",
          "text": [
            "/content/drive/MyDrive/afrisent-semeval-2023\n",
            "***** Running Prediction *****\n",
            "  Num examples = 248\n",
            "  Batch size = 8\n",
            "100% 31/31 [00:00<00:00, 46.76it/s]\n",
            "Data directory found.\n",
            "current language code is: dz\n",
            "current model path is: /content/drive/MyDrive/afrisent-semeval-2023/models/dz\n"
          ]
        }
      ]
    },
    {
      "cell_type": "markdown",
      "source": [
        "## b. evaluation method"
      ],
      "metadata": {
        "id": "L2XtrvdfGsy9"
      }
    },
    {
      "cell_type": "code",
      "source": [
        "import pandas as pd\n",
        "from sklearn.metrics import classification_report\n",
        "\n",
        "def evaluate(file_true, file_pred):\n",
        "\n",
        "  df_true = pd.read_csv(file_true, sep='\\t')\n",
        "  df_pred = pd.read_csv(file_pred, sep='\\t')\n",
        "  true = df_true.label\n",
        "  pred = df_pred.label\n",
        "  return classification_report(true, pred)"
      ],
      "metadata": {
        "id": "r6n44sWJ2duJ"
      },
      "execution_count": 101,
      "outputs": []
    },
    {
      "cell_type": "markdown",
      "source": [
        "## c. get scores for 'dz'"
      ],
      "metadata": {
        "id": "VC1urrfD5ers"
      }
    },
    {
      "cell_type": "code",
      "source": [
        "LANGUAGE_CODE = 'dz'\n",
        "file_true = r'/content/drive/MyDrive/afrisent-semeval-2023/SubtaskA/train/split-dz/test.tsv'## test file name\n",
        "file_pred = os.path.join(PROJECT_DIR, 'models', LANGUAGE_CODE, 'submission', 'pred_' + LANGUAGE_CODE + '.tsv')\n",
        "print(evaluate(file_true, file_pred))"
      ],
      "metadata": {
        "colab": {
          "base_uri": "https://localhost:8080/"
        },
        "id": "fYQg06BV4I7n",
        "outputId": "0d07371f-0407-4905-e446-27fd363aa24c"
      },
      "execution_count": 102,
      "outputs": [
        {
          "output_type": "stream",
          "name": "stdout",
          "text": [
            "              precision    recall  f1-score   support\n",
            "\n",
            "    negative       0.71      0.82      0.76       126\n",
            "     neutral       0.41      0.39      0.40        49\n",
            "    positive       0.75      0.58      0.65        73\n",
            "\n",
            "    accuracy                           0.66       248\n",
            "   macro avg       0.62      0.59      0.60       248\n",
            "weighted avg       0.66      0.66      0.66       248\n",
            "\n"
          ]
        }
      ]
    },
    {
      "cell_type": "code",
      "source": [
        "df_true = pd.read_csv(file_true, sep='\\t')\n",
        "df_pred = pd.read_csv(file_pred, sep='\\t')\n",
        "true = df_true.label\n",
        "pred = df_pred.label"
      ],
      "metadata": {
        "id": "nd6egxtU40aC"
      },
      "execution_count": 103,
      "outputs": []
    },
    {
      "cell_type": "code",
      "source": [
        "print(classification_report(true,pred))\n",
        "print(\"f1-score:\")\n",
        "print(f1_score(true,pred, average='macro'))\n",
        "print(\"Accuarcy:\")\n",
        "print(accuracy_score(true,pred) )\n",
        "print(\"Precision:\")\n",
        "print(precision_score(true,pred, average=None))\n",
        "print(\"Recall:\")\n",
        "print(recall_score(true,pred, average=None))"
      ],
      "metadata": {
        "colab": {
          "base_uri": "https://localhost:8080/"
        },
        "id": "yVdQm30G7FQ3",
        "outputId": "8c3f42e7-1d86-43c0-a2fc-a0dbd007f312"
      },
      "execution_count": 104,
      "outputs": [
        {
          "output_type": "stream",
          "name": "stdout",
          "text": [
            "              precision    recall  f1-score   support\n",
            "\n",
            "    negative       0.71      0.82      0.76       126\n",
            "     neutral       0.41      0.39      0.40        49\n",
            "    positive       0.75      0.58      0.65        73\n",
            "\n",
            "    accuracy                           0.66       248\n",
            "   macro avg       0.62      0.59      0.60       248\n",
            "weighted avg       0.66      0.66      0.66       248\n",
            "\n",
            "f1-score:\n",
            "0.6028385772913816\n",
            "Accuarcy:\n",
            "0.6612903225806451\n",
            "Precision:\n",
            "[0.70547945 0.41304348 0.75      ]\n",
            "Recall:\n",
            "[0.81746032 0.3877551  0.57534247]\n"
          ]
        }
      ]
    }
  ],
  "metadata": {
    "accelerator": "GPU",
    "colab": {
      "provenance": []
    },
    "kernelspec": {
      "display_name": "Python 3.9.12",
      "language": "python",
      "name": "python3"
    },
    "language_info": {
      "name": "python",
      "version": "3.9.12"
    },
    "vscode": {
      "interpreter": {
        "hash": "d203a7fbe37afbb990fedfc21c321928443618f3d7b991e0237ff71906aa031f"
      }
    },
    "gpuClass": "standard"
  },
  "nbformat": 4,
  "nbformat_minor": 0
}