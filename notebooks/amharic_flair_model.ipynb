{
  "cells": [
    {
      "cell_type": "code",
      "execution_count": 1,
      "metadata": {
        "colab": {
          "base_uri": "https://localhost:8080/"
        },
        "id": "Ub3jyMmP9lEV",
        "outputId": "d952ecb0-589f-4eaf-cb91-c36c4dd60b19"
      },
      "outputs": [
        {
          "output_type": "stream",
          "name": "stdout",
          "text": [
            "Mounted at /content/drive\n"
          ]
        }
      ],
      "source": [
        "from google.colab import drive\n",
        "drive.mount('/content/drive')"
      ]
    },
    {
      "cell_type": "code",
      "execution_count": 2,
      "metadata": {
        "colab": {
          "base_uri": "https://localhost:8080/"
        },
        "id": "0llMzAm19oEM",
        "outputId": "cf19afac-b394-4748-e827-34154b2026ee"
      },
      "outputs": [
        {
          "output_type": "stream",
          "name": "stdout",
          "text": [
            "/content/drive/MyDrive\n"
          ]
        }
      ],
      "source": [
        "%cd /content/drive/MyDrive\n",
        "\n",
        "import os\n",
        "\n",
        "PROJECT_DIR = '/content/drive/MyDrive/afrisent-semeval-2023'"
      ]
    },
    {
      "cell_type": "code",
      "execution_count": 3,
      "metadata": {
        "colab": {
          "base_uri": "https://localhost:8080/"
        },
        "id": "Tt0o_iLN9oG9",
        "outputId": "c5231063-0d0c-4e6f-84dc-35d237b7c4d6"
      },
      "outputs": [
        {
          "output_type": "stream",
          "name": "stdout",
          "text": [
            "Looking in indexes: https://pypi.org/simple, https://us-python.pkg.dev/colab-wheels/public/simple/\n",
            "Collecting wget\n",
            "  Downloading wget-3.2.zip (10 kB)\n",
            "Building wheels for collected packages: wget\n",
            "  Building wheel for wget (setup.py) ... \u001b[?25l\u001b[?25hdone\n",
            "  Created wheel for wget: filename=wget-3.2-py3-none-any.whl size=9674 sha256=3c88737ab6cf016d7da5e5df237625955d53195c6231337fab890c9276536158\n",
            "  Stored in directory: /root/.cache/pip/wheels/a1/b6/7c/0e63e34eb06634181c63adacca38b79ff8f35c37e3c13e3c02\n",
            "Successfully built wget\n",
            "Installing collected packages: wget\n",
            "Successfully installed wget-3.2\n",
            "Looking in indexes: https://pypi.org/simple, https://us-python.pkg.dev/colab-wheels/public/simple/\n",
            "Collecting flair\n",
            "  Downloading flair-0.11.3-py3-none-any.whl (401 kB)\n",
            "\u001b[K     |████████████████████████████████| 401 kB 32.8 MB/s \n",
            "\u001b[?25hRequirement already satisfied: gensim>=3.4.0 in /usr/local/lib/python3.7/dist-packages (from flair) (3.6.0)\n",
            "Collecting bpemb>=0.3.2\n",
            "  Downloading bpemb-0.3.4-py3-none-any.whl (19 kB)\n",
            "Requirement already satisfied: torch!=1.8,>=1.5.0 in /usr/local/lib/python3.7/dist-packages (from flair) (1.12.1+cu113)\n",
            "Requirement already satisfied: gdown==4.4.0 in /usr/local/lib/python3.7/dist-packages (from flair) (4.4.0)\n",
            "Collecting sentencepiece==0.1.95\n",
            "  Downloading sentencepiece-0.1.95-cp37-cp37m-manylinux2014_x86_64.whl (1.2 MB)\n",
            "\u001b[K     |████████████████████████████████| 1.2 MB 59.8 MB/s \n",
            "\u001b[?25hCollecting pptree\n",
            "  Downloading pptree-3.1.tar.gz (3.0 kB)\n",
            "Collecting ftfy\n",
            "  Downloading ftfy-6.1.1-py3-none-any.whl (53 kB)\n",
            "\u001b[K     |████████████████████████████████| 53 kB 2.2 MB/s \n",
            "\u001b[?25hCollecting hyperopt>=0.2.7\n",
            "  Downloading hyperopt-0.2.7-py2.py3-none-any.whl (1.6 MB)\n",
            "\u001b[K     |████████████████████████████████| 1.6 MB 57.1 MB/s \n",
            "\u001b[?25hRequirement already satisfied: matplotlib>=2.2.3 in /usr/local/lib/python3.7/dist-packages (from flair) (3.2.2)\n",
            "Requirement already satisfied: more-itertools in /usr/local/lib/python3.7/dist-packages (from flair) (9.0.0)\n",
            "Collecting mpld3==0.3\n",
            "  Downloading mpld3-0.3.tar.gz (788 kB)\n",
            "\u001b[K     |████████████████████████████████| 788 kB 58.6 MB/s \n",
            "\u001b[?25hRequirement already satisfied: python-dateutil>=2.6.1 in /usr/local/lib/python3.7/dist-packages (from flair) (2.8.2)\n",
            "Collecting huggingface-hub\n",
            "  Downloading huggingface_hub-0.11.0-py3-none-any.whl (182 kB)\n",
            "\u001b[K     |████████████████████████████████| 182 kB 71.8 MB/s \n",
            "\u001b[?25hCollecting janome\n",
            "  Downloading Janome-0.4.2-py2.py3-none-any.whl (19.7 MB)\n",
            "\u001b[K     |████████████████████████████████| 19.7 MB 377 kB/s \n",
            "\u001b[?25hCollecting langdetect\n",
            "  Downloading langdetect-1.0.9.tar.gz (981 kB)\n",
            "\u001b[K     |████████████████████████████████| 981 kB 68.5 MB/s \n",
            "\u001b[?25hCollecting deprecated>=1.2.4\n",
            "  Downloading Deprecated-1.2.13-py2.py3-none-any.whl (9.6 kB)\n",
            "Requirement already satisfied: tabulate in /usr/local/lib/python3.7/dist-packages (from flair) (0.8.10)\n",
            "Requirement already satisfied: scikit-learn>=0.21.3 in /usr/local/lib/python3.7/dist-packages (from flair) (1.0.2)\n",
            "Requirement already satisfied: lxml in /usr/local/lib/python3.7/dist-packages (from flair) (4.9.1)\n",
            "Collecting segtok>=1.5.7\n",
            "  Downloading segtok-1.5.11-py3-none-any.whl (24 kB)\n",
            "Requirement already satisfied: regex in /usr/local/lib/python3.7/dist-packages (from flair) (2022.6.2)\n",
            "Collecting conllu>=4.0\n",
            "  Downloading conllu-4.5.2-py2.py3-none-any.whl (16 kB)\n",
            "Collecting wikipedia-api\n",
            "  Downloading Wikipedia-API-0.5.4.tar.gz (18 kB)\n",
            "Collecting sqlitedict>=1.6.0\n",
            "  Downloading sqlitedict-2.0.0.tar.gz (46 kB)\n",
            "\u001b[K     |████████████████████████████████| 46 kB 4.9 MB/s \n",
            "\u001b[?25hCollecting konoha<5.0.0,>=4.0.0\n",
            "  Downloading konoha-4.6.5-py3-none-any.whl (20 kB)\n",
            "Collecting transformers>=4.0.0\n",
            "  Downloading transformers-4.24.0-py3-none-any.whl (5.5 MB)\n",
            "\u001b[K     |████████████████████████████████| 5.5 MB 50.4 MB/s \n",
            "\u001b[?25hRequirement already satisfied: tqdm>=4.26.0 in /usr/local/lib/python3.7/dist-packages (from flair) (4.64.1)\n",
            "Requirement already satisfied: beautifulsoup4 in /usr/local/lib/python3.7/dist-packages (from gdown==4.4.0->flair) (4.6.3)\n",
            "Requirement already satisfied: filelock in /usr/local/lib/python3.7/dist-packages (from gdown==4.4.0->flair) (3.8.0)\n",
            "Requirement already satisfied: requests[socks] in /usr/local/lib/python3.7/dist-packages (from gdown==4.4.0->flair) (2.23.0)\n",
            "Requirement already satisfied: six in /usr/local/lib/python3.7/dist-packages (from gdown==4.4.0->flair) (1.15.0)\n",
            "Requirement already satisfied: numpy in /usr/local/lib/python3.7/dist-packages (from bpemb>=0.3.2->flair) (1.21.6)\n",
            "Requirement already satisfied: wrapt<2,>=1.10 in /usr/local/lib/python3.7/dist-packages (from deprecated>=1.2.4->flair) (1.14.1)\n",
            "Requirement already satisfied: scipy>=0.18.1 in /usr/local/lib/python3.7/dist-packages (from gensim>=3.4.0->flair) (1.7.3)\n",
            "Requirement already satisfied: smart-open>=1.2.1 in /usr/local/lib/python3.7/dist-packages (from gensim>=3.4.0->flair) (5.2.1)\n",
            "Requirement already satisfied: future in /usr/local/lib/python3.7/dist-packages (from hyperopt>=0.2.7->flair) (0.16.0)\n",
            "Requirement already satisfied: cloudpickle in /usr/local/lib/python3.7/dist-packages (from hyperopt>=0.2.7->flair) (1.5.0)\n",
            "Collecting py4j\n",
            "  Downloading py4j-0.10.9.7-py2.py3-none-any.whl (200 kB)\n",
            "\u001b[K     |████████████████████████████████| 200 kB 69.6 MB/s \n",
            "\u001b[?25hRequirement already satisfied: networkx>=2.2 in /usr/local/lib/python3.7/dist-packages (from hyperopt>=0.2.7->flair) (2.6.3)\n",
            "Collecting importlib-metadata<4.0.0,>=3.7.0\n",
            "  Downloading importlib_metadata-3.10.1-py3-none-any.whl (14 kB)\n",
            "Collecting requests\n",
            "  Downloading requests-2.28.1-py3-none-any.whl (62 kB)\n",
            "\u001b[K     |████████████████████████████████| 62 kB 1.9 MB/s \n",
            "\u001b[?25hCollecting overrides<4.0.0,>=3.0.0\n",
            "  Downloading overrides-3.1.0.tar.gz (11 kB)\n",
            "Requirement already satisfied: typing-extensions>=3.6.4 in /usr/local/lib/python3.7/dist-packages (from importlib-metadata<4.0.0,>=3.7.0->konoha<5.0.0,>=4.0.0->flair) (4.1.1)\n",
            "Requirement already satisfied: zipp>=0.5 in /usr/local/lib/python3.7/dist-packages (from importlib-metadata<4.0.0,>=3.7.0->konoha<5.0.0,>=4.0.0->flair) (3.10.0)\n",
            "Requirement already satisfied: kiwisolver>=1.0.1 in /usr/local/lib/python3.7/dist-packages (from matplotlib>=2.2.3->flair) (1.4.4)\n",
            "Requirement already satisfied: cycler>=0.10 in /usr/local/lib/python3.7/dist-packages (from matplotlib>=2.2.3->flair) (0.11.0)\n",
            "Requirement already satisfied: pyparsing!=2.0.4,!=2.1.2,!=2.1.6,>=2.0.1 in /usr/local/lib/python3.7/dist-packages (from matplotlib>=2.2.3->flair) (3.0.9)\n",
            "Requirement already satisfied: urllib3<1.27,>=1.21.1 in /usr/local/lib/python3.7/dist-packages (from requests->bpemb>=0.3.2->flair) (1.24.3)\n",
            "Requirement already satisfied: charset-normalizer<3,>=2 in /usr/local/lib/python3.7/dist-packages (from requests->bpemb>=0.3.2->flair) (2.1.1)\n",
            "Requirement already satisfied: idna<4,>=2.5 in /usr/local/lib/python3.7/dist-packages (from requests->bpemb>=0.3.2->flair) (2.10)\n",
            "Requirement already satisfied: certifi>=2017.4.17 in /usr/local/lib/python3.7/dist-packages (from requests->bpemb>=0.3.2->flair) (2022.9.24)\n",
            "Requirement already satisfied: threadpoolctl>=2.0.0 in /usr/local/lib/python3.7/dist-packages (from scikit-learn>=0.21.3->flair) (3.1.0)\n",
            "Requirement already satisfied: joblib>=0.11 in /usr/local/lib/python3.7/dist-packages (from scikit-learn>=0.21.3->flair) (1.2.0)\n",
            "Collecting tokenizers!=0.11.3,<0.14,>=0.11.1\n",
            "  Downloading tokenizers-0.13.2-cp37-cp37m-manylinux_2_17_x86_64.manylinux2014_x86_64.whl (7.6 MB)\n",
            "\u001b[K     |████████████████████████████████| 7.6 MB 61.7 MB/s \n",
            "\u001b[?25hRequirement already satisfied: pyyaml>=5.1 in /usr/local/lib/python3.7/dist-packages (from transformers>=4.0.0->flair) (6.0)\n",
            "Requirement already satisfied: packaging>=20.0 in /usr/local/lib/python3.7/dist-packages (from transformers>=4.0.0->flair) (21.3)\n",
            "Requirement already satisfied: wcwidth>=0.2.5 in /usr/local/lib/python3.7/dist-packages (from ftfy->flair) (0.2.5)\n",
            "Requirement already satisfied: PySocks!=1.5.7,>=1.5.6 in /usr/local/lib/python3.7/dist-packages (from requests->bpemb>=0.3.2->flair) (1.7.1)\n",
            "Building wheels for collected packages: mpld3, overrides, sqlitedict, langdetect, pptree, wikipedia-api\n",
            "  Building wheel for mpld3 (setup.py) ... \u001b[?25l\u001b[?25hdone\n",
            "  Created wheel for mpld3: filename=mpld3-0.3-py3-none-any.whl size=116702 sha256=214b30cac57fd24491dac565a2eeddaad15e73c262d1adc759fac13358cd1357\n",
            "  Stored in directory: /root/.cache/pip/wheels/26/70/6a/1c79e59951a41b4045497da187b2724f5659ca64033cf4548e\n",
            "  Building wheel for overrides (setup.py) ... \u001b[?25l\u001b[?25hdone\n",
            "  Created wheel for overrides: filename=overrides-3.1.0-py3-none-any.whl size=10187 sha256=d9ffecb0aeb662650a32870a5257a5ebb805fde7ff3841b4b0acf95e1d9b3bb3\n",
            "  Stored in directory: /root/.cache/pip/wheels/3a/0d/38/01a9bc6e20dcfaf0a6a7b552d03137558ba1c38aea47644682\n",
            "  Building wheel for sqlitedict (setup.py) ... \u001b[?25l\u001b[?25hdone\n",
            "  Created wheel for sqlitedict: filename=sqlitedict-2.0.0-py3-none-any.whl size=15735 sha256=2f5af11ef39f0afaec05e64fc4ee36dec6699d872097ed387983db39adb2f175\n",
            "  Stored in directory: /root/.cache/pip/wheels/96/dd/2e/0ed4a25cb73fc30c7ea8d10b50acb7226175736067e40a7ea3\n",
            "  Building wheel for langdetect (setup.py) ... \u001b[?25l\u001b[?25hdone\n",
            "  Created wheel for langdetect: filename=langdetect-1.0.9-py3-none-any.whl size=993242 sha256=d4ee83e2237aab27470e90f9d1f0e06269acf99d8db56617e0845b7962f90c3d\n",
            "  Stored in directory: /root/.cache/pip/wheels/c5/96/8a/f90c59ed25d75e50a8c10a1b1c2d4c402e4dacfa87f3aff36a\n",
            "  Building wheel for pptree (setup.py) ... \u001b[?25l\u001b[?25hdone\n",
            "  Created wheel for pptree: filename=pptree-3.1-py3-none-any.whl size=4629 sha256=4383290f0a5fb523355c678a3fc05c97ae6a8eeb53400286637134e4f0967704\n",
            "  Stored in directory: /root/.cache/pip/wheels/9e/e8/7d/a9c3c19b4722608a0d8b05a38c36bc3f230c43becd2a46794b\n",
            "  Building wheel for wikipedia-api (setup.py) ... \u001b[?25l\u001b[?25hdone\n",
            "  Created wheel for wikipedia-api: filename=Wikipedia_API-0.5.4-py3-none-any.whl size=13476 sha256=b6d3bd80685613de2bf914835c21b18e6d0af56ddf23b871a85d02cd797b2939\n",
            "  Stored in directory: /root/.cache/pip/wheels/d3/24/56/58ba93cf78be162451144e7a9889603f437976ef1ae7013d04\n",
            "Successfully built mpld3 overrides sqlitedict langdetect pptree wikipedia-api\n",
            "Installing collected packages: requests, importlib-metadata, tokenizers, sentencepiece, py4j, overrides, huggingface-hub, wikipedia-api, transformers, sqlitedict, segtok, pptree, mpld3, langdetect, konoha, janome, hyperopt, ftfy, deprecated, conllu, bpemb, flair\n",
            "  Attempting uninstall: requests\n",
            "    Found existing installation: requests 2.23.0\n",
            "    Uninstalling requests-2.23.0:\n",
            "      Successfully uninstalled requests-2.23.0\n",
            "  Attempting uninstall: importlib-metadata\n",
            "    Found existing installation: importlib-metadata 4.13.0\n",
            "    Uninstalling importlib-metadata-4.13.0:\n",
            "      Successfully uninstalled importlib-metadata-4.13.0\n",
            "  Attempting uninstall: hyperopt\n",
            "    Found existing installation: hyperopt 0.1.2\n",
            "    Uninstalling hyperopt-0.1.2:\n",
            "      Successfully uninstalled hyperopt-0.1.2\n",
            "\u001b[31mERROR: pip's dependency resolver does not currently take into account all the packages that are installed. This behaviour is the source of the following dependency conflicts.\n",
            "markdown 3.4.1 requires importlib-metadata>=4.4; python_version < \"3.10\", but you have importlib-metadata 3.10.1 which is incompatible.\n",
            "gym 0.25.2 requires importlib-metadata>=4.8.0; python_version < \"3.10\", but you have importlib-metadata 3.10.1 which is incompatible.\u001b[0m\n",
            "Successfully installed bpemb-0.3.4 conllu-4.5.2 deprecated-1.2.13 flair-0.11.3 ftfy-6.1.1 huggingface-hub-0.11.0 hyperopt-0.2.7 importlib-metadata-3.10.1 janome-0.4.2 konoha-4.6.5 langdetect-1.0.9 mpld3-0.3 overrides-3.1.0 pptree-3.1 py4j-0.10.9.7 requests-2.28.1 segtok-1.5.11 sentencepiece-0.1.95 sqlitedict-2.0.0 tokenizers-0.13.2 transformers-4.24.0 wikipedia-api-0.5.4\n"
          ]
        }
      ],
      "source": [
        "!pip install wget\n",
        "!pip install flair"
      ]
    },
    {
      "cell_type": "code",
      "execution_count": 8,
      "metadata": {
        "id": "xdL5Smqs9oJr"
      },
      "outputs": [],
      "source": [
        "import wget\n",
        "import flair\n",
        "from flair.data import Sentence\n",
        "from flair.models import TextClassifier\n",
        "import pandas as pd\n",
        "import numpy as np\n",
        "from sklearn.metrics import classification_report, f1_score, accuracy_score, precision_score, recall_score"
      ]
    },
    {
      "cell_type": "markdown",
      "source": [
        "Ensure below path is present and download the pre-trained model to this location. Commented it out after the use."
      ],
      "metadata": {
        "id": "qbYLEvrp0RFk"
      }
    },
    {
      "cell_type": "code",
      "execution_count": null,
      "metadata": {
        "colab": {
          "base_uri": "https://localhost:8080/",
          "height": 35
        },
        "id": "w3_iR6lw-sXq",
        "outputId": "5a6b6049-0267-4522-cd18-f87da0e8fc22"
      },
      "outputs": [
        {
          "data": {
            "application/vnd.google.colaboratory.intrinsic+json": {
              "type": "string"
            },
            "text/plain": [
              "'/content/drive/MyDrive/afrisent-semeval-2023/pretrained_models/final-model.pt'"
            ]
          },
          "execution_count": 7,
          "metadata": {},
          "output_type": "execute_result"
        }
      ],
      "source": [
        "# wget.download(\"http://ltdata1.informatik.uni-hamburg.de/amharic/taskmodels/sent/final-model.pt\",\n",
        "#                               out = '/content/drive/MyDrive/afrisent-semeval-2023/pretrained_models/final-model.pt')"
      ]
    },
    {
      "cell_type": "code",
      "execution_count": 5,
      "metadata": {
        "colab": {
          "base_uri": "https://localhost:8080/"
        },
        "id": "AHtWRsFC9oMV",
        "outputId": "b92dc909-914f-4c20-82a2-e3f163a5fede"
      },
      "outputs": [
        {
          "output_type": "stream",
          "name": "stdout",
          "text": [
            "2022-11-27 20:40:24,879 loading file /content/drive/MyDrive/afrisent-semeval-2023/pretrained_models/final-model.pt\n"
          ]
        }
      ],
      "source": [
        "## Load the amharic sentiment pre-trained model\n",
        "classifier = TextClassifier.load('/content/drive/MyDrive/afrisent-semeval-2023/pretrained_models/final-model.pt')\n"
      ]
    },
    {
      "cell_type": "code",
      "execution_count": 7,
      "metadata": {
        "id": "ROjNo88V9oO0"
      },
      "outputs": [],
      "source": [
        "def get_label_flair(text, classifier = classifier):\n",
        "    \"\"\"Get text/sentence from the dataframe and use the flair model to predict the label\"\"\"\n",
        "    sentence = Sentence(text)\n",
        "    classifier.predict(sentence)  ## 'all labels' -- can be []\n",
        "    all_labels_list = sentence.to_dict()['all labels']\n",
        "    if len(all_labels_list) == 0 :\n",
        "        ## can choose one of ['neutral', 'negative', 'positive'] at random\n",
        "        ## or choose 'neutral' because it was the most common thing, if we aren't sure of sentiment\n",
        "        label_pred = 'neutral'  ## np.random.choice(['neutral', 'negative', 'positive'], 1)[0]\n",
        "        return label_pred\n",
        "    else:\n",
        "        label_pred = all_labels_list[0]['value'].lower()\n",
        "        return label_pred"
      ]
    },
    {
      "cell_type": "code",
      "execution_count": null,
      "metadata": {
        "id": "xLYYOEcNM9JY"
      },
      "outputs": [],
      "source": []
    },
    {
      "cell_type": "code",
      "execution_count": 9,
      "metadata": {
        "id": "RMdRgZ9k9oS6"
      },
      "outputs": [],
      "source": [
        "def get_labels(file_path):\n",
        "    \"\"\"Get the .tsv file with text and label and give the true and the predicted labels.\"\"\"\n",
        "    df = pd.read_csv(file_path, sep='\\t')\n",
        "    y_true = df.label.to_list() ## comment this cell, if the file has only text column\n",
        "    y_pred = df.iloc[:]['text'].apply(lambda x : get_label_flair(x)).to_list()\n",
        "    return y_true, y_pred ## remove the y_true variable if the file has only text column"
      ]
    },
    {
      "cell_type": "code",
      "execution_count": 10,
      "metadata": {
        "id": "EhxftbEi9oU_"
      },
      "outputs": [],
      "source": [
        "def get_scores(y_true, y_pred):\n",
        "\n",
        "  \"\"\"Get true values and predicted values and give the predicted scores\"\"\"\n",
        "\n",
        "  f1_score_macro = f1_score(y_true, y_pred, average='macro')   \n",
        "  accuracy = accuracy_score(y_true, y_pred)\n",
        "  recall = recall_score(y_true, y_pred, average=None)\n",
        "  precision = precision_score(y_true, y_pred, average=None)\n",
        "\n",
        "  results = {'f1_score_macro' : f1_score_macro,\n",
        "              'accuracy' : accuracy,\n",
        "              'recall_score' : recall,\n",
        "              'precision_score' : precision}\n",
        "  return results"
      ]
    },
    {
      "cell_type": "code",
      "execution_count": 11,
      "metadata": {
        "id": "Hg7Cy0hm9oXr",
        "colab": {
          "base_uri": "https://localhost:8080/"
        },
        "outputId": "7af82b68-f304-4de1-f3b5-a4d54e3227b8"
      },
      "outputs": [
        {
          "output_type": "stream",
          "name": "stdout",
          "text": [
            "/content/drive/MyDrive\n"
          ]
        }
      ],
      "source": [
        "%cd /content/drive/MyDrive\n",
        "\n",
        "\n",
        "PROJECT_DIR = '/content/drive/MyDrive/afrisent-semeval-2023'\n",
        "TASK = 'SubtaskA'\n",
        "LANGUAGE_CODE = 'am'"
      ]
    },
    {
      "cell_type": "markdown",
      "metadata": {
        "id": "MSxHGkPvVgCt"
      },
      "source": [
        "### AM test set results"
      ]
    },
    {
      "cell_type": "code",
      "execution_count": null,
      "metadata": {
        "colab": {
          "base_uri": "https://localhost:8080/"
        },
        "id": "Oq-NzqsJ9oRD",
        "outputId": "48c4a718-e3f5-4200-a65a-8d0e79b6b2ff"
      },
      "outputs": [
        {
          "name": "stdout",
          "output_type": "stream",
          "text": [
            "/content/drive/MyDrive\n",
            "fil-splitted-train-dev-test/am/test.tsv\n"
          ]
        }
      ],
      "source": [
        "file_path = os.path.join(PROJECT_DIR, TASK, 'train', 'fil-splitted-train-dev-test', LANGUAGE_CODE, 'test.tsv')\n",
        "print('fil-splitted-train-dev-test/am/test.tsv')"
      ]
    },
    {
      "cell_type": "code",
      "execution_count": null,
      "metadata": {
        "id": "i0_Ejjy19oaq"
      },
      "outputs": [],
      "source": [
        "true_vals, pred_vals = get_labels(file_path = file_path)"
      ]
    },
    {
      "cell_type": "code",
      "execution_count": null,
      "metadata": {
        "colab": {
          "base_uri": "https://localhost:8080/"
        },
        "id": "YLbXZy5D9oc5",
        "outputId": "1e1b609a-cfbd-490d-f792-188c67169c84"
      },
      "outputs": [
        {
          "name": "stdout",
          "output_type": "stream",
          "text": [
            "{'f1_score_macro': 0.6469691387059684, 'accuracy': 0.6862302483069977, 'recall_score': array([0.44351464, 0.86899563, 0.55026455]), 'precision_score': array([0.73103448, 0.65785124, 0.76470588])}\n"
          ]
        }
      ],
      "source": [
        "model_results = get_scores(true_vals, pred_vals)\n",
        "print(model_results)"
      ]
    },
    {
      "cell_type": "code",
      "execution_count": null,
      "metadata": {
        "colab": {
          "base_uri": "https://localhost:8080/"
        },
        "id": "f9HoHIhS9ofe",
        "outputId": "866bdd08-d300-4779-bca2-5f6c3515ede6"
      },
      "outputs": [
        {
          "name": "stdout",
          "output_type": "stream",
          "text": [
            "              precision    recall  f1-score   support\n",
            "\n",
            "    negative       0.73      0.44      0.55       239\n",
            "     neutral       0.66      0.87      0.75       458\n",
            "    positive       0.76      0.55      0.64       189\n",
            "\n",
            "    accuracy                           0.69       886\n",
            "   macro avg       0.72      0.62      0.65       886\n",
            "weighted avg       0.70      0.69      0.67       886\n",
            "\n"
          ]
        }
      ],
      "source": [
        "print(classification_report(true_vals, pred_vals))"
      ]
    },
    {
      "cell_type": "markdown",
      "metadata": {
        "id": "eT9w5n0RVRgg"
      },
      "source": [
        "### AM train set results"
      ]
    },
    {
      "cell_type": "code",
      "execution_count": null,
      "metadata": {
        "id": "5C9Kp4629ojG"
      },
      "outputs": [],
      "source": [
        "### Train set ###\n",
        "file_path = os.path.join(PROJECT_DIR, TASK, 'train', 'fil-splitted-train-dev-test', LANGUAGE_CODE, 'train.tsv')"
      ]
    },
    {
      "cell_type": "code",
      "execution_count": null,
      "metadata": {
        "id": "ZFN1jeVnR6XJ"
      },
      "outputs": [],
      "source": [
        "true_vals, pred_vals = get_labels(file_path = file_path)"
      ]
    },
    {
      "cell_type": "code",
      "execution_count": null,
      "metadata": {
        "colab": {
          "base_uri": "https://localhost:8080/"
        },
        "id": "lpPWCVyzR6a5",
        "outputId": "fb791a45-4a4f-4918-9935-1ff2957d3007"
      },
      "outputs": [
        {
          "name": "stdout",
          "output_type": "stream",
          "text": [
            "{'f1_score_macro': 0.6442773553439872, 'accuracy': 0.6848220769789397, 'recall_score': array([0.4376784 , 0.85946197, 0.55844156]), 'precision_score': array([0.65063649, 0.66606758, 0.80373832])}\n"
          ]
        }
      ],
      "source": [
        "model_results = get_scores(true_vals, pred_vals)\n",
        "print(model_results)"
      ]
    },
    {
      "cell_type": "code",
      "execution_count": null,
      "metadata": {
        "colab": {
          "base_uri": "https://localhost:8080/"
        },
        "id": "CGruwIkDR6eT",
        "outputId": "fbddf511-32de-45a9-863f-899ab11ea38e"
      },
      "outputs": [
        {
          "name": "stdout",
          "output_type": "stream",
          "text": [
            "              precision    recall  f1-score   support\n",
            "\n",
            "    negative       0.65      0.44      0.52      1051\n",
            "     neutral       0.67      0.86      0.75      2156\n",
            "    positive       0.80      0.56      0.66       924\n",
            "\n",
            "    accuracy                           0.68      4131\n",
            "   macro avg       0.71      0.62      0.64      4131\n",
            "weighted avg       0.69      0.68      0.67      4131\n",
            "\n"
          ]
        }
      ],
      "source": [
        "print(classification_report(true_vals, pred_vals))"
      ]
    },
    {
      "cell_type": "code",
      "execution_count": null,
      "metadata": {
        "id": "ffxlSf4uR6hX"
      },
      "outputs": [],
      "source": []
    },
    {
      "cell_type": "code",
      "execution_count": null,
      "metadata": {
        "id": "vi6RFJlkR6kx"
      },
      "outputs": [],
      "source": []
    },
    {
      "cell_type": "markdown",
      "metadata": {
        "id": "DhlhjC8gVrbG"
      },
      "source": [
        "### AM Dev set results"
      ]
    },
    {
      "cell_type": "code",
      "execution_count": null,
      "metadata": {
        "id": "bZfXa6keVvsT"
      },
      "outputs": [],
      "source": [
        "### Dev set ###\n",
        "file_path = os.path.join(PROJECT_DIR, TASK, 'train', 'fil-splitted-train-dev-test', LANGUAGE_CODE, 'dev.tsv')"
      ]
    },
    {
      "cell_type": "code",
      "execution_count": null,
      "metadata": {
        "id": "ILRWwLb3VwmN"
      },
      "outputs": [],
      "source": [
        "true_vals, pred_vals = get_labels(file_path = file_path)"
      ]
    },
    {
      "cell_type": "code",
      "execution_count": null,
      "metadata": {
        "colab": {
          "base_uri": "https://localhost:8080/"
        },
        "id": "ruVD1NnqVwrX",
        "outputId": "ce3c6466-86a9-46b9-fb2d-674cd9f62270"
      },
      "outputs": [
        {
          "name": "stdout",
          "output_type": "stream",
          "text": [
            "{'f1_score_macro': 0.6551927818599541, 'accuracy': 0.6949152542372882, 'recall_score': array([0.43555556, 0.85957447, 0.59473684]), 'precision_score': array([0.66666667, 0.67785235, 0.79577465])}\n"
          ]
        }
      ],
      "source": [
        "model_results = get_scores(true_vals, pred_vals)\n",
        "print(model_results)"
      ]
    },
    {
      "cell_type": "code",
      "execution_count": null,
      "metadata": {
        "colab": {
          "base_uri": "https://localhost:8080/"
        },
        "id": "cy9kCY3aVwuW",
        "outputId": "15708d8f-86b1-43af-e182-cb301b737432"
      },
      "outputs": [
        {
          "name": "stdout",
          "output_type": "stream",
          "text": [
            "              precision    recall  f1-score   support\n",
            "\n",
            "    negative       0.67      0.44      0.53       225\n",
            "     neutral       0.68      0.86      0.76       470\n",
            "    positive       0.80      0.59      0.68       190\n",
            "\n",
            "    accuracy                           0.69       885\n",
            "   macro avg       0.71      0.63      0.66       885\n",
            "weighted avg       0.70      0.69      0.68       885\n",
            "\n"
          ]
        }
      ],
      "source": [
        "print(classification_report(true_vals, pred_vals))"
      ]
    },
    {
      "cell_type": "markdown",
      "metadata": {
        "id": "TdcYzo8faDRY"
      },
      "source": [
        "### AM pre-processed/filtered dataset"
      ]
    },
    {
      "cell_type": "code",
      "execution_count": null,
      "metadata": {
        "id": "37OqoldpVwxV"
      },
      "outputs": [],
      "source": [
        "file_path = os.path.join(PROJECT_DIR, TASK, 'train', 'filtered-train-data', LANGUAGE_CODE, 'am_train_filtered.tsv')"
      ]
    },
    {
      "cell_type": "code",
      "execution_count": null,
      "metadata": {
        "colab": {
          "background_save": true
        },
        "id": "0-epIp-iVw25"
      },
      "outputs": [],
      "source": [
        "true_vals, pred_vals = get_labels(file_path = file_path)"
      ]
    },
    {
      "cell_type": "code",
      "execution_count": null,
      "metadata": {
        "colab": {
          "background_save": true
        },
        "id": "NItekqUvVw6N",
        "outputId": "d800902b-203a-41e9-a3a2-d8dc6bb9206e"
      },
      "outputs": [
        {
          "name": "stdout",
          "output_type": "stream",
          "text": [
            "{'f1_score_macro': 0.6463635611174893, 'accuracy': 0.6865469332429684, 'recall_score': array([0.43828383, 0.86089494, 0.56254797]), 'precision_score': array([0.66466466, 0.66658298, 0.79673913])}\n"
          ]
        }
      ],
      "source": [
        "model_results = get_scores(true_vals, pred_vals)\n",
        "print(model_results)"
      ]
    },
    {
      "cell_type": "code",
      "execution_count": null,
      "metadata": {
        "colab": {
          "background_save": true
        },
        "id": "SXEGo31dVw8k",
        "outputId": "9aa6fc80-bed2-4d7b-eee6-c96d53347e57"
      },
      "outputs": [
        {
          "name": "stdout",
          "output_type": "stream",
          "text": [
            "              precision    recall  f1-score   support\n",
            "\n",
            "    negative       0.66      0.44      0.53      1515\n",
            "     neutral       0.67      0.86      0.75      3084\n",
            "    positive       0.80      0.56      0.66      1303\n",
            "\n",
            "    accuracy                           0.69      5902\n",
            "   macro avg       0.71      0.62      0.65      5902\n",
            "weighted avg       0.69      0.69      0.67      5902\n",
            "\n"
          ]
        }
      ],
      "source": [
        "print(classification_report(true_vals, pred_vals))"
      ]
    },
    {
      "cell_type": "markdown",
      "source": [
        "### AM pre-processed/filtered and balanced dataset"
      ],
      "metadata": {
        "id": "T3VV318xwMAr"
      }
    },
    {
      "cell_type": "code",
      "execution_count": 12,
      "metadata": {
        "id": "zIMqBHc7bFwh"
      },
      "outputs": [],
      "source": [
        "file_path = os.path.join(PROJECT_DIR, TASK, 'train', 'filtered-balanced-train-data', LANGUAGE_CODE, 'am_train_filtered_balanced.tsv')"
      ]
    },
    {
      "cell_type": "code",
      "source": [
        "true_vals, pred_vals = get_labels(file_path = file_path)"
      ],
      "metadata": {
        "id": "4CjsOdb3wRt9"
      },
      "execution_count": 13,
      "outputs": []
    },
    {
      "cell_type": "code",
      "source": [
        "model_results = get_scores(true_vals, pred_vals)\n",
        "print(model_results)"
      ],
      "metadata": {
        "colab": {
          "base_uri": "https://localhost:8080/"
        },
        "id": "oaP6ZcuUwRw-",
        "outputId": "70a147a3-817e-408e-bab8-ca96c25f8637"
      },
      "execution_count": 14,
      "outputs": [
        {
          "output_type": "stream",
          "name": "stdout",
          "text": [
            "{'f1_score_macro': 0.6181433501246056, 'accuracy': 0.6175492453312867, 'recall_score': array([0.43821949, 0.85188028, 0.56254797]), 'precision_score': array([0.7623498 , 0.47700902, 0.87995198])}\n"
          ]
        }
      ]
    },
    {
      "cell_type": "code",
      "source": [
        "print(classification_report(true_vals, pred_vals))"
      ],
      "metadata": {
        "colab": {
          "base_uri": "https://localhost:8080/"
        },
        "id": "1ayWQbzewR15",
        "outputId": "40b18d53-9d27-4a2d-d20a-cfd89ac31ffb"
      },
      "execution_count": 15,
      "outputs": [
        {
          "output_type": "stream",
          "name": "stdout",
          "text": [
            "              precision    recall  f1-score   support\n",
            "\n",
            "    negative       0.76      0.44      0.56      1303\n",
            "     neutral       0.48      0.85      0.61      1303\n",
            "    positive       0.88      0.56      0.69      1303\n",
            "\n",
            "    accuracy                           0.62      3909\n",
            "   macro avg       0.71      0.62      0.62      3909\n",
            "weighted avg       0.71      0.62      0.62      3909\n",
            "\n"
          ]
        }
      ]
    },
    {
      "cell_type": "code",
      "source": [],
      "metadata": {
        "id": "bv5bM3HCwR5S"
      },
      "execution_count": null,
      "outputs": []
    },
    {
      "cell_type": "code",
      "execution_count": null,
      "metadata": {
        "id": "ifK6hkzxbFzp"
      },
      "outputs": [],
      "source": []
    }
  ],
  "metadata": {
    "accelerator": "GPU",
    "colab": {
      "provenance": []
    },
    "gpuClass": "standard",
    "kernelspec": {
      "display_name": "Python 3",
      "name": "python3"
    },
    "language_info": {
      "name": "python"
    }
  },
  "nbformat": 4,
  "nbformat_minor": 0
}