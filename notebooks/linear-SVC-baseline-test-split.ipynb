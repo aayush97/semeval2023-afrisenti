{
 "cells": [
  {
   "cell_type": "code",
   "execution_count": 1,
   "metadata": {},
   "outputs": [],
   "source": [
    "import pandas as pd\n",
    "from pathlib import Path\n",
    "import numpy as np\n",
    "from sklearn.feature_extraction.text import TfidfVectorizer\n",
    "from sklearn.svm import LinearSVC\n",
    "from sklearn.metrics import classification_report, f1_score, accuracy_score, precision_score, recall_score\n",
    "from transformers import AutoTokenizer\n",
    "from tqdm import tqdm"
   ]
  },
  {
   "cell_type": "code",
   "execution_count": 2,
   "metadata": {},
   "outputs": [],
   "source": [
    "VOCAB_SIZE = 15000"
   ]
  },
  {
   "cell_type": "code",
   "execution_count": 3,
   "metadata": {},
   "outputs": [],
   "source": [
    "def get_data_and_labels(tsv_path):\n",
    "    df = pd.read_csv(tsv_path, sep='\\t')\n",
    "    df.columns = df.columns.str.replace(' ', '')\n",
    "    data = df['text'].to_list()\n",
    "    labels = df['label'].to_list()\n",
    "    labels = [t.strip().upper() for t in labels]\n",
    "    return data, np.array(labels)"
   ]
  },
  {
   "cell_type": "code",
   "execution_count": 4,
   "metadata": {},
   "outputs": [],
   "source": [
    "def identity_tokenizer(text):\n",
    "    return text\n",
    "\n",
    "def get_features(corpus, vocab_size):\n",
    "    vectorizer = TfidfVectorizer(\n",
    "        ngram_range=(1, 2),\n",
    "        max_features=vocab_size,\n",
    "        tokenizer=identity_tokenizer, # already receiving tokenized text from AUtotokenizer\n",
    "        lowercase=False,\n",
    "        token_pattern=None\n",
    "    )\n",
    "    vectorizer.fit(corpus)\n",
    "    X = vectorizer.transform(corpus)\n",
    "    return X, vectorizer"
   ]
  },
  {
   "cell_type": "code",
   "execution_count": 5,
   "metadata": {},
   "outputs": [],
   "source": [
    "def evaluate(train_data, train_labels, test_data, tokenizer):\n",
    "    train_tokenized_texts_str = [tokenizer.convert_ids_to_tokens(text) for text in tokenizer(train_data)['input_ids']]\n",
    "    train_features,train_vectorizer = get_features(train_tokenized_texts_str, VOCAB_SIZE)\n",
    "    test_tokenized_texts_str = [tokenizer.convert_ids_to_tokens(text) for text in tokenizer(test_data)['input_ids']]\n",
    "    test_features = train_vectorizer.transform(test_tokenized_texts_str)\n",
    "    classifier = LinearSVC(C=0.2, class_weight='balanced')\n",
    "    classifier.fit(train_features, train_labels)\n",
    "    test_predictions = classifier.predict(test_features)\n",
    "    return test_predictions"
   ]
  },
  {
   "cell_type": "code",
   "execution_count": 6,
   "metadata": {},
   "outputs": [],
   "source": [
    "def evaluate_model_and_dataset(data_set_path):\n",
    "    data_files = sorted([x for x in Path(data_set_path).iterdir() if x.is_dir()])\n",
    "    african_language_model = 'Davlan/afro-xlmr-mini'\n",
    "    tokenizer = AutoTokenizer.from_pretrained(african_language_model)\n",
    "    results = []\n",
    "    for language_folder in tqdm(data_files, total=len(data_files)):\n",
    "        language = language_folder.stem\n",
    "        model = \"Linear SVC\"\n",
    "        train_data, train_labels = get_data_and_labels(language_folder/'train.tsv')\n",
    "        test_data, test_labels = get_data_and_labels(language_folder/'test.tsv')\n",
    "        label_set = ['NEGATIVE', 'POSITIVE', 'NEUTRAL']\n",
    "        predicted_labels = evaluate(train_data, train_labels, test_data, tokenizer)\n",
    "        accuracy = accuracy_score(test_labels, predicted_labels)\n",
    "        precision = precision_score(test_labels, predicted_labels, labels=label_set, average=None)\n",
    "        recall = recall_score(test_labels, predicted_labels, labels=label_set, average=None)\n",
    "        f1 = f1_score(test_labels, predicted_labels, average='macro')\n",
    "        output = {  'model': model,\n",
    "                    'language': language,\n",
    "                    'num_examples': len(train_data),\n",
    "                    'precision': {label_set[i]: precision[i] for i in range(len(label_set))},\n",
    "                    'recall': {label_set[i]: recall[i] for i in range(len(label_set))},\n",
    "                    'f1_score_macro': f1,\n",
    "                    'accuracy': accuracy\n",
    "                }\n",
    "        results.append(output)\n",
    "    return results "
   ]
  },
  {
   "cell_type": "code",
   "execution_count": 7,
   "metadata": {},
   "outputs": [
    {
     "name": "stderr",
     "output_type": "stream",
     "text": [
      "100%|█████████████████████████████████████████████████████████████████████████████████████████████████████████████████████████████████| 9/9 [00:07<00:00,  1.24it/s]\n"
     ]
    }
   ],
   "source": [
    "data_path = Path('../data/raw/train/splitted-train-dev-test')\n",
    "results = evaluate_model_and_dataset(data_path)\n",
    "df = pd.DataFrame(results)\n",
    "df.to_excel('../reports/linear_svm_evaluation_test_split_balanced.xlsx')"
   ]
  },
  {
   "cell_type": "code",
   "execution_count": null,
   "metadata": {},
   "outputs": [],
   "source": []
  },
  {
   "cell_type": "code",
   "execution_count": null,
   "metadata": {},
   "outputs": [],
   "source": []
  }
 ],
 "metadata": {
  "kernelspec": {
   "display_name": "Python 3 (ipykernel)",
   "language": "python",
   "name": "python3"
  },
  "language_info": {
   "codemirror_mode": {
    "name": "ipython",
    "version": 3
   },
   "file_extension": ".py",
   "mimetype": "text/x-python",
   "name": "python",
   "nbconvert_exporter": "python",
   "pygments_lexer": "ipython3",
   "version": "3.8.15+"
  },
  "vscode": {
   "interpreter": {
    "hash": "55be763ad6258640836ae508af9d9078062945259b270c473b67e3d18b997fb6"
   }
  }
 },
 "nbformat": 4,
 "nbformat_minor": 2
}
