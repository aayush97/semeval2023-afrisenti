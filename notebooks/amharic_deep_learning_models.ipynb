{
  "cells": [
    {
      "cell_type": "markdown",
      "metadata": {
        "id": "V4BB4JDx5W8d"
      },
      "source": [
        "#1) Installations and imports"
      ]
    },
    {
      "cell_type": "markdown",
      "metadata": {
        "id": "DObkW3ulM7yg"
      },
      "source": [
        "##a. Mount drive (if you are running on colab)"
      ]
    },
    {
      "cell_type": "code",
      "execution_count": 1,
      "metadata": {
        "colab": {
          "base_uri": "https://localhost:8080/"
        },
        "id": "Z0IelbK7NBZZ",
        "outputId": "c4c6a1bd-26eb-457b-a1b5-7e47ed105fdf"
      },
      "outputs": [
        {
          "output_type": "stream",
          "name": "stdout",
          "text": [
            "Mounted at /content/drive\n"
          ]
        }
      ],
      "source": [
        "from google.colab import drive\n",
        "drive.mount('/content/drive')"
      ]
    },
    {
      "cell_type": "markdown",
      "metadata": {
        "id": "U-OZxUWIMqtq"
      },
      "source": [
        "##b. Clone or update competition repository\n",
        "\n",
        "After cloning, under MyDrive, you will see afrisenti-semeval-2023 folder with all the the data for the afrisenti shared task (training and dev) "
      ]
    },
    {
      "cell_type": "code",
      "execution_count": 2,
      "metadata": {
        "id": "2392TKadMvqT",
        "colab": {
          "base_uri": "https://localhost:8080/"
        },
        "outputId": "1d6a58a8-02be-4146-93be-30026ddbf213"
      },
      "outputs": [
        {
          "output_type": "stream",
          "name": "stdout",
          "text": [
            "/content/drive/MyDrive\n",
            "True\n"
          ]
        }
      ],
      "source": [
        "%cd /content/drive/MyDrive\n",
        "\n",
        "import os\n",
        "\n",
        "PROJECT_DIR = '/content/drive/MyDrive/afrisent-semeval-2023'\n",
        "PROJECT_GITHUB_URL = 'https://github.com/afrisenti-semeval/afrisent-semeval-2023.git'\n",
        "\n",
        "## Already files uploaded to drive as per the required file structure.\n",
        "\n",
        "print(os.path.isdir(PROJECT_DIR))\n"
      ]
    },
    {
      "cell_type": "markdown",
      "metadata": {
        "id": "Xb03Gp9fUN8C"
      },
      "source": [
        "##c. Install required libraries"
      ]
    },
    {
      "cell_type": "code",
      "source": [
        "!pip install -r '/content/drive/MyDrive/afrisent-semeval-2023/starter_kit/requirements.txt'"
      ],
      "metadata": {
        "colab": {
          "base_uri": "https://localhost:8080/"
        },
        "id": "rHpn_tCXk2vq",
        "outputId": "11131db6-8243-4ad3-f455-a5d7972a5f6e"
      },
      "execution_count": 3,
      "outputs": [
        {
          "output_type": "stream",
          "name": "stdout",
          "text": [
            "Looking in indexes: https://pypi.org/simple, https://us-python.pkg.dev/colab-wheels/public/simple/\n",
            "Requirement already satisfied: pandas in /usr/local/lib/python3.7/dist-packages (from -r /content/drive/MyDrive/afrisent-semeval-2023/starter_kit/requirements.txt (line 1)) (1.3.5)\n",
            "Requirement already satisfied: numpy in /usr/local/lib/python3.7/dist-packages (from -r /content/drive/MyDrive/afrisent-semeval-2023/starter_kit/requirements.txt (line 2)) (1.21.6)\n",
            "Collecting transformers\n",
            "  Downloading transformers-4.24.0-py3-none-any.whl (5.5 MB)\n",
            "\u001b[K     |████████████████████████████████| 5.5 MB 14.2 MB/s \n",
            "\u001b[?25hRequirement already satisfied: torch>=1.3 in /usr/local/lib/python3.7/dist-packages (from -r /content/drive/MyDrive/afrisent-semeval-2023/starter_kit/requirements.txt (line 4)) (1.12.1+cu113)\n",
            "Requirement already satisfied: scipy in /usr/local/lib/python3.7/dist-packages (from -r /content/drive/MyDrive/afrisent-semeval-2023/starter_kit/requirements.txt (line 5)) (1.7.3)\n",
            "Requirement already satisfied: protobuf in /usr/local/lib/python3.7/dist-packages (from -r /content/drive/MyDrive/afrisent-semeval-2023/starter_kit/requirements.txt (line 6)) (3.19.6)\n",
            "Requirement already satisfied: scikit-learn in /usr/local/lib/python3.7/dist-packages (from -r /content/drive/MyDrive/afrisent-semeval-2023/starter_kit/requirements.txt (line 7)) (1.0.2)\n",
            "Collecting accelerate\n",
            "  Downloading accelerate-0.14.0-py3-none-any.whl (175 kB)\n",
            "\u001b[K     |████████████████████████████████| 175 kB 67.5 MB/s \n",
            "\u001b[?25hCollecting sentencepiece!=0.1.92\n",
            "  Downloading sentencepiece-0.1.97-cp37-cp37m-manylinux_2_17_x86_64.manylinux2014_x86_64.whl (1.3 MB)\n",
            "\u001b[K     |████████████████████████████████| 1.3 MB 67.1 MB/s \n",
            "\u001b[?25hCollecting datasets>=1.8.0\n",
            "  Downloading datasets-2.7.1-py3-none-any.whl (451 kB)\n",
            "\u001b[K     |████████████████████████████████| 451 kB 64.0 MB/s \n",
            "\u001b[?25hCollecting evaluate\n",
            "  Downloading evaluate-0.3.0-py3-none-any.whl (72 kB)\n",
            "\u001b[K     |████████████████████████████████| 72 kB 1.8 MB/s \n",
            "\u001b[?25hRequirement already satisfied: typing-extensions in /usr/local/lib/python3.7/dist-packages (from torch>=1.3->-r /content/drive/MyDrive/afrisent-semeval-2023/starter_kit/requirements.txt (line 4)) (4.1.1)\n",
            "Collecting xxhash\n",
            "  Downloading xxhash-3.1.0-cp37-cp37m-manylinux_2_17_x86_64.manylinux2014_x86_64.whl (212 kB)\n",
            "\u001b[K     |████████████████████████████████| 212 kB 74.3 MB/s \n",
            "\u001b[?25hCollecting multiprocess\n",
            "  Downloading multiprocess-0.70.14-py37-none-any.whl (115 kB)\n",
            "\u001b[K     |████████████████████████████████| 115 kB 65.6 MB/s \n",
            "\u001b[?25hRequirement already satisfied: dill<0.3.7 in /usr/local/lib/python3.7/dist-packages (from datasets>=1.8.0->-r /content/drive/MyDrive/afrisent-semeval-2023/starter_kit/requirements.txt (line 10)) (0.3.6)\n",
            "Requirement already satisfied: pyyaml>=5.1 in /usr/local/lib/python3.7/dist-packages (from datasets>=1.8.0->-r /content/drive/MyDrive/afrisent-semeval-2023/starter_kit/requirements.txt (line 10)) (6.0)\n",
            "Requirement already satisfied: tqdm>=4.62.1 in /usr/local/lib/python3.7/dist-packages (from datasets>=1.8.0->-r /content/drive/MyDrive/afrisent-semeval-2023/starter_kit/requirements.txt (line 10)) (4.64.1)\n",
            "Collecting responses<0.19\n",
            "  Downloading responses-0.18.0-py3-none-any.whl (38 kB)\n",
            "Requirement already satisfied: importlib-metadata in /usr/local/lib/python3.7/dist-packages (from datasets>=1.8.0->-r /content/drive/MyDrive/afrisent-semeval-2023/starter_kit/requirements.txt (line 10)) (4.13.0)\n",
            "Requirement already satisfied: aiohttp in /usr/local/lib/python3.7/dist-packages (from datasets>=1.8.0->-r /content/drive/MyDrive/afrisent-semeval-2023/starter_kit/requirements.txt (line 10)) (3.8.3)\n",
            "Requirement already satisfied: requests>=2.19.0 in /usr/local/lib/python3.7/dist-packages (from datasets>=1.8.0->-r /content/drive/MyDrive/afrisent-semeval-2023/starter_kit/requirements.txt (line 10)) (2.23.0)\n",
            "Requirement already satisfied: packaging in /usr/local/lib/python3.7/dist-packages (from datasets>=1.8.0->-r /content/drive/MyDrive/afrisent-semeval-2023/starter_kit/requirements.txt (line 10)) (21.3)\n",
            "Collecting huggingface-hub<1.0.0,>=0.2.0\n",
            "  Downloading huggingface_hub-0.11.1-py3-none-any.whl (182 kB)\n",
            "\u001b[K     |████████████████████████████████| 182 kB 77.2 MB/s \n",
            "\u001b[?25hRequirement already satisfied: pyarrow>=6.0.0 in /usr/local/lib/python3.7/dist-packages (from datasets>=1.8.0->-r /content/drive/MyDrive/afrisent-semeval-2023/starter_kit/requirements.txt (line 10)) (9.0.0)\n",
            "Requirement already satisfied: fsspec[http]>=2021.11.1 in /usr/local/lib/python3.7/dist-packages (from datasets>=1.8.0->-r /content/drive/MyDrive/afrisent-semeval-2023/starter_kit/requirements.txt (line 10)) (2022.11.0)\n",
            "Requirement already satisfied: frozenlist>=1.1.1 in /usr/local/lib/python3.7/dist-packages (from aiohttp->datasets>=1.8.0->-r /content/drive/MyDrive/afrisent-semeval-2023/starter_kit/requirements.txt (line 10)) (1.3.3)\n",
            "Requirement already satisfied: asynctest==0.13.0 in /usr/local/lib/python3.7/dist-packages (from aiohttp->datasets>=1.8.0->-r /content/drive/MyDrive/afrisent-semeval-2023/starter_kit/requirements.txt (line 10)) (0.13.0)\n",
            "Requirement already satisfied: multidict<7.0,>=4.5 in /usr/local/lib/python3.7/dist-packages (from aiohttp->datasets>=1.8.0->-r /content/drive/MyDrive/afrisent-semeval-2023/starter_kit/requirements.txt (line 10)) (6.0.2)\n",
            "Requirement already satisfied: attrs>=17.3.0 in /usr/local/lib/python3.7/dist-packages (from aiohttp->datasets>=1.8.0->-r /content/drive/MyDrive/afrisent-semeval-2023/starter_kit/requirements.txt (line 10)) (22.1.0)\n",
            "Requirement already satisfied: charset-normalizer<3.0,>=2.0 in /usr/local/lib/python3.7/dist-packages (from aiohttp->datasets>=1.8.0->-r /content/drive/MyDrive/afrisent-semeval-2023/starter_kit/requirements.txt (line 10)) (2.1.1)\n",
            "Requirement already satisfied: async-timeout<5.0,>=4.0.0a3 in /usr/local/lib/python3.7/dist-packages (from aiohttp->datasets>=1.8.0->-r /content/drive/MyDrive/afrisent-semeval-2023/starter_kit/requirements.txt (line 10)) (4.0.2)\n",
            "Requirement already satisfied: aiosignal>=1.1.2 in /usr/local/lib/python3.7/dist-packages (from aiohttp->datasets>=1.8.0->-r /content/drive/MyDrive/afrisent-semeval-2023/starter_kit/requirements.txt (line 10)) (1.3.1)\n",
            "Requirement already satisfied: yarl<2.0,>=1.0 in /usr/local/lib/python3.7/dist-packages (from aiohttp->datasets>=1.8.0->-r /content/drive/MyDrive/afrisent-semeval-2023/starter_kit/requirements.txt (line 10)) (1.8.1)\n",
            "Requirement already satisfied: filelock in /usr/local/lib/python3.7/dist-packages (from huggingface-hub<1.0.0,>=0.2.0->datasets>=1.8.0->-r /content/drive/MyDrive/afrisent-semeval-2023/starter_kit/requirements.txt (line 10)) (3.8.0)\n",
            "Requirement already satisfied: pyparsing!=3.0.5,>=2.0.2 in /usr/local/lib/python3.7/dist-packages (from packaging->datasets>=1.8.0->-r /content/drive/MyDrive/afrisent-semeval-2023/starter_kit/requirements.txt (line 10)) (3.0.9)\n",
            "Requirement already satisfied: certifi>=2017.4.17 in /usr/local/lib/python3.7/dist-packages (from requests>=2.19.0->datasets>=1.8.0->-r /content/drive/MyDrive/afrisent-semeval-2023/starter_kit/requirements.txt (line 10)) (2022.9.24)\n",
            "Requirement already satisfied: chardet<4,>=3.0.2 in /usr/local/lib/python3.7/dist-packages (from requests>=2.19.0->datasets>=1.8.0->-r /content/drive/MyDrive/afrisent-semeval-2023/starter_kit/requirements.txt (line 10)) (3.0.4)\n",
            "Requirement already satisfied: idna<3,>=2.5 in /usr/local/lib/python3.7/dist-packages (from requests>=2.19.0->datasets>=1.8.0->-r /content/drive/MyDrive/afrisent-semeval-2023/starter_kit/requirements.txt (line 10)) (2.10)\n",
            "Requirement already satisfied: urllib3!=1.25.0,!=1.25.1,<1.26,>=1.21.1 in /usr/local/lib/python3.7/dist-packages (from requests>=2.19.0->datasets>=1.8.0->-r /content/drive/MyDrive/afrisent-semeval-2023/starter_kit/requirements.txt (line 10)) (1.24.3)\n",
            "Collecting urllib3!=1.25.0,!=1.25.1,<1.26,>=1.21.1\n",
            "  Downloading urllib3-1.25.11-py2.py3-none-any.whl (127 kB)\n",
            "\u001b[K     |████████████████████████████████| 127 kB 54.1 MB/s \n",
            "\u001b[?25hRequirement already satisfied: pytz>=2017.3 in /usr/local/lib/python3.7/dist-packages (from pandas->-r /content/drive/MyDrive/afrisent-semeval-2023/starter_kit/requirements.txt (line 1)) (2022.6)\n",
            "Requirement already satisfied: python-dateutil>=2.7.3 in /usr/local/lib/python3.7/dist-packages (from pandas->-r /content/drive/MyDrive/afrisent-semeval-2023/starter_kit/requirements.txt (line 1)) (2.8.2)\n",
            "Requirement already satisfied: six>=1.5 in /usr/local/lib/python3.7/dist-packages (from python-dateutil>=2.7.3->pandas->-r /content/drive/MyDrive/afrisent-semeval-2023/starter_kit/requirements.txt (line 1)) (1.15.0)\n",
            "Collecting tokenizers!=0.11.3,<0.14,>=0.11.1\n",
            "  Downloading tokenizers-0.13.2-cp37-cp37m-manylinux_2_17_x86_64.manylinux2014_x86_64.whl (7.6 MB)\n",
            "\u001b[K     |████████████████████████████████| 7.6 MB 52.3 MB/s \n",
            "\u001b[?25hRequirement already satisfied: regex!=2019.12.17 in /usr/local/lib/python3.7/dist-packages (from transformers->-r /content/drive/MyDrive/afrisent-semeval-2023/starter_kit/requirements.txt (line 3)) (2022.6.2)\n",
            "Requirement already satisfied: threadpoolctl>=2.0.0 in /usr/local/lib/python3.7/dist-packages (from scikit-learn->-r /content/drive/MyDrive/afrisent-semeval-2023/starter_kit/requirements.txt (line 7)) (3.1.0)\n",
            "Requirement already satisfied: joblib>=0.11 in /usr/local/lib/python3.7/dist-packages (from scikit-learn->-r /content/drive/MyDrive/afrisent-semeval-2023/starter_kit/requirements.txt (line 7)) (1.2.0)\n",
            "Requirement already satisfied: psutil in /usr/local/lib/python3.7/dist-packages (from accelerate->-r /content/drive/MyDrive/afrisent-semeval-2023/starter_kit/requirements.txt (line 8)) (5.4.8)\n",
            "Requirement already satisfied: zipp>=0.5 in /usr/local/lib/python3.7/dist-packages (from importlib-metadata->datasets>=1.8.0->-r /content/drive/MyDrive/afrisent-semeval-2023/starter_kit/requirements.txt (line 10)) (3.10.0)\n",
            "Installing collected packages: urllib3, xxhash, responses, multiprocess, huggingface-hub, tokenizers, datasets, transformers, sentencepiece, evaluate, accelerate\n",
            "  Attempting uninstall: urllib3\n",
            "    Found existing installation: urllib3 1.24.3\n",
            "    Uninstalling urllib3-1.24.3:\n",
            "      Successfully uninstalled urllib3-1.24.3\n",
            "Successfully installed accelerate-0.14.0 datasets-2.7.1 evaluate-0.3.0 huggingface-hub-0.11.1 multiprocess-0.70.14 responses-0.18.0 sentencepiece-0.1.97 tokenizers-0.13.2 transformers-4.24.0 urllib3-1.25.11 xxhash-3.1.0\n"
          ]
        }
      ]
    },
    {
      "cell_type": "markdown",
      "metadata": {
        "id": "2zszKhh2Ufb3"
      },
      "source": [
        "##d. Import libraries\n",
        "\n",
        "Import libraries below"
      ]
    },
    {
      "cell_type": "code",
      "execution_count": 4,
      "metadata": {
        "id": "8QIl420aUM1O"
      },
      "outputs": [],
      "source": [
        "import pandas as pd\n",
        "import numpy as np\n",
        "\n",
        "# Please don not edit anything here\n",
        "languages = ['am', 'dz', 'ha', 'ig', 'ma', 'pcm', 'pt', 'sw', 'yo']"
      ]
    },
    {
      "cell_type": "markdown",
      "metadata": {
        "id": "SoRyMJMDJ7lF"
      },
      "source": [
        "#2) Dataset"
      ]
    },
    {
      "cell_type": "code",
      "source": [
        "# Training Data Paths\n",
        "\n",
        "TASK = 'SubtaskA'\n",
        "TRAINING_DATA_DIR = os.path.join(PROJECT_DIR, TASK, 'train')\n",
        "FORMATTED_TRAIN_DATA = os.path.join(TRAINING_DATA_DIR, 'formatted-train-data')\n",
        "\n",
        "if os.path.isdir(TRAINING_DATA_DIR):\n",
        "  print('Data directory found.')\n",
        "  if not os.path.isdir(FORMATTED_TRAIN_DATA):\n",
        "    print('Creating directory to store formatted data.')\n",
        "    os.mkdir(FORMATTED_TRAIN_DATA)\n",
        "else:\n",
        "  print(TRAINING_DATA_DIR + ' is not a valid directory or does not exist!')"
      ],
      "metadata": {
        "id": "QzoSbWC678Zm",
        "colab": {
          "base_uri": "https://localhost:8080/"
        },
        "outputId": "46a26840-64fa-4991-b663-528ae3994593"
      },
      "execution_count": 5,
      "outputs": [
        {
          "output_type": "stream",
          "name": "stdout",
          "text": [
            "Data directory found.\n"
          ]
        }
      ]
    },
    {
      "cell_type": "markdown",
      "source": [
        "# 3) Evaluate on test subsets from train set -- p/r/f1 scores"
      ],
      "metadata": {
        "id": "uEw3H8Xbd9Ts"
      }
    },
    {
      "cell_type": "markdown",
      "source": [
        "## a. predict and create a scores folder"
      ],
      "metadata": {
        "id": "5vbYuO8NGZJy"
      }
    },
    {
      "cell_type": "markdown",
      "source": [
        "### Check the pre-training step and set the parameters"
      ],
      "metadata": {
        "id": "vNJeUAu66Kgd"
      }
    },
    {
      "cell_type": "code",
      "source": [
        "%cd {PROJECT_DIR}\n",
        "\n",
        "# # Language to train sentiment classifier for\n",
        "# LANGUAGE_CODE = 'am' # 'am', 'dz', 'ha', 'ig', 'ma', 'pcm', 'pt', 'sw', 'yo' DO NOT EASILTY UNCOMMENT THIS LINE\n",
        "\n",
        "LANGUAGE_CODE = 'am'\n",
        "if LANGUAGE_CODE in languages:\n",
        "  # Model Training Parameters\n",
        "  # MODEL_NAME_OR_PATH = 'uhhlt/am-roberta'\n",
        "  MODEL_NAME_OR_PATH = 'Davlan/afro-xlmr-mini'\n",
        "  # MODEL_NAME_OR_PATH = 'Davlan/xlm-roberta-base-finetuned-amharic'\n",
        "  # MODEL_NAME_OR_PATH = 'Davlan/afro-xlmr-large'\n",
        "  # MODEL_NAME_OR_PATH = \"Davlan/naija-twitter-sentiment-afriberta-large\"\n",
        "  # MODEL_NAME_OR_PATH = \"Davlan/bert-base-multilingual-cased-finetuned-amharic\"\n",
        "  \n",
        "  BATCH_SIZE = 32\n",
        "  LEARNING_RATE = 0.0005 #0.005\n",
        "  NUMBER_OF_TRAINING_EPOCHS = 5 #100\n",
        "  MAXIMUM_SEQUENCE_LENGTH = 128\n",
        "  SAVE_STEPS = -1\n",
        "\n",
        "  print('Everything set. You can now start model training.')\n",
        "\n",
        "else:\n",
        "  print(\"Invalid language code/Dataset not released. Please input any of the following released data\\n\\n\\t- 'am'\\n\\t- 'dz'\\n\\t- 'ha'\\n\\t- 'ig'\\n\\t- 'ma'\\n\\t- 'pcm'\\n\\t- 'pt'\\n\\t- 'sw'\\n\\t- 'yo'\")\n"
      ],
      "metadata": {
        "colab": {
          "base_uri": "https://localhost:8080/"
        },
        "id": "TPqCXnYf6A7a",
        "outputId": "36093361-ada1-48e2-e906-385e0fe412ff"
      },
      "execution_count": 7,
      "outputs": [
        {
          "output_type": "stream",
          "name": "stdout",
          "text": [
            "/content/drive/MyDrive/afrisent-semeval-2023\n",
            "Everything set. You can now start model training.\n"
          ]
        }
      ]
    },
    {
      "cell_type": "markdown",
      "source": [
        "### Actual training step"
      ],
      "metadata": {
        "id": "SG6Td01r6WD_"
      }
    },
    {
      "cell_type": "code",
      "source": [
        "DATA_DIR = os.path.join(TRAINING_DATA_DIR, 'fil-bal-splitted-train-dev-test', LANGUAGE_CODE) \n",
        "## other paths - replace \"fil-bal-splitted-train-dev-test\" with below:\n",
        "## 'fil-splitted-train-dev-test' for unbalanced version\n",
        "## 'splitted-train-dev-test' for raw version of files.\n",
        "OUTPUT_DIR = os.path.join(PROJECT_DIR, 'models', LANGUAGE_CODE)\n",
        "\n",
        "#python starter_kit/run_textclass.py \\\n",
        "!CUDA_VISIBLE_DEVICES=0 python starter_kit/run_textclass.py \\\n",
        "  --model_name_or_path {MODEL_NAME_OR_PATH} \\\n",
        "  --data_dir {DATA_DIR} \\\n",
        "  --do_train \\\n",
        "  --do_eval \\\n",
        "  --do_predict \\\n",
        "  --per_device_train_batch_size {BATCH_SIZE} \\\n",
        "  --learning_rate {LEARNING_RATE} \\\n",
        "  --num_train_epochs {NUMBER_OF_TRAINING_EPOCHS} \\\n",
        "  --max_seq_length {MAXIMUM_SEQUENCE_LENGTH} \\\n",
        "  --output_dir {OUTPUT_DIR} \\\n",
        "  --save_steps {SAVE_STEPS} \\\n",
        "  --overwrite_output_dir\n"
      ],
      "metadata": {
        "colab": {
          "base_uri": "https://localhost:8080/"
        },
        "id": "5B2zJbEo6BiX",
        "outputId": "55429c7c-8893-40d8-f4a1-bdf5f4459b2d"
      },
      "execution_count": 8,
      "outputs": [
        {
          "output_type": "stream",
          "name": "stdout",
          "text": [
            "WARNING:__main__:Process rank: -1, device: cuda:0, n_gpu: 1distributed training: False, 16-bits training: False\n",
            "INFO:__main__:Training/evaluation parameters TrainingArguments(\n",
            "_n_gpu=1,\n",
            "adafactor=False,\n",
            "adam_beta1=0.9,\n",
            "adam_beta2=0.999,\n",
            "adam_epsilon=1e-08,\n",
            "auto_find_batch_size=False,\n",
            "bf16=False,\n",
            "bf16_full_eval=False,\n",
            "data_seed=None,\n",
            "dataloader_drop_last=False,\n",
            "dataloader_num_workers=0,\n",
            "dataloader_pin_memory=True,\n",
            "ddp_bucket_cap_mb=None,\n",
            "ddp_find_unused_parameters=None,\n",
            "ddp_timeout=1800,\n",
            "debug=[],\n",
            "deepspeed=None,\n",
            "disable_tqdm=False,\n",
            "do_eval=True,\n",
            "do_predict=True,\n",
            "do_train=True,\n",
            "eval_accumulation_steps=None,\n",
            "eval_delay=0,\n",
            "eval_steps=None,\n",
            "evaluation_strategy=no,\n",
            "fp16=False,\n",
            "fp16_backend=auto,\n",
            "fp16_full_eval=False,\n",
            "fp16_opt_level=O1,\n",
            "fsdp=[],\n",
            "fsdp_min_num_params=0,\n",
            "fsdp_transformer_layer_cls_to_wrap=None,\n",
            "full_determinism=False,\n",
            "gradient_accumulation_steps=1,\n",
            "gradient_checkpointing=False,\n",
            "greater_is_better=None,\n",
            "group_by_length=False,\n",
            "half_precision_backend=auto,\n",
            "hub_model_id=None,\n",
            "hub_private_repo=False,\n",
            "hub_strategy=every_save,\n",
            "hub_token=<HUB_TOKEN>,\n",
            "ignore_data_skip=False,\n",
            "include_inputs_for_metrics=False,\n",
            "jit_mode_eval=False,\n",
            "label_names=None,\n",
            "label_smoothing_factor=0.0,\n",
            "learning_rate=0.0005,\n",
            "length_column_name=length,\n",
            "load_best_model_at_end=False,\n",
            "local_rank=-1,\n",
            "log_level=passive,\n",
            "log_level_replica=passive,\n",
            "log_on_each_node=True,\n",
            "logging_dir=/content/drive/MyDrive/afrisent-semeval-2023/models/am/runs/Nov29_02-28-15_144b02325200,\n",
            "logging_first_step=False,\n",
            "logging_nan_inf_filter=True,\n",
            "logging_steps=500,\n",
            "logging_strategy=steps,\n",
            "lr_scheduler_type=linear,\n",
            "max_grad_norm=1.0,\n",
            "max_steps=-1,\n",
            "metric_for_best_model=None,\n",
            "mp_parameters=,\n",
            "no_cuda=False,\n",
            "num_train_epochs=5.0,\n",
            "optim=adamw_hf,\n",
            "output_dir=/content/drive/MyDrive/afrisent-semeval-2023/models/am,\n",
            "overwrite_output_dir=True,\n",
            "past_index=-1,\n",
            "per_device_eval_batch_size=8,\n",
            "per_device_train_batch_size=32,\n",
            "prediction_loss_only=False,\n",
            "push_to_hub=False,\n",
            "push_to_hub_model_id=None,\n",
            "push_to_hub_organization=None,\n",
            "push_to_hub_token=<PUSH_TO_HUB_TOKEN>,\n",
            "ray_scope=last,\n",
            "remove_unused_columns=True,\n",
            "report_to=['tensorboard'],\n",
            "resume_from_checkpoint=None,\n",
            "run_name=/content/drive/MyDrive/afrisent-semeval-2023/models/am,\n",
            "save_on_each_node=False,\n",
            "save_steps=-1,\n",
            "save_strategy=steps,\n",
            "save_total_limit=None,\n",
            "seed=42,\n",
            "sharded_ddp=[],\n",
            "skip_memory_metrics=True,\n",
            "tf32=None,\n",
            "torchdynamo=None,\n",
            "tpu_metrics_debug=False,\n",
            "tpu_num_cores=None,\n",
            "use_ipex=False,\n",
            "use_legacy_prediction_loop=False,\n",
            "use_mps_device=False,\n",
            "warmup_ratio=0.0,\n",
            "warmup_steps=0,\n",
            "weight_decay=0.0,\n",
            "xpu_backend=None,\n",
            ")\n",
            "['neutral', 'negative', 'positive']\n",
            "Downloading: 100% 798/798 [00:00<00:00, 754kB/s]\n",
            "[INFO|configuration_utils.py:654] 2022-11-29 02:28:19,495 >> loading configuration file config.json from cache at /root/.cache/huggingface/hub/models--Davlan--bert-base-multilingual-cased-finetuned-amharic/snapshots/90283498970edd0fe6af2f094f5f25d61e525ebd/config.json\n",
            "[INFO|configuration_utils.py:706] 2022-11-29 02:28:19,498 >> Model config BertConfig {\n",
            "  \"_name_or_path\": \"Davlan/bert-base-multilingual-cased-finetuned-amharic\",\n",
            "  \"architectures\": [\n",
            "    \"BertForMaskedLM\"\n",
            "  ],\n",
            "  \"attention_probs_dropout_prob\": 0.1,\n",
            "  \"classifier_dropout\": null,\n",
            "  \"directionality\": \"bidi\",\n",
            "  \"gradient_checkpointing\": false,\n",
            "  \"hidden_act\": \"gelu\",\n",
            "  \"hidden_dropout_prob\": 0.1,\n",
            "  \"hidden_size\": 768,\n",
            "  \"id2label\": {\n",
            "    \"0\": \"LABEL_0\",\n",
            "    \"1\": \"LABEL_1\",\n",
            "    \"2\": \"LABEL_2\"\n",
            "  },\n",
            "  \"initializer_range\": 0.02,\n",
            "  \"intermediate_size\": 3072,\n",
            "  \"label2id\": {\n",
            "    \"LABEL_0\": 0,\n",
            "    \"LABEL_1\": 1,\n",
            "    \"LABEL_2\": 2\n",
            "  },\n",
            "  \"layer_norm_eps\": 1e-12,\n",
            "  \"max_position_embeddings\": 512,\n",
            "  \"model_type\": \"bert\",\n",
            "  \"num_attention_heads\": 12,\n",
            "  \"num_hidden_layers\": 12,\n",
            "  \"pad_token_id\": 0,\n",
            "  \"pooler_fc_size\": 768,\n",
            "  \"pooler_num_attention_heads\": 12,\n",
            "  \"pooler_num_fc_layers\": 3,\n",
            "  \"pooler_size_per_head\": 128,\n",
            "  \"pooler_type\": \"first_token_transform\",\n",
            "  \"position_embedding_type\": \"absolute\",\n",
            "  \"transformers_version\": \"4.24.0\",\n",
            "  \"type_vocab_size\": 2,\n",
            "  \"use_cache\": true,\n",
            "  \"vocab_size\": 119547\n",
            "}\n",
            "\n",
            "Downloading: 100% 335/335 [00:00<00:00, 284kB/s]\n",
            "[INFO|configuration_utils.py:654] 2022-11-29 02:28:20,220 >> loading configuration file config.json from cache at /root/.cache/huggingface/hub/models--Davlan--bert-base-multilingual-cased-finetuned-amharic/snapshots/90283498970edd0fe6af2f094f5f25d61e525ebd/config.json\n",
            "[INFO|configuration_utils.py:706] 2022-11-29 02:28:20,221 >> Model config BertConfig {\n",
            "  \"_name_or_path\": \"Davlan/bert-base-multilingual-cased-finetuned-amharic\",\n",
            "  \"architectures\": [\n",
            "    \"BertForMaskedLM\"\n",
            "  ],\n",
            "  \"attention_probs_dropout_prob\": 0.1,\n",
            "  \"classifier_dropout\": null,\n",
            "  \"directionality\": \"bidi\",\n",
            "  \"gradient_checkpointing\": false,\n",
            "  \"hidden_act\": \"gelu\",\n",
            "  \"hidden_dropout_prob\": 0.1,\n",
            "  \"hidden_size\": 768,\n",
            "  \"initializer_range\": 0.02,\n",
            "  \"intermediate_size\": 3072,\n",
            "  \"layer_norm_eps\": 1e-12,\n",
            "  \"max_position_embeddings\": 512,\n",
            "  \"model_type\": \"bert\",\n",
            "  \"num_attention_heads\": 12,\n",
            "  \"num_hidden_layers\": 12,\n",
            "  \"pad_token_id\": 0,\n",
            "  \"pooler_fc_size\": 768,\n",
            "  \"pooler_num_attention_heads\": 12,\n",
            "  \"pooler_num_fc_layers\": 3,\n",
            "  \"pooler_size_per_head\": 128,\n",
            "  \"pooler_type\": \"first_token_transform\",\n",
            "  \"position_embedding_type\": \"absolute\",\n",
            "  \"transformers_version\": \"4.24.0\",\n",
            "  \"type_vocab_size\": 2,\n",
            "  \"use_cache\": true,\n",
            "  \"vocab_size\": 119547\n",
            "}\n",
            "\n",
            "Downloading: 100% 1.55M/1.55M [00:00<00:00, 2.59MB/s]\n",
            "Downloading: 100% 112/112 [00:00<00:00, 91.9kB/s]\n",
            "[INFO|tokenization_utils_base.py:1775] 2022-11-29 02:28:23,040 >> loading file vocab.txt from cache at /root/.cache/huggingface/hub/models--Davlan--bert-base-multilingual-cased-finetuned-amharic/snapshots/90283498970edd0fe6af2f094f5f25d61e525ebd/vocab.txt\n",
            "[INFO|tokenization_utils_base.py:1775] 2022-11-29 02:28:23,040 >> loading file tokenizer.json from cache at None\n",
            "[INFO|tokenization_utils_base.py:1775] 2022-11-29 02:28:23,040 >> loading file added_tokens.json from cache at None\n",
            "[INFO|tokenization_utils_base.py:1775] 2022-11-29 02:28:23,040 >> loading file special_tokens_map.json from cache at /root/.cache/huggingface/hub/models--Davlan--bert-base-multilingual-cased-finetuned-amharic/snapshots/90283498970edd0fe6af2f094f5f25d61e525ebd/special_tokens_map.json\n",
            "[INFO|tokenization_utils_base.py:1775] 2022-11-29 02:28:23,040 >> loading file tokenizer_config.json from cache at /root/.cache/huggingface/hub/models--Davlan--bert-base-multilingual-cased-finetuned-amharic/snapshots/90283498970edd0fe6af2f094f5f25d61e525ebd/tokenizer_config.json\n",
            "[INFO|configuration_utils.py:654] 2022-11-29 02:28:23,041 >> loading configuration file config.json from cache at /root/.cache/huggingface/hub/models--Davlan--bert-base-multilingual-cased-finetuned-amharic/snapshots/90283498970edd0fe6af2f094f5f25d61e525ebd/config.json\n",
            "[INFO|configuration_utils.py:706] 2022-11-29 02:28:23,041 >> Model config BertConfig {\n",
            "  \"_name_or_path\": \"Davlan/bert-base-multilingual-cased-finetuned-amharic\",\n",
            "  \"architectures\": [\n",
            "    \"BertForMaskedLM\"\n",
            "  ],\n",
            "  \"attention_probs_dropout_prob\": 0.1,\n",
            "  \"classifier_dropout\": null,\n",
            "  \"directionality\": \"bidi\",\n",
            "  \"gradient_checkpointing\": false,\n",
            "  \"hidden_act\": \"gelu\",\n",
            "  \"hidden_dropout_prob\": 0.1,\n",
            "  \"hidden_size\": 768,\n",
            "  \"initializer_range\": 0.02,\n",
            "  \"intermediate_size\": 3072,\n",
            "  \"layer_norm_eps\": 1e-12,\n",
            "  \"max_position_embeddings\": 512,\n",
            "  \"model_type\": \"bert\",\n",
            "  \"num_attention_heads\": 12,\n",
            "  \"num_hidden_layers\": 12,\n",
            "  \"pad_token_id\": 0,\n",
            "  \"pooler_fc_size\": 768,\n",
            "  \"pooler_num_attention_heads\": 12,\n",
            "  \"pooler_num_fc_layers\": 3,\n",
            "  \"pooler_size_per_head\": 128,\n",
            "  \"pooler_type\": \"first_token_transform\",\n",
            "  \"position_embedding_type\": \"absolute\",\n",
            "  \"transformers_version\": \"4.24.0\",\n",
            "  \"type_vocab_size\": 2,\n",
            "  \"use_cache\": true,\n",
            "  \"vocab_size\": 119547\n",
            "}\n",
            "\n",
            "[INFO|configuration_utils.py:654] 2022-11-29 02:28:23,173 >> loading configuration file config.json from cache at /root/.cache/huggingface/hub/models--Davlan--bert-base-multilingual-cased-finetuned-amharic/snapshots/90283498970edd0fe6af2f094f5f25d61e525ebd/config.json\n",
            "[INFO|configuration_utils.py:706] 2022-11-29 02:28:23,174 >> Model config BertConfig {\n",
            "  \"_name_or_path\": \"Davlan/bert-base-multilingual-cased-finetuned-amharic\",\n",
            "  \"architectures\": [\n",
            "    \"BertForMaskedLM\"\n",
            "  ],\n",
            "  \"attention_probs_dropout_prob\": 0.1,\n",
            "  \"classifier_dropout\": null,\n",
            "  \"directionality\": \"bidi\",\n",
            "  \"gradient_checkpointing\": false,\n",
            "  \"hidden_act\": \"gelu\",\n",
            "  \"hidden_dropout_prob\": 0.1,\n",
            "  \"hidden_size\": 768,\n",
            "  \"initializer_range\": 0.02,\n",
            "  \"intermediate_size\": 3072,\n",
            "  \"layer_norm_eps\": 1e-12,\n",
            "  \"max_position_embeddings\": 512,\n",
            "  \"model_type\": \"bert\",\n",
            "  \"num_attention_heads\": 12,\n",
            "  \"num_hidden_layers\": 12,\n",
            "  \"pad_token_id\": 0,\n",
            "  \"pooler_fc_size\": 768,\n",
            "  \"pooler_num_attention_heads\": 12,\n",
            "  \"pooler_num_fc_layers\": 3,\n",
            "  \"pooler_size_per_head\": 128,\n",
            "  \"pooler_type\": \"first_token_transform\",\n",
            "  \"position_embedding_type\": \"absolute\",\n",
            "  \"transformers_version\": \"4.24.0\",\n",
            "  \"type_vocab_size\": 2,\n",
            "  \"use_cache\": true,\n",
            "  \"vocab_size\": 119547\n",
            "}\n",
            "\n",
            "Downloading: 100% 712M/712M [00:11<00:00, 63.8MB/s]\n",
            "[INFO|modeling_utils.py:2158] 2022-11-29 02:28:34,878 >> loading weights file pytorch_model.bin from cache at /root/.cache/huggingface/hub/models--Davlan--bert-base-multilingual-cased-finetuned-amharic/snapshots/90283498970edd0fe6af2f094f5f25d61e525ebd/pytorch_model.bin\n",
            "[WARNING|modeling_utils.py:2599] 2022-11-29 02:28:36,939 >> Some weights of the model checkpoint at Davlan/bert-base-multilingual-cased-finetuned-amharic were not used when initializing BertForSequenceClassification: ['cls.predictions.bias', 'cls.predictions.decoder.weight', 'cls.predictions.decoder.bias', 'cls.predictions.transform.dense.weight', 'cls.predictions.transform.LayerNorm.weight', 'cls.predictions.transform.LayerNorm.bias', 'cls.predictions.transform.dense.bias']\n",
            "- This IS expected if you are initializing BertForSequenceClassification from the checkpoint of a model trained on another task or with another architecture (e.g. initializing a BertForSequenceClassification model from a BertForPreTraining model).\n",
            "- This IS NOT expected if you are initializing BertForSequenceClassification from the checkpoint of a model that you expect to be exactly identical (initializing a BertForSequenceClassification model from a BertForSequenceClassification model).\n",
            "[WARNING|modeling_utils.py:2611] 2022-11-29 02:28:36,939 >> Some weights of BertForSequenceClassification were not initialized from the model checkpoint at Davlan/bert-base-multilingual-cased-finetuned-amharic and are newly initialized: ['classifier.weight', 'classifier.bias', 'bert.pooler.dense.weight', 'bert.pooler.dense.bias']\n",
            "You should probably TRAIN this model on a down-stream task to be able to use it for predictions and inference.\n",
            "Running tokenizer on train dataset: 100% 3/3 [00:00<00:00,  9.50ba/s]\n",
            "INFO:__main__:Sample 2619 of the training set: {'text': 'ሀጢአተኛ ነፍስህ ከድነት በላይ ነው እናም ሰላምን እና ህመምንም አታውቅም  ብቸኛው የባዶነት ቅዝቃዜ ብቻ ነው የንስሀ ጊዜ ተጠናቅቋል  ምክንያቱም ጥፋቶችህ በክፉ አይነትህ ከማንኛውም ተልእኮ ይበልጣ', 'label': 0, '__index_level_0__': 2619, 'input_ids': [1, 898, 13353, 4869, 59718, 10476, 4816, 5049, 4815, 6763, 12530, 4819, 38080, 2823, 24140, 13580, 70102, 4816, 34346, 4951, 4815, 43801, 2770, 4877, 50336, 6241, 31029, 2834, 19897, 5818, 2834, 17635, 13840, 62595, 2, 3, 3, 3, 3, 3, 3, 3, 3, 3, 3, 3, 3, 3, 3, 3, 3, 3, 3, 3, 3, 3, 3, 3, 3, 3, 3, 3, 3, 3, 3, 3, 3, 3, 3, 3, 3, 3, 3, 3, 3, 3, 3, 3, 3, 3, 3, 3, 3, 3, 3, 3, 3, 3, 3, 3, 3, 3, 3, 3, 3, 3, 3, 3, 3, 3, 3, 3, 3, 3, 3, 3, 3, 3, 3, 3, 3, 3, 3, 3, 3, 3, 3, 3, 3, 3, 3, 3, 3, 3, 3, 3, 3, 3], 'token_type_ids': [0, 0, 0, 0, 0, 0, 0, 0, 0, 0, 0, 0, 0, 0, 0, 0, 0, 0, 0, 0, 0, 0, 0, 0, 0, 0, 0, 0, 0, 0, 0, 0, 0, 0, 0, 0, 0, 0, 0, 0, 0, 0, 0, 0, 0, 0, 0, 0, 0, 0, 0, 0, 0, 0, 0, 0, 0, 0, 0, 0, 0, 0, 0, 0, 0, 0, 0, 0, 0, 0, 0, 0, 0, 0, 0, 0, 0, 0, 0, 0, 0, 0, 0, 0, 0, 0, 0, 0, 0, 0, 0, 0, 0, 0, 0, 0, 0, 0, 0, 0, 0, 0, 0, 0, 0, 0, 0, 0, 0, 0, 0, 0, 0, 0, 0, 0, 0, 0, 0, 0, 0, 0, 0, 0, 0, 0, 0, 0], 'attention_mask': [1, 1, 1, 1, 1, 1, 1, 1, 1, 1, 1, 1, 1, 1, 1, 1, 1, 1, 1, 1, 1, 1, 1, 1, 1, 1, 1, 1, 1, 1, 1, 1, 1, 1, 1, 0, 0, 0, 0, 0, 0, 0, 0, 0, 0, 0, 0, 0, 0, 0, 0, 0, 0, 0, 0, 0, 0, 0, 0, 0, 0, 0, 0, 0, 0, 0, 0, 0, 0, 0, 0, 0, 0, 0, 0, 0, 0, 0, 0, 0, 0, 0, 0, 0, 0, 0, 0, 0, 0, 0, 0, 0, 0, 0, 0, 0, 0, 0, 0, 0, 0, 0, 0, 0, 0, 0, 0, 0, 0, 0, 0, 0, 0, 0, 0, 0, 0, 0, 0, 0, 0, 0, 0, 0, 0, 0, 0, 0]}.\n",
            "INFO:__main__:Sample 456 of the training set: {'text': 'በቃ ሰገራህን በየ አደባባዪ ትፀዳዳለህውርደታቸውን እንደ ክብር ያያሉ   ደነዝ', 'label': 1, '__index_level_0__': 456, 'input_ids': [1, 6964, 86719, 5255, 5269, 24291, 2928, 1008, 50373, 40446, 11380, 48843, 2758, 4820, 6438, 30548, 88329, 2828, 2, 3, 3, 3, 3, 3, 3, 3, 3, 3, 3, 3, 3, 3, 3, 3, 3, 3, 3, 3, 3, 3, 3, 3, 3, 3, 3, 3, 3, 3, 3, 3, 3, 3, 3, 3, 3, 3, 3, 3, 3, 3, 3, 3, 3, 3, 3, 3, 3, 3, 3, 3, 3, 3, 3, 3, 3, 3, 3, 3, 3, 3, 3, 3, 3, 3, 3, 3, 3, 3, 3, 3, 3, 3, 3, 3, 3, 3, 3, 3, 3, 3, 3, 3, 3, 3, 3, 3, 3, 3, 3, 3, 3, 3, 3, 3, 3, 3, 3, 3, 3, 3, 3, 3, 3, 3, 3, 3, 3, 3], 'token_type_ids': [0, 0, 0, 0, 0, 0, 0, 0, 0, 0, 0, 0, 0, 0, 0, 0, 0, 0, 0, 0, 0, 0, 0, 0, 0, 0, 0, 0, 0, 0, 0, 0, 0, 0, 0, 0, 0, 0, 0, 0, 0, 0, 0, 0, 0, 0, 0, 0, 0, 0, 0, 0, 0, 0, 0, 0, 0, 0, 0, 0, 0, 0, 0, 0, 0, 0, 0, 0, 0, 0, 0, 0, 0, 0, 0, 0, 0, 0, 0, 0, 0, 0, 0, 0, 0, 0, 0, 0, 0, 0, 0, 0, 0, 0, 0, 0, 0, 0, 0, 0, 0, 0, 0, 0, 0, 0, 0, 0, 0, 0, 0, 0, 0, 0, 0, 0, 0, 0, 0, 0, 0, 0, 0, 0, 0, 0, 0, 0], 'attention_mask': [1, 1, 1, 1, 1, 1, 1, 1, 1, 1, 1, 1, 1, 1, 1, 1, 1, 1, 1, 0, 0, 0, 0, 0, 0, 0, 0, 0, 0, 0, 0, 0, 0, 0, 0, 0, 0, 0, 0, 0, 0, 0, 0, 0, 0, 0, 0, 0, 0, 0, 0, 0, 0, 0, 0, 0, 0, 0, 0, 0, 0, 0, 0, 0, 0, 0, 0, 0, 0, 0, 0, 0, 0, 0, 0, 0, 0, 0, 0, 0, 0, 0, 0, 0, 0, 0, 0, 0, 0, 0, 0, 0, 0, 0, 0, 0, 0, 0, 0, 0, 0, 0, 0, 0, 0, 0, 0, 0, 0, 0, 0, 0, 0, 0, 0, 0, 0, 0, 0, 0, 0, 0, 0, 0, 0, 0, 0, 0]}.\n",
            "INFO:__main__:Sample 102 of the training set: {'text': 'ለኢትዮጱያ ህዝብ ብሎ  ተጥዶ እሚያድር መሪ አለን እና እልል በሉ እንደውም  እያለ ሁላ ለህዝቡ ክብር ሲል ይኮምታል', 'label': 1, '__index_level_0__': 102, 'input_ids': [1, 25556, 56021, 5175, 5099, 20131, 2759, 31336, 4884, 5700, 8317, 4819, 22487, 9432, 13193, 6262, 23669, 15534, 6438, 5639, 52368, 104205, 2, 3, 3, 3, 3, 3, 3, 3, 3, 3, 3, 3, 3, 3, 3, 3, 3, 3, 3, 3, 3, 3, 3, 3, 3, 3, 3, 3, 3, 3, 3, 3, 3, 3, 3, 3, 3, 3, 3, 3, 3, 3, 3, 3, 3, 3, 3, 3, 3, 3, 3, 3, 3, 3, 3, 3, 3, 3, 3, 3, 3, 3, 3, 3, 3, 3, 3, 3, 3, 3, 3, 3, 3, 3, 3, 3, 3, 3, 3, 3, 3, 3, 3, 3, 3, 3, 3, 3, 3, 3, 3, 3, 3, 3, 3, 3, 3, 3, 3, 3, 3, 3, 3, 3, 3, 3], 'token_type_ids': [0, 0, 0, 0, 0, 0, 0, 0, 0, 0, 0, 0, 0, 0, 0, 0, 0, 0, 0, 0, 0, 0, 0, 0, 0, 0, 0, 0, 0, 0, 0, 0, 0, 0, 0, 0, 0, 0, 0, 0, 0, 0, 0, 0, 0, 0, 0, 0, 0, 0, 0, 0, 0, 0, 0, 0, 0, 0, 0, 0, 0, 0, 0, 0, 0, 0, 0, 0, 0, 0, 0, 0, 0, 0, 0, 0, 0, 0, 0, 0, 0, 0, 0, 0, 0, 0, 0, 0, 0, 0, 0, 0, 0, 0, 0, 0, 0, 0, 0, 0, 0, 0, 0, 0, 0, 0, 0, 0, 0, 0, 0, 0, 0, 0, 0, 0, 0, 0, 0, 0, 0, 0, 0, 0, 0, 0, 0, 0], 'attention_mask': [1, 1, 1, 1, 1, 1, 1, 1, 1, 1, 1, 1, 1, 1, 1, 1, 1, 1, 1, 1, 1, 1, 1, 0, 0, 0, 0, 0, 0, 0, 0, 0, 0, 0, 0, 0, 0, 0, 0, 0, 0, 0, 0, 0, 0, 0, 0, 0, 0, 0, 0, 0, 0, 0, 0, 0, 0, 0, 0, 0, 0, 0, 0, 0, 0, 0, 0, 0, 0, 0, 0, 0, 0, 0, 0, 0, 0, 0, 0, 0, 0, 0, 0, 0, 0, 0, 0, 0, 0, 0, 0, 0, 0, 0, 0, 0, 0, 0, 0, 0, 0, 0, 0, 0, 0, 0, 0, 0, 0, 0, 0, 0, 0, 0, 0, 0, 0, 0, 0, 0, 0, 0, 0, 0, 0, 0, 0, 0]}.\n",
            "Running tokenizer on validation dataset: 100% 1/1 [00:00<00:00, 16.67ba/s]\n",
            "Running tokenizer on prediction dataset: 100% 1/1 [00:00<00:00, 14.62ba/s]\n",
            "Downloading builder script: 100% 4.20k/4.20k [00:00<00:00, 3.58MB/s]\n",
            "[INFO|trainer.py:726] 2022-11-29 02:28:42,309 >> The following columns in the training set don't have a corresponding argument in `BertForSequenceClassification.forward` and have been ignored: __index_level_0__, text. If __index_level_0__, text are not expected by `BertForSequenceClassification.forward`,  you can safely ignore this message.\n",
            "/usr/local/lib/python3.7/dist-packages/transformers/optimization.py:310: FutureWarning: This implementation of AdamW is deprecated and will be removed in a future version. Use the PyTorch implementation torch.optim.AdamW instead, or set `no_deprecation_warning=True` to disable this warning\n",
            "  FutureWarning,\n",
            "[INFO|trainer.py:1608] 2022-11-29 02:28:42,328 >> ***** Running training *****\n",
            "[INFO|trainer.py:1609] 2022-11-29 02:28:42,329 >>   Num examples = 2736\n",
            "[INFO|trainer.py:1610] 2022-11-29 02:28:42,329 >>   Num Epochs = 5\n",
            "[INFO|trainer.py:1611] 2022-11-29 02:28:42,329 >>   Instantaneous batch size per device = 32\n",
            "[INFO|trainer.py:1612] 2022-11-29 02:28:42,329 >>   Total train batch size (w. parallel, distributed & accumulation) = 32\n",
            "[INFO|trainer.py:1613] 2022-11-29 02:28:42,329 >>   Gradient Accumulation steps = 1\n",
            "[INFO|trainer.py:1614] 2022-11-29 02:28:42,329 >>   Total optimization steps = 430\n",
            "[INFO|trainer.py:1616] 2022-11-29 02:28:42,330 >>   Number of trainable parameters = 177855747\n",
            "100% 430/430 [04:54<00:00,  1.68it/s][INFO|trainer.py:1859] 2022-11-29 02:33:36,894 >> \n",
            "\n",
            "Training completed. Do not forget to share your model on huggingface.co/models =)\n",
            "\n",
            "\n",
            "{'train_runtime': 294.5684, 'train_samples_per_second': 46.441, 'train_steps_per_second': 1.46, 'train_loss': 1.1162705532340116, 'epoch': 5.0}\n",
            "100% 430/430 [04:54<00:00,  1.46it/s]\n",
            "[INFO|trainer.py:2678] 2022-11-29 02:33:36,905 >> Saving model checkpoint to /content/drive/MyDrive/afrisent-semeval-2023/models/am\n",
            "[INFO|configuration_utils.py:447] 2022-11-29 02:33:37,371 >> Configuration saved in /content/drive/MyDrive/afrisent-semeval-2023/models/am/config.json\n",
            "[INFO|modeling_utils.py:1624] 2022-11-29 02:33:49,942 >> Model weights saved in /content/drive/MyDrive/afrisent-semeval-2023/models/am/pytorch_model.bin\n",
            "[INFO|tokenization_utils_base.py:2125] 2022-11-29 02:33:50,419 >> tokenizer config file saved in /content/drive/MyDrive/afrisent-semeval-2023/models/am/tokenizer_config.json\n",
            "[INFO|tokenization_utils_base.py:2132] 2022-11-29 02:33:50,891 >> Special tokens file saved in /content/drive/MyDrive/afrisent-semeval-2023/models/am/special_tokens_map.json\n",
            "***** train metrics *****\n",
            "  epoch                    =        5.0\n",
            "  train_loss               =     1.1163\n",
            "  train_runtime            = 0:04:54.56\n",
            "  train_samples            =       2736\n",
            "  train_samples_per_second =     46.441\n",
            "  train_steps_per_second   =       1.46\n",
            "INFO:__main__:*** Evaluate ***\n",
            "[INFO|trainer.py:726] 2022-11-29 02:33:54,243 >> The following columns in the evaluation set don't have a corresponding argument in `BertForSequenceClassification.forward` and have been ignored: __index_level_0__, text. If __index_level_0__, text are not expected by `BertForSequenceClassification.forward`,  you can safely ignore this message.\n",
            "[INFO|trainer.py:2929] 2022-11-29 02:33:54,245 >> ***** Running Evaluation *****\n",
            "[INFO|trainer.py:2931] 2022-11-29 02:33:54,245 >>   Num examples = 586\n",
            "[INFO|trainer.py:2934] 2022-11-29 02:33:54,245 >>   Batch size = 8\n",
            "100% 74/74 [00:04<00:00, 16.71it/s]\n",
            "***** eval metrics *****\n",
            "  epoch                   =        5.0\n",
            "  eval_accuracy           =     0.3294\n",
            "  eval_loss               =      1.101\n",
            "  eval_runtime            = 0:00:04.51\n",
            "  eval_samples            =        586\n",
            "  eval_samples_per_second =    129.825\n",
            "  eval_steps_per_second   =     16.394\n",
            "INFO:__main__:*** Predict ***\n",
            "[INFO|trainer.py:726] 2022-11-29 02:33:59,293 >> The following columns in the test set don't have a corresponding argument in `BertForSequenceClassification.forward` and have been ignored: __index_level_0__, text. If __index_level_0__, text are not expected by `BertForSequenceClassification.forward`,  you can safely ignore this message.\n",
            "[INFO|trainer.py:2929] 2022-11-29 02:33:59,295 >> ***** Running Prediction *****\n",
            "[INFO|trainer.py:2931] 2022-11-29 02:33:59,295 >>   Num examples = 587\n",
            "[INFO|trainer.py:2934] 2022-11-29 02:33:59,295 >>   Batch size = 8\n",
            "100% 74/74 [00:04<00:00, 16.75it/s]\n",
            "***** predict metrics *****\n",
            "  predict_accuracy           =     0.3288\n",
            "  predict_loss               =     1.1001\n",
            "  predict_runtime            = 0:00:04.46\n",
            "  predict_samples            =        587\n",
            "  predict_samples_per_second =    131.434\n",
            "  predict_steps_per_second   =     16.569\n"
          ]
        }
      ]
    },
    {
      "cell_type": "markdown",
      "source": [
        "### Do the predictions on the test set"
      ],
      "metadata": {
        "id": "bHh6o5cW6hDm"
      }
    },
    {
      "cell_type": "code",
      "source": [
        "%cd {PROJECT_DIR}\n",
        "\n",
        "OUTPUT_DIR = os.path.join(PROJECT_DIR, 'models', LANGUAGE_CODE)\n",
        "FILE_NAME = os.path.join(PROJECT_DIR, TASK, 'train', 'fil-bal-splitted-train-dev-test', LANGUAGE_CODE, 'test.tsv')\n",
        "## other paths - replace \"fil-bal-splitted-train-dev-test\" with below:\n",
        "## 'fil-splitted-train-dev-test' for unbalanced version\n",
        "## 'splitted-train-dev-test' for raw version of files.\n",
        "TEXT_COLUMN = 'text'\n",
        "\n",
        "!python starter_kit/afrisenti_get_scores1.py \\\n",
        "  --model_path {OUTPUT_DIR} \\\n",
        "  --file_name {FILE_NAME} \\\n",
        "  --text_column {TEXT_COLUMN} \\\n",
        "  --lang_code {LANGUAGE_CODE}\n",
        "\n",
        "print('current language code is:', LANGUAGE_CODE)\n",
        "print('current model path is:', OUTPUT_DIR)"
      ],
      "metadata": {
        "colab": {
          "base_uri": "https://localhost:8080/"
        },
        "id": "dvS9H4RQ6f28",
        "outputId": "382c07bd-b4f5-47fc-ebe2-b9bfe7a4b157"
      },
      "execution_count": 9,
      "outputs": [
        {
          "output_type": "stream",
          "name": "stdout",
          "text": [
            "/content/drive/MyDrive/afrisent-semeval-2023\n",
            "***** Running Prediction *****\n",
            "  Num examples = 587\n",
            "  Batch size = 8\n",
            "100% 74/74 [00:01<00:00, 48.09it/s]\n",
            "Data directory found.\n",
            "current language code is: am\n",
            "current model path is: /content/drive/MyDrive/afrisent-semeval-2023/models/am\n"
          ]
        }
      ]
    },
    {
      "cell_type": "markdown",
      "source": [
        "## Evaluation method"
      ],
      "metadata": {
        "id": "L2XtrvdfGsy9"
      }
    },
    {
      "cell_type": "code",
      "source": [
        "import pandas as pd\n",
        "from sklearn.metrics import classification_report\n",
        "\n",
        "def evaluate(file_true, file_pred):\n",
        "\n",
        "  df_true = pd.read_csv(file_true, sep='\\t')\n",
        "  df_pred = pd.read_csv(file_pred, sep='\\t')\n",
        "  true = df_true.label\n",
        "  pred = df_pred.label\n",
        "  return classification_report(true, pred)"
      ],
      "metadata": {
        "id": "r6n44sWJ2duJ"
      },
      "execution_count": 10,
      "outputs": []
    },
    {
      "cell_type": "markdown",
      "source": [
        "## Get scores for 'am'"
      ],
      "metadata": {
        "id": "VC1urrfD5ers"
      }
    },
    {
      "cell_type": "code",
      "source": [
        "# get scores for 'am'\n",
        "LANGUAGE_CODE = 'am'\n",
        "file_true = os.path.join(PROJECT_DIR, TASK, 'train', 'fil-bal-splitted-train-dev-test', LANGUAGE_CODE, 'test.tsv')\n",
        "## other paths - replace \"fil-bal-splitted-train-dev-test\" with below:\n",
        "## 'fil-splitted-train-dev-test' for unbalanced version\n",
        "## 'splitted-train-dev-test' for raw version of files.\n",
        "file_pred = os.path.join(PROJECT_DIR, 'models', LANGUAGE_CODE, 'scores', 'pred_' + LANGUAGE_CODE + '.tsv')\n",
        "print(evaluate(file_true, file_pred))"
      ],
      "metadata": {
        "colab": {
          "base_uri": "https://localhost:8080/"
        },
        "id": "fYQg06BV4I7n",
        "outputId": "08647cd5-624f-4f17-a5f1-4e79915da83e"
      },
      "execution_count": 11,
      "outputs": [
        {
          "output_type": "stream",
          "name": "stdout",
          "text": [
            "              precision    recall  f1-score   support\n",
            "\n",
            "    negative       0.00      0.00      0.00       198\n",
            "     neutral       0.00      0.00      0.00       196\n",
            "    positive       0.33      1.00      0.49       193\n",
            "\n",
            "    accuracy                           0.33       587\n",
            "   macro avg       0.11      0.33      0.16       587\n",
            "weighted avg       0.11      0.33      0.16       587\n",
            "\n"
          ]
        },
        {
          "output_type": "stream",
          "name": "stderr",
          "text": [
            "/usr/local/lib/python3.7/dist-packages/sklearn/metrics/_classification.py:1318: UndefinedMetricWarning: Precision and F-score are ill-defined and being set to 0.0 in labels with no predicted samples. Use `zero_division` parameter to control this behavior.\n",
            "  _warn_prf(average, modifier, msg_start, len(result))\n",
            "/usr/local/lib/python3.7/dist-packages/sklearn/metrics/_classification.py:1318: UndefinedMetricWarning: Precision and F-score are ill-defined and being set to 0.0 in labels with no predicted samples. Use `zero_division` parameter to control this behavior.\n",
            "  _warn_prf(average, modifier, msg_start, len(result))\n",
            "/usr/local/lib/python3.7/dist-packages/sklearn/metrics/_classification.py:1318: UndefinedMetricWarning: Precision and F-score are ill-defined and being set to 0.0 in labels with no predicted samples. Use `zero_division` parameter to control this behavior.\n",
            "  _warn_prf(average, modifier, msg_start, len(result))\n"
          ]
        }
      ]
    },
    {
      "cell_type": "code",
      "source": [
        "from sklearn.metrics import f1_score, accuracy_score, precision_score, recall_score"
      ],
      "metadata": {
        "id": "hE5qPOPoRdo5"
      },
      "execution_count": 12,
      "outputs": []
    },
    {
      "cell_type": "code",
      "source": [
        "df_true = pd.read_csv(file_true, sep='\\t')\n",
        "df_pred = pd.read_csv(file_pred, sep='\\t')\n",
        "true = df_true.label\n",
        "pred = df_pred.label"
      ],
      "metadata": {
        "id": "R0FavGD9Rd1S"
      },
      "execution_count": 13,
      "outputs": []
    },
    {
      "cell_type": "code",
      "source": [
        "print(classification_report(true,pred))\n",
        "print(\"f1-score:\")\n",
        "print(f1_score(true,pred, average='macro'))\n",
        "print(\"Accuarcy:\")\n",
        "print(accuracy_score(true,pred) )\n",
        "print(\"Precision:\")\n",
        "print(precision_score(true,pred, average=None))\n",
        "print(\"Recall:\")\n",
        "print(recall_score(true,pred, average=None))"
      ],
      "metadata": {
        "colab": {
          "base_uri": "https://localhost:8080/"
        },
        "id": "3QykSSOfReBC",
        "outputId": "ccad24bc-9749-4cd0-f5c9-8dc77d885461"
      },
      "execution_count": 14,
      "outputs": [
        {
          "output_type": "stream",
          "name": "stdout",
          "text": [
            "              precision    recall  f1-score   support\n",
            "\n",
            "    negative       0.00      0.00      0.00       198\n",
            "     neutral       0.00      0.00      0.00       196\n",
            "    positive       0.33      1.00      0.49       193\n",
            "\n",
            "    accuracy                           0.33       587\n",
            "   macro avg       0.11      0.33      0.16       587\n",
            "weighted avg       0.11      0.33      0.16       587\n",
            "\n",
            "f1-score:\n",
            "0.16495726495726495\n",
            "Accuarcy:\n",
            "0.3287904599659284\n",
            "Precision:\n",
            "[0.         0.         0.32879046]\n",
            "Recall:\n",
            "[0. 0. 1.]\n"
          ]
        },
        {
          "output_type": "stream",
          "name": "stderr",
          "text": [
            "/usr/local/lib/python3.7/dist-packages/sklearn/metrics/_classification.py:1318: UndefinedMetricWarning: Precision and F-score are ill-defined and being set to 0.0 in labels with no predicted samples. Use `zero_division` parameter to control this behavior.\n",
            "  _warn_prf(average, modifier, msg_start, len(result))\n",
            "/usr/local/lib/python3.7/dist-packages/sklearn/metrics/_classification.py:1318: UndefinedMetricWarning: Precision and F-score are ill-defined and being set to 0.0 in labels with no predicted samples. Use `zero_division` parameter to control this behavior.\n",
            "  _warn_prf(average, modifier, msg_start, len(result))\n",
            "/usr/local/lib/python3.7/dist-packages/sklearn/metrics/_classification.py:1318: UndefinedMetricWarning: Precision and F-score are ill-defined and being set to 0.0 in labels with no predicted samples. Use `zero_division` parameter to control this behavior.\n",
            "  _warn_prf(average, modifier, msg_start, len(result))\n",
            "/usr/local/lib/python3.7/dist-packages/sklearn/metrics/_classification.py:1318: UndefinedMetricWarning: Precision is ill-defined and being set to 0.0 in labels with no predicted samples. Use `zero_division` parameter to control this behavior.\n",
            "  _warn_prf(average, modifier, msg_start, len(result))\n"
          ]
        }
      ]
    },
    {
      "cell_type": "code",
      "source": [],
      "metadata": {
        "id": "Rwv9dlF0Tf3c"
      },
      "execution_count": 36,
      "outputs": []
    }
  ],
  "metadata": {
    "accelerator": "GPU",
    "colab": {
      "provenance": []
    },
    "kernelspec": {
      "display_name": "Python 3.9.12",
      "language": "python",
      "name": "python3"
    },
    "language_info": {
      "name": "python",
      "version": "3.9.12"
    },
    "vscode": {
      "interpreter": {
        "hash": "d203a7fbe37afbb990fedfc21c321928443618f3d7b991e0237ff71906aa031f"
      }
    },
    "gpuClass": "standard"
  },
  "nbformat": 4,
  "nbformat_minor": 0
}