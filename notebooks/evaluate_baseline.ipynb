{
  "cells": [
    {
      "cell_type": "markdown",
      "metadata": {
        "id": "AEkdLm_JF84s"
      },
      "source": [
        "<center>\n",
        "<img src=\"https://raw.githubusercontent.com/afrisenti-semeval/afrisent-semeval-2023/main/afrisenti-logo.png\" width=\"30%\" />\n",
        "</center>"
      ]
    },
    {
      "cell_type": "markdown",
      "metadata": {
        "id": "pXY0zNpmLM1Z"
      },
      "source": [
        "<center>\n",
        "\n",
        "#SemEval 2023 Shared Task 12: AfriSenti (Task A)\n",
        "\n",
        "###Starter Notebook\n",
        "\n",
        "</center>"
      ]
    },
    {
      "cell_type": "markdown",
      "metadata": {
        "id": "jURfhK3zGM9x"
      },
      "source": [
        "#Leveraging Pre-trained A Language Model to Train A Sentiment Classifier\n",
        "\n",
        "**Authors:**\n",
        "[Idris Abdulmumin](https://www.hausanlp.org/author/idris-abdulmuminu/), [David Adelani](https://dadelani.github.io/) and [Shamsuddeen Hassan Muhammad](https://www.hausanlp.org/author/shamsuddeen-hassan-muhammad/).\n",
        "\n",
        "**Introduction:** \n",
        "\n",
        "You are welcome to participate in our first-of-its-kind SemEval Shared Task! \n",
        "\n",
        "In this starter notebook, we will take you through the process of fine-tuning a pre-trained language model on a sample data to build a sentiment classifier. The notebook was adapted from a [Hugginface implementation]( https://github.com/huggingface/transformers/blob/main/examples/pytorch/text-classification/run_xnli.py) for such tasks.\n",
        "\n",
        "**Languages (Tracks)**\n",
        "* Track 1: Hausa \n",
        "* Track 2: Yoruba\n",
        "* Track 3: Igbo\n",
        "* Track 4: Nigerian_Pidgin\n",
        "* Track 5: Amharic\n",
        "* Track 6: Algerian Arabic\n",
        "* Track 7: Moroccan Arabic/Darija,\n",
        "* Track 8: Swahili\n",
        "* Track 9: Kinyarwanda (data to be released soon)\n",
        "* Track 10: Twi (data to be released soon)\n",
        "* Track 11: Mozambican Portuguese\n",
        "* Track 12: Setswana (data to be released soon)\n",
        "* Track 13: isiZulu (data to be released soon)\n",
        "\n",
        "**Level:** <font color='blue'>`Beginner to Intermediate`</font>\n",
        "\n",
        "**Outline:** \n",
        "\n",
        "1. Installation and importation of necessary libraries\n",
        "2. Setting up the project parameters.\n",
        "3. Running training and evaluation\n",
        "\n",
        "**Before you start:**\n",
        "\n",
        "It is **strongly advised** that you use a GPU to speed up training. To do this, go to the \"Runtime\" menu in Colab, select \"Change runtime type\" and then in the popup menu, choose \"GPU\" in the \"Hardware accelerator\" box.\n",
        "\n",
        "NB: \n",
        "\n",
        "- **The codes in this notebook are provided to familiarize yourselves with fine-tuning language models for sentiment classification. You may extend and (or) modify as appropriate to obtain competitive performances**\n",
        "\n",
        "- **We also use the data as it is, without any cleaning such as removal of emoji and hyperlinks.**\n",
        "\n",
        "\n"
      ]
    },
    {
      "cell_type": "markdown",
      "metadata": {
        "id": "V4BB4JDx5W8d"
      },
      "source": [
        "#1) Installations and imports"
      ]
    },
    {
      "cell_type": "markdown",
      "metadata": {
        "id": "DObkW3ulM7yg"
      },
      "source": [
        "##a. Mount drive (if you are running on colab)"
      ]
    },
    {
      "cell_type": "code",
      "execution_count": null,
      "metadata": {
        "colab": {
          "base_uri": "https://localhost:8080/"
        },
        "id": "Z0IelbK7NBZZ",
        "outputId": "44affea7-69e3-40de-e4a9-b1b3bb75fea5"
      },
      "outputs": [
        {
          "output_type": "stream",
          "name": "stdout",
          "text": [
            "Mounted at /content/drive\n"
          ]
        }
      ],
      "source": [
        "from google.colab import drive\n",
        "drive.mount('/content/drive')"
      ]
    },
    {
      "cell_type": "markdown",
      "metadata": {
        "id": "U-OZxUWIMqtq"
      },
      "source": [
        "##b. Clone or update competition repository\n",
        "\n",
        "After cloning, under MyDrive, you will see afrisenti-semeval-2023 folder with all the the data for the afrisenti shared task (training and dev) "
      ]
    },
    {
      "cell_type": "code",
      "execution_count": null,
      "metadata": {
        "id": "2392TKadMvqT",
        "colab": {
          "base_uri": "https://localhost:8080/"
        },
        "outputId": "d1b58580-0231-4728-9367-4dd2ffba138e"
      },
      "outputs": [
        {
          "output_type": "stream",
          "name": "stdout",
          "text": [
            "/content/drive/MyDrive\n",
            "/content/drive/MyDrive/afrisent-semeval-2023\n",
            "From https://github.com/afrisenti-semeval/afrisent-semeval-2023\n",
            " * branch            HEAD       -> FETCH_HEAD\n",
            "Already up to date.\n"
          ]
        }
      ],
      "source": [
        "%cd /content/drive/MyDrive\n",
        "\n",
        "import os\n",
        "\n",
        "PROJECT_DIR = '/content/drive/MyDrive/afrisent-semeval-2023'\n",
        "PROJECT_GITHUB_URL = 'https://github.com/afrisenti-semeval/afrisent-semeval-2023.git'\n",
        "\n",
        "if not os.path.isdir(PROJECT_DIR):\n",
        "  !git clone {PROJECT_GITHUB_URL}\n",
        "else:\n",
        "  %cd {PROJECT_DIR}\n",
        "  !git pull {PROJECT_GITHUB_URL}"
      ]
    },
    {
      "cell_type": "markdown",
      "metadata": {
        "id": "Xb03Gp9fUN8C"
      },
      "source": [
        "##c. Install required libraries\n",
        "\n",
        "- Set the project dire\n",
        "ctory in the cell below, where the requirements file should also be located, and run the cell"
      ]
    },
    {
      "cell_type": "code",
      "execution_count": null,
      "metadata": {
        "id": "4Cbmi_mQ4k3a",
        "colab": {
          "base_uri": "https://localhost:8080/"
        },
        "outputId": "b5a5b1c1-6b6e-4255-dd8b-041d9eab54b8"
      },
      "outputs": [
        {
          "output_type": "stream",
          "name": "stdout",
          "text": [
            "Looking in indexes: https://pypi.org/simple, https://us-python.pkg.dev/colab-wheels/public/simple/\n",
            "Requirement already satisfied: pandas in /usr/local/lib/python3.7/dist-packages (from -r starter_kit/requirements.txt (line 1)) (1.3.5)\n",
            "Requirement already satisfied: numpy in /usr/local/lib/python3.7/dist-packages (from -r starter_kit/requirements.txt (line 2)) (1.21.6)\n",
            "Collecting transformers\n",
            "  Downloading transformers-4.24.0-py3-none-any.whl (5.5 MB)\n",
            "\u001b[K     |████████████████████████████████| 5.5 MB 30.8 MB/s \n",
            "\u001b[?25hRequirement already satisfied: torch>=1.3 in /usr/local/lib/python3.7/dist-packages (from -r starter_kit/requirements.txt (line 4)) (1.12.1+cu113)\n",
            "Requirement already satisfied: scipy in /usr/local/lib/python3.7/dist-packages (from -r starter_kit/requirements.txt (line 5)) (1.7.3)\n",
            "Requirement already satisfied: protobuf in /usr/local/lib/python3.7/dist-packages (from -r starter_kit/requirements.txt (line 6)) (3.17.3)\n",
            "Requirement already satisfied: scikit-learn in /usr/local/lib/python3.7/dist-packages (from -r starter_kit/requirements.txt (line 7)) (1.0.2)\n",
            "Collecting accelerate\n",
            "  Downloading accelerate-0.13.2-py3-none-any.whl (148 kB)\n",
            "\u001b[K     |████████████████████████████████| 148 kB 67.8 MB/s \n",
            "\u001b[?25hCollecting sentencepiece!=0.1.92\n",
            "  Downloading sentencepiece-0.1.97-cp37-cp37m-manylinux_2_17_x86_64.manylinux2014_x86_64.whl (1.3 MB)\n",
            "\u001b[K     |████████████████████████████████| 1.3 MB 61.7 MB/s \n",
            "\u001b[?25hCollecting datasets>=1.8.0\n",
            "  Downloading datasets-2.6.1-py3-none-any.whl (441 kB)\n",
            "\u001b[K     |████████████████████████████████| 441 kB 65.2 MB/s \n",
            "\u001b[?25hCollecting evaluate\n",
            "  Downloading evaluate-0.3.0-py3-none-any.whl (72 kB)\n",
            "\u001b[K     |████████████████████████████████| 72 kB 1.5 MB/s \n",
            "\u001b[?25hRequirement already satisfied: typing-extensions in /usr/local/lib/python3.7/dist-packages (from torch>=1.3->-r starter_kit/requirements.txt (line 4)) (4.1.1)\n",
            "Requirement already satisfied: aiohttp in /usr/local/lib/python3.7/dist-packages (from datasets>=1.8.0->-r starter_kit/requirements.txt (line 10)) (3.8.3)\n",
            "Requirement already satisfied: tqdm>=4.62.1 in /usr/local/lib/python3.7/dist-packages (from datasets>=1.8.0->-r starter_kit/requirements.txt (line 10)) (4.64.1)\n",
            "Collecting multiprocess\n",
            "  Downloading multiprocess-0.70.14-py37-none-any.whl (115 kB)\n",
            "\u001b[K     |████████████████████████████████| 115 kB 69.5 MB/s \n",
            "\u001b[?25hRequirement already satisfied: packaging in /usr/local/lib/python3.7/dist-packages (from datasets>=1.8.0->-r starter_kit/requirements.txt (line 10)) (21.3)\n",
            "Collecting responses<0.19\n",
            "  Downloading responses-0.18.0-py3-none-any.whl (38 kB)\n",
            "Requirement already satisfied: pyyaml>=5.1 in /usr/local/lib/python3.7/dist-packages (from datasets>=1.8.0->-r starter_kit/requirements.txt (line 10)) (6.0)\n",
            "Requirement already satisfied: importlib-metadata in /usr/local/lib/python3.7/dist-packages (from datasets>=1.8.0->-r starter_kit/requirements.txt (line 10)) (4.13.0)\n",
            "Collecting xxhash\n",
            "  Downloading xxhash-3.1.0-cp37-cp37m-manylinux_2_17_x86_64.manylinux2014_x86_64.whl (212 kB)\n",
            "\u001b[K     |████████████████████████████████| 212 kB 67.3 MB/s \n",
            "\u001b[?25hRequirement already satisfied: fsspec[http]>=2021.11.1 in /usr/local/lib/python3.7/dist-packages (from datasets>=1.8.0->-r starter_kit/requirements.txt (line 10)) (2022.10.0)\n",
            "Requirement already satisfied: requests>=2.19.0 in /usr/local/lib/python3.7/dist-packages (from datasets>=1.8.0->-r starter_kit/requirements.txt (line 10)) (2.23.0)\n",
            "Collecting huggingface-hub<1.0.0,>=0.2.0\n",
            "  Downloading huggingface_hub-0.10.1-py3-none-any.whl (163 kB)\n",
            "\u001b[K     |████████████████████████████████| 163 kB 74.1 MB/s \n",
            "\u001b[?25hRequirement already satisfied: pyarrow>=6.0.0 in /usr/local/lib/python3.7/dist-packages (from datasets>=1.8.0->-r starter_kit/requirements.txt (line 10)) (6.0.1)\n",
            "Collecting dill<0.3.6\n",
            "  Downloading dill-0.3.5.1-py2.py3-none-any.whl (95 kB)\n",
            "\u001b[K     |████████████████████████████████| 95 kB 6.1 MB/s \n",
            "\u001b[?25hRequirement already satisfied: charset-normalizer<3.0,>=2.0 in /usr/local/lib/python3.7/dist-packages (from aiohttp->datasets>=1.8.0->-r starter_kit/requirements.txt (line 10)) (2.1.1)\n",
            "Requirement already satisfied: attrs>=17.3.0 in /usr/local/lib/python3.7/dist-packages (from aiohttp->datasets>=1.8.0->-r starter_kit/requirements.txt (line 10)) (22.1.0)\n",
            "Requirement already satisfied: async-timeout<5.0,>=4.0.0a3 in /usr/local/lib/python3.7/dist-packages (from aiohttp->datasets>=1.8.0->-r starter_kit/requirements.txt (line 10)) (4.0.2)\n",
            "Requirement already satisfied: yarl<2.0,>=1.0 in /usr/local/lib/python3.7/dist-packages (from aiohttp->datasets>=1.8.0->-r starter_kit/requirements.txt (line 10)) (1.8.1)\n",
            "Requirement already satisfied: asynctest==0.13.0 in /usr/local/lib/python3.7/dist-packages (from aiohttp->datasets>=1.8.0->-r starter_kit/requirements.txt (line 10)) (0.13.0)\n",
            "Requirement already satisfied: frozenlist>=1.1.1 in /usr/local/lib/python3.7/dist-packages (from aiohttp->datasets>=1.8.0->-r starter_kit/requirements.txt (line 10)) (1.3.1)\n",
            "Requirement already satisfied: aiosignal>=1.1.2 in /usr/local/lib/python3.7/dist-packages (from aiohttp->datasets>=1.8.0->-r starter_kit/requirements.txt (line 10)) (1.2.0)\n",
            "Requirement already satisfied: multidict<7.0,>=4.5 in /usr/local/lib/python3.7/dist-packages (from aiohttp->datasets>=1.8.0->-r starter_kit/requirements.txt (line 10)) (6.0.2)\n",
            "Requirement already satisfied: filelock in /usr/local/lib/python3.7/dist-packages (from huggingface-hub<1.0.0,>=0.2.0->datasets>=1.8.0->-r starter_kit/requirements.txt (line 10)) (3.8.0)\n",
            "Requirement already satisfied: pyparsing!=3.0.5,>=2.0.2 in /usr/local/lib/python3.7/dist-packages (from packaging->datasets>=1.8.0->-r starter_kit/requirements.txt (line 10)) (3.0.9)\n",
            "Requirement already satisfied: certifi>=2017.4.17 in /usr/local/lib/python3.7/dist-packages (from requests>=2.19.0->datasets>=1.8.0->-r starter_kit/requirements.txt (line 10)) (2022.9.24)\n",
            "Requirement already satisfied: idna<3,>=2.5 in /usr/local/lib/python3.7/dist-packages (from requests>=2.19.0->datasets>=1.8.0->-r starter_kit/requirements.txt (line 10)) (2.10)\n",
            "Requirement already satisfied: urllib3!=1.25.0,!=1.25.1,<1.26,>=1.21.1 in /usr/local/lib/python3.7/dist-packages (from requests>=2.19.0->datasets>=1.8.0->-r starter_kit/requirements.txt (line 10)) (1.24.3)\n",
            "Requirement already satisfied: chardet<4,>=3.0.2 in /usr/local/lib/python3.7/dist-packages (from requests>=2.19.0->datasets>=1.8.0->-r starter_kit/requirements.txt (line 10)) (3.0.4)\n",
            "Collecting urllib3!=1.25.0,!=1.25.1,<1.26,>=1.21.1\n",
            "  Downloading urllib3-1.25.11-py2.py3-none-any.whl (127 kB)\n",
            "\u001b[K     |████████████████████████████████| 127 kB 70.0 MB/s \n",
            "\u001b[?25hRequirement already satisfied: python-dateutil>=2.7.3 in /usr/local/lib/python3.7/dist-packages (from pandas->-r starter_kit/requirements.txt (line 1)) (2.8.2)\n",
            "Requirement already satisfied: pytz>=2017.3 in /usr/local/lib/python3.7/dist-packages (from pandas->-r starter_kit/requirements.txt (line 1)) (2022.5)\n",
            "Requirement already satisfied: six>=1.5 in /usr/local/lib/python3.7/dist-packages (from python-dateutil>=2.7.3->pandas->-r starter_kit/requirements.txt (line 1)) (1.15.0)\n",
            "Requirement already satisfied: regex!=2019.12.17 in /usr/local/lib/python3.7/dist-packages (from transformers->-r starter_kit/requirements.txt (line 3)) (2022.6.2)\n",
            "Collecting tokenizers!=0.11.3,<0.14,>=0.11.1\n",
            "  Downloading tokenizers-0.13.2-cp37-cp37m-manylinux_2_17_x86_64.manylinux2014_x86_64.whl (7.6 MB)\n",
            "\u001b[K     |████████████████████████████████| 7.6 MB 60.7 MB/s \n",
            "\u001b[?25hRequirement already satisfied: threadpoolctl>=2.0.0 in /usr/local/lib/python3.7/dist-packages (from scikit-learn->-r starter_kit/requirements.txt (line 7)) (3.1.0)\n",
            "Requirement already satisfied: joblib>=0.11 in /usr/local/lib/python3.7/dist-packages (from scikit-learn->-r starter_kit/requirements.txt (line 7)) (1.2.0)\n",
            "Requirement already satisfied: psutil in /usr/local/lib/python3.7/dist-packages (from accelerate->-r starter_kit/requirements.txt (line 8)) (5.4.8)\n",
            "Requirement already satisfied: zipp>=0.5 in /usr/local/lib/python3.7/dist-packages (from importlib-metadata->datasets>=1.8.0->-r starter_kit/requirements.txt (line 10)) (3.10.0)\n",
            "Collecting multiprocess\n",
            "  Downloading multiprocess-0.70.13-py37-none-any.whl (115 kB)\n",
            "\u001b[K     |████████████████████████████████| 115 kB 70.8 MB/s \n",
            "\u001b[?25hInstalling collected packages: urllib3, dill, xxhash, responses, multiprocess, huggingface-hub, tokenizers, datasets, transformers, sentencepiece, evaluate, accelerate\n",
            "  Attempting uninstall: urllib3\n",
            "    Found existing installation: urllib3 1.24.3\n",
            "    Uninstalling urllib3-1.24.3:\n",
            "      Successfully uninstalled urllib3-1.24.3\n",
            "  Attempting uninstall: dill\n",
            "    Found existing installation: dill 0.3.6\n",
            "    Uninstalling dill-0.3.6:\n",
            "      Successfully uninstalled dill-0.3.6\n",
            "Successfully installed accelerate-0.13.2 datasets-2.6.1 dill-0.3.5.1 evaluate-0.3.0 huggingface-hub-0.10.1 multiprocess-0.70.13 responses-0.18.0 sentencepiece-0.1.97 tokenizers-0.13.2 transformers-4.24.0 urllib3-1.25.11 xxhash-3.1.0\n"
          ]
        }
      ],
      "source": [
        "if os.path.isdir(PROJECT_DIR):\n",
        "  #The requirements file should be in PROJECT_DIR\n",
        "  if os.path.isfile(os.path.join(PROJECT_DIR, 'starter_kit/requirements.txt')):\n",
        "    !pip install -r starter_kit/requirements.txt\n",
        "  else:\n",
        "    print('requirements.txt file not found')\n",
        "\n",
        "else:\n",
        "  print(\"Project directory not found, please check again.\")"
      ]
    },
    {
      "cell_type": "markdown",
      "metadata": {
        "id": "2zszKhh2Ufb3"
      },
      "source": [
        "##d. Import libraries\n",
        "\n",
        "Import libraries below"
      ]
    },
    {
      "cell_type": "code",
      "execution_count": null,
      "metadata": {
        "id": "8QIl420aUM1O"
      },
      "outputs": [],
      "source": [
        "import pandas as pd\n",
        "import numpy as np\n",
        "\n",
        "# Please don not edit anything here\n",
        "languages = ['am', 'dz', 'ha', 'ig', 'ma', 'pcm', 'pt', 'sw', 'yo']"
      ]
    },
    {
      "cell_type": "markdown",
      "metadata": {
        "id": "SoRyMJMDJ7lF"
      },
      "source": [
        "#2) Dataset"
      ]
    },
    {
      "cell_type": "markdown",
      "metadata": {
        "id": "3wk5vMnrXMSS"
      },
      "source": [
        "##a. Formatting\n",
        "\n",
        "The training dataset that was provided for the competition is in the following format:\n",
        "\n",
        "| ID | text | label |\n",
        "| --- | --- | --- |\n",
        "| twt001 | example text | negative |\n",
        "| twt002 | example text | positive |\n",
        "| ... | ... | ... |\n",
        "\n",
        "However, the code in the starter kit do not expect the \n",
        "ID and require the training (and evaluation) data to be in the following format\n",
        "\n",
        "|text | label |\n",
        "|--- | --- |\n",
        "|example text | negative |\n",
        "|example text | positive |\n",
        "|... | ... |\n",
        "\n",
        "To reformat the data run the following cell"
      ]
    },
    {
      "cell_type": "code",
      "source": [
        "# Training Data Paths\n",
        "\n",
        "TASK = 'SubtaskA'\n",
        "TRAINING_DATA_DIR = os.path.join(PROJECT_DIR, TASK, 'train')\n",
        "FORMATTED_TRAIN_DATA = os.path.join(TRAINING_DATA_DIR, 'formatted-train-data')\n",
        "\n",
        "if os.path.isdir(TRAINING_DATA_DIR):\n",
        "  print('Data directory found.')\n",
        "  if not os.path.isdir(FORMATTED_TRAIN_DATA):\n",
        "    print('Creating directory to store formatted data.')\n",
        "    os.mkdir(FORMATTED_TRAIN_DATA)\n",
        "else:\n",
        "  print(TRAINING_DATA_DIR + ' is not a valid directory or does not exist!')"
      ],
      "metadata": {
        "id": "QzoSbWC678Zm",
        "colab": {
          "base_uri": "https://localhost:8080/"
        },
        "outputId": "bda89b81-7175-4275-a942-e9db08920e4c"
      },
      "execution_count": null,
      "outputs": [
        {
          "output_type": "stream",
          "name": "stdout",
          "text": [
            "Data directory found.\n"
          ]
        }
      ]
    },
    {
      "cell_type": "code",
      "execution_count": null,
      "metadata": {
        "id": "ssyIZOUJMrzM",
        "colab": {
          "base_uri": "https://localhost:8080/"
        },
        "outputId": "e78a8e5e-7348-4043-e17a-a72774a4db25"
      },
      "outputs": [
        {
          "output_type": "stream",
          "name": "stdout",
          "text": [
            "/content/drive/MyDrive/afrisent-semeval-2023/SubtaskA/train\n",
            "README.txt skipped!\n",
            "formatted-train-data skipped!\n",
            "splitted-train-dev-test skipped!\n",
            "splitted-train-dev skipped!\n"
          ]
        }
      ],
      "source": [
        "%cd {TRAINING_DATA_DIR}\n",
        "\n",
        "training_files = os.listdir()\n",
        "\n",
        "if len(training_files) > 0:\n",
        "  for training_file in training_files:\n",
        "    if training_file.endswith('.tsv'):\n",
        "\n",
        "      data = training_file.split('_')[0]\n",
        "      if not os.path.isdir(os.path.join(FORMATTED_TRAIN_DATA, data)):\n",
        "        print(data, 'Creating directory to store train, dev and test splits.')\n",
        "        os.mkdir(os.path.join(FORMATTED_TRAIN_DATA, data))\n",
        "      \n",
        "      df = pd.read_csv(training_file, sep='\\t', names=['ID', 'text', 'label'], header=0)\n",
        "      df[['text', 'label']].to_csv(os.path.join(FORMATTED_TRAIN_DATA, data, 'train.tsv'), sep='\\t', index=False)\n",
        "    else:\n",
        "      print(training_file + ' skipped!')\n",
        "else:\n",
        "  print('No files are found in this directory!')"
      ]
    },
    {
      "cell_type": "markdown",
      "metadata": {
        "id": "7S2Dup8GHl1Q"
      },
      "source": [
        "After running the code above, a new folder (called formated-train-data) with formated files is created in the \"datasets\" folder in the train sub-folder."
      ]
    },
    {
      "cell_type": "markdown",
      "metadata": {
        "id": "5LgeVN_wXGrq"
      },
      "source": [
        "##b. <font color='red'>`(Optional) Creating Evaluation (Dev and Test) sets from the available training data`</font>\n",
        "\n",
        "You may wish to create train and evaluation (dev and test) sets from the training data provided. If you wish to do so, you can run any of the cells below`"
      ]
    },
    {
      "cell_type": "markdown",
      "metadata": {
        "id": "APxVxL06lfux"
      },
      "source": [
        "###i. If you want to create both the Dev and Test sets, run this cell"
      ]
    },
    {
      "cell_type": "code",
      "execution_count": null,
      "metadata": {
        "id": "aVq1Blz0YF2b",
        "colab": {
          "base_uri": "https://localhost:8080/"
        },
        "outputId": "28f9bce0-3ca4-4a1f-f04b-eae12c6e27de"
      },
      "outputs": [
        {
          "output_type": "stream",
          "name": "stdout",
          "text": [
            "Data directory found.\n",
            "Creating directory to store train, dev and test splits.\n",
            "/content/drive/MyDrive/afrisent-semeval-2023/SubtaskA/train/formatted-train-data\n",
            "am Creating directory to store train, dev and test splits.\n",
            "dz Creating directory to store train, dev and test splits.\n",
            "ha Creating directory to store train, dev and test splits.\n",
            "ig Creating directory to store train, dev and test splits.\n",
            "ma Creating directory to store train, dev and test splits.\n",
            "pcm Creating directory to store train, dev and test splits.\n",
            "pt Creating directory to store train, dev and test splits.\n",
            "sw Creating directory to store train, dev and test splits.\n",
            "yo Creating directory to store train, dev and test splits.\n"
          ]
        }
      ],
      "source": [
        "if os.path.isdir(FORMATTED_TRAIN_DATA):\n",
        "  print('Data directory found.')\n",
        "  SPLITTED_DATA = os.path.join(TRAINING_DATA_DIR, 'splitted-train-dev-test')\n",
        "  if not os.path.isdir(SPLITTED_DATA):\n",
        "    print('Creating directory to store train, dev and test splits.')\n",
        "    os.mkdir(SPLITTED_DATA)\n",
        "else:\n",
        "  print(FORMATTED_TRAIN_DATA + ' is not a valid directory or does not exist!')\n",
        "\n",
        "%cd {FORMATTED_TRAIN_DATA}\n",
        "formatted_training_files = os.listdir()\n",
        "\n",
        "if len(formatted_training_files) > 0:\n",
        "  for data_name in formatted_training_files:\n",
        "    formatted_training_file = os.path.join(data_name, 'train.tsv')\n",
        "    if os.path.isfile(formatted_training_file):\n",
        "      labeled_tweets = pd.read_csv(formatted_training_file, sep='\\t', names=['text', 'label'], header=0)\n",
        "      train, dev, test = np.split(labeled_tweets.sample(frac=1, random_state=42), [int(.7*len(labeled_tweets)), int(.8*len(labeled_tweets))])\n",
        "\n",
        "      if not os.path.isdir(os.path.join(SPLITTED_DATA, data_name)):\n",
        "        print(data_name, 'Creating directory to store train, dev and test splits.')\n",
        "        os.mkdir(os.path.join(SPLITTED_DATA, data_name))\n",
        "\n",
        "      train.sample(frac=1).to_csv(os.path.join(SPLITTED_DATA, data_name, 'train.tsv'), sep='\\t', index=False)\n",
        "      dev.sample(frac=1).to_csv(os.path.join(SPLITTED_DATA, data_name, 'dev.tsv'), sep='\\t', index=False)\n",
        "      test.sample(frac=1).to_csv(os.path.join(SPLITTED_DATA, data_name,'test.tsv'), sep='\\t', index=False)\n",
        "    else:\n",
        "      print(training_file + ' is not a supported file!')\n",
        "else:\n",
        "  print('No files are found in this directory!')"
      ]
    },
    {
      "cell_type": "markdown",
      "metadata": {
        "id": "cZy_rzouJZFz"
      },
      "source": [
        "After running the code above, a new folder (called splitted-train-dev-test) with train-dev-test split is created in the \"datasets\" folder in the train sub-folder. Here, the train-dev-test split is 70/10/20\n",
        "\n"
      ]
    },
    {
      "cell_type": "markdown",
      "metadata": {
        "id": "V4UObc2ql-Zd"
      },
      "source": [
        "###ii. If you want to create only the Dev set from the training data, please run this"
      ]
    },
    {
      "cell_type": "code",
      "execution_count": null,
      "metadata": {
        "id": "tU24jW_gmFu9",
        "colab": {
          "base_uri": "https://localhost:8080/"
        },
        "outputId": "60c17b69-4e70-42e0-8807-4a6cd04e7fa2"
      },
      "outputs": [
        {
          "output_type": "stream",
          "name": "stdout",
          "text": [
            "Data directory found.\n",
            "Creating directory to store train, dev and test splits.\n",
            "/content/drive/MyDrive/afrisent-semeval-2023/SubtaskA/train/formatted-train-data\n",
            "am Creating directory to store train, dev and test splits.\n",
            "dz Creating directory to store train, dev and test splits.\n",
            "ha Creating directory to store train, dev and test splits.\n",
            "ig Creating directory to store train, dev and test splits.\n",
            "ma Creating directory to store train, dev and test splits.\n",
            "pcm Creating directory to store train, dev and test splits.\n",
            "pt Creating directory to store train, dev and test splits.\n",
            "sw Creating directory to store train, dev and test splits.\n",
            "yo Creating directory to store train, dev and test splits.\n"
          ]
        }
      ],
      "source": [
        "from sklearn.model_selection import train_test_split\n",
        "\n",
        "if os.path.isdir(FORMATTED_TRAIN_DATA):\n",
        "  print('Data directory found.')\n",
        "  SPLITTED_DATA = os.path.join(TRAINING_DATA_DIR, 'splitted-train-dev')\n",
        "  if not os.path.isdir(SPLITTED_DATA):\n",
        "    print('Creating directory to store train, dev and test splits.')\n",
        "    os.mkdir(SPLITTED_DATA)\n",
        "else:\n",
        "  print(FORMATTED_TRAIN_DATA + ' is not a valid directory or does not exist!')\n",
        "\n",
        "%cd {FORMATTED_TRAIN_DATA}\n",
        "formatted_training_files = os.listdir()\n",
        "\n",
        "if len(formatted_training_files) > 0:\n",
        "  for data_name in formatted_training_files:\n",
        "    formatted_training_file = os.path.join(data_name, 'train.tsv')\n",
        "    if os.path.isfile(formatted_training_file):\n",
        "      labeled_tweets = pd.read_csv(formatted_training_file, sep='\\t', names=['text', 'label'], header=0)\n",
        "      train, dev = train_test_split(labeled_tweets, test_size=0.3)\n",
        "\n",
        "      if not os.path.isdir(os.path.join(SPLITTED_DATA, data_name)):\n",
        "        print(data_name, 'Creating directory to store train, dev and test splits.')\n",
        "        os.mkdir(os.path.join(SPLITTED_DATA, data_name))\n",
        "\n",
        "      train.sample(frac=1).to_csv(os.path.join(SPLITTED_DATA, data_name, 'train.tsv'), sep='\\t', index=False)\n",
        "      dev.sample(frac=1).to_csv(os.path.join(SPLITTED_DATA, data_name, 'dev.tsv'), sep='\\t', index=False)\n",
        "    else:\n",
        "      print(training_file + ' is not a supported file!')\n",
        "else:\n",
        "  print('No files are found in this directory!')"
      ]
    },
    {
      "cell_type": "markdown",
      "metadata": {
        "id": "usfr00QhKSnd"
      },
      "source": [
        "After running the code above, a new folder (called splitted-train-dev) with train-dev split is created in the \"datasets\" folder in the train sub-folder. Here, the train-dev split is 70/30\n"
      ]
    },
    {
      "cell_type": "markdown",
      "metadata": {
        "id": "aDoyRlje3Rm7"
      },
      "source": [
        "#3) Training setup"
      ]
    },
    {
      "cell_type": "markdown",
      "metadata": {
        "id": "8AaXec415s0f"
      },
      "source": [
        "##a. Set project parameters\n",
        "\n",
        "For a list of models that be used for fine-tuning, you can check [HERE](https://huggingface.co/models)."
      ]
    },
    {
      "cell_type": "markdown",
      "source": [
        "### i. set language code"
      ],
      "metadata": {
        "id": "lOrRDPAMCZ8V"
      }
    },
    {
      "cell_type": "code",
      "source": [
        "# Language to train sentiment classifier for\n",
        "LANGUAGE_CODE = 'ha' # 'am', 'dz', 'ha', 'ig', 'ma', 'pcm', 'pt', 'sw', 'yo'"
      ],
      "metadata": {
        "id": "f_yuSyhAA6J_"
      },
      "execution_count": null,
      "outputs": []
    },
    {
      "cell_type": "code",
      "source": [
        "# Language to train sentiment classifier for\n",
        "LANGUAGE_CODE = 'am' # 'am', 'dz', 'ha', 'ig', 'ma', 'pcm', 'pt', 'sw', 'yo'"
      ],
      "metadata": {
        "id": "75vcCCUjBKD_"
      },
      "execution_count": null,
      "outputs": []
    },
    {
      "cell_type": "code",
      "source": [
        "# Language to train sentiment classifier for\n",
        "LANGUAGE_CODE = 'dz' # 'am', 'dz', 'ha', 'ig', 'ma', 'pcm', 'pt', 'sw', 'yo'"
      ],
      "metadata": {
        "id": "IkpytQj6Baiw"
      },
      "execution_count": null,
      "outputs": []
    },
    {
      "cell_type": "code",
      "source": [
        "# Language to train sentiment classifier for\n",
        "LANGUAGE_CODE = 'ig' # 'am', 'dz', 'ha', 'ig', 'ma', 'pcm', 'pt', 'sw', 'yo'"
      ],
      "metadata": {
        "id": "7UmnE9jQBkly"
      },
      "execution_count": null,
      "outputs": []
    },
    {
      "cell_type": "code",
      "source": [
        "# Language to train sentiment classifier for\n",
        "LANGUAGE_CODE = 'ma' # 'am', 'dz', 'ha', 'ig', 'ma', 'pcm', 'pt', 'sw', 'yo'"
      ],
      "metadata": {
        "id": "B1mLAR1vBmuI"
      },
      "execution_count": null,
      "outputs": []
    },
    {
      "cell_type": "code",
      "source": [
        "# Language to train sentiment classifier for\n",
        "LANGUAGE_CODE = 'pcm' # 'am', 'dz', 'ha', 'ig', 'ma', 'pcm', 'pt', 'sw', 'yo'"
      ],
      "metadata": {
        "id": "e4h-EcjWBnI5"
      },
      "execution_count": null,
      "outputs": []
    },
    {
      "cell_type": "code",
      "source": [
        "# Language to train sentiment classifier for\n",
        "LANGUAGE_CODE = 'pt' # 'am', 'dz', 'ha', 'ig', 'ma', 'pcm', 'pt', 'sw', 'yo'"
      ],
      "metadata": {
        "id": "cmvcxb9WBndT"
      },
      "execution_count": null,
      "outputs": []
    },
    {
      "cell_type": "code",
      "source": [
        "# Language to train sentiment classifier for\n",
        "LANGUAGE_CODE = 'sw' # 'am', 'dz', 'ha', 'ig', 'ma', 'pcm', 'pt', 'sw', 'yo'"
      ],
      "metadata": {
        "id": "ZZxtQEJyBn23"
      },
      "execution_count": null,
      "outputs": []
    },
    {
      "cell_type": "code",
      "source": [
        "# Language to train sentiment classifier for\n",
        "LANGUAGE_CODE = 'yo' # 'am', 'dz', 'ha', 'ig', 'ma', 'pcm', 'pt', 'sw', 'yo'"
      ],
      "metadata": {
        "id": "aRwNAWFsBo7h"
      },
      "execution_count": null,
      "outputs": []
    },
    {
      "cell_type": "markdown",
      "source": [
        "### ii. set other params"
      ],
      "metadata": {
        "id": "rG57qvzSCmjd"
      }
    },
    {
      "cell_type": "code",
      "execution_count": null,
      "metadata": {
        "id": "M0TKIFrE5ybV",
        "colab": {
          "base_uri": "https://localhost:8080/"
        },
        "outputId": "647a65c6-365e-482f-9d9d-d71fcceb1f29"
      },
      "outputs": [
        {
          "output_type": "stream",
          "name": "stdout",
          "text": [
            "/content/drive/MyDrive/afrisent-semeval-2023\n",
            "Everything set. You can now start model training.\n"
          ]
        }
      ],
      "source": [
        "%cd {PROJECT_DIR}\n",
        "\n",
        "# # Language to train sentiment classifier for\n",
        "# LANGUAGE_CODE = 'am' # 'am', 'dz', 'ha', 'ig', 'ma', 'pcm', 'pt', 'sw', 'yo' DO NOT EASILTY UNCOMMENT THIS LINE\n",
        "\n",
        "if LANGUAGE_CODE in languages:\n",
        "  # Model Training Parameters\n",
        "  MODEL_NAME_OR_PATH = 'Davlan/afro-xlmr-mini'\n",
        "  BATCH_SIZE = 32\n",
        "  LEARNING_RATE = 5e-5 #0.005\n",
        "  NUMBER_OF_TRAINING_EPOCHS = 5 #100\n",
        "  MAXIMUM_SEQUENCE_LENGTH = 128\n",
        "  SAVE_STEPS = -1\n",
        "\n",
        "  print('Everything set. You can now start model training.')\n",
        "\n",
        "else:\n",
        "  print(\"Invalid language code/Dataset not released. Please input any of the following released data\\n\\n\\t- 'am'\\n\\t- 'dz'\\n\\t- 'ha'\\n\\t- 'ig'\\n\\t- 'ma'\\n\\t- 'pcm'\\n\\t- 'pt'\\n\\t- 'sw'\\n\\t- 'yo'\")"
      ]
    },
    {
      "cell_type": "markdown",
      "metadata": {
        "id": "I2qcCQnU8dgQ"
      },
      "source": [
        "##b. Train the model\n",
        "\n",
        "In the section below, we provide three options: \n",
        "\n",
        "- 1) training model without any validation; \n",
        "- 2) training model with validation but without testing; \n",
        "- 3) training a model with validation and test set."
      ]
    },
    {
      "cell_type": "markdown",
      "metadata": {
        "id": "8fEw-qcEhYnx"
      },
      "source": [
        "###i. Training on only Train set, without any evaluation"
      ]
    },
    {
      "cell_type": "code",
      "execution_count": null,
      "metadata": {
        "id": "kAgg2MmAhiiW"
      },
      "outputs": [],
      "source": [
        "DATA_DIR = os.path.join(TRAINING_DATA_DIR, 'formatted-train-data', LANGUAGE_CODE)\n",
        "OUTPUT_DIR = os.path.join(PROJECT_DIR, 'models', LANGUAGE_CODE + '_no_eval')\n",
        "\n",
        "!CUDA_VISIBLE_DEVICES=0 python starter_kit/run_textclass.py \\\n",
        "  --model_name_or_path {MODEL_NAME_OR_PATH} \\\n",
        "  --data_dir {DATA_DIR} \\\n",
        "  --do_train \\\n",
        "  --per_device_train_batch_size {BATCH_SIZE} \\\n",
        "  --learning_rate {LEARNING_RATE} \\\n",
        "  --num_train_epochs {NUMBER_OF_TRAINING_EPOCHS} \\\n",
        "  --max_seq_length {MAXIMUM_SEQUENCE_LENGTH} \\\n",
        "  --output_dir {OUTPUT_DIR} \\\n",
        "  --save_steps {SAVE_STEPS}"
      ]
    },
    {
      "cell_type": "markdown",
      "metadata": {
        "id": "wZtt5lBBLPz1"
      },
      "source": [
        "As you may observe, the training loss is very large. As a start, you can tune the training parameters and model to get a competitive result. \n",
        "\n",
        "You can observe also, there is no validation metrics (e.g., accuracy, loss etc) since we are only training without validtaion "
      ]
    },
    {
      "cell_type": "markdown",
      "metadata": {
        "id": "MpFSMaAzhS5Q"
      },
      "source": [
        "###ii. Training on only Train and Dev sets"
      ]
    },
    {
      "cell_type": "code",
      "execution_count": null,
      "metadata": {
        "id": "3TMAD_iLhpgI"
      },
      "outputs": [],
      "source": [
        "DATA_DIR = os.path.join(TRAINING_DATA_DIR, 'splitted-train-dev', LANGUAGE_CODE)\n",
        "OUTPUT_DIR = os.path.join(PROJECT_DIR, 'models', LANGUAGE_CODE + '_no_test')\n",
        "\n",
        "!CUDA_VISIBLE_DEVICES=0 python starter_kit/run_textclass.py \\\n",
        "  --model_name_or_path {MODEL_NAME_OR_PATH} \\\n",
        "  --data_dir {DATA_DIR} \\\n",
        "  --do_train \\\n",
        "  --do_eval \\\n",
        "  --per_device_train_batch_size {BATCH_SIZE} \\\n",
        "  --learning_rate {LEARNING_RATE} \\\n",
        "  --num_train_epochs {NUMBER_OF_TRAINING_EPOCHS} \\\n",
        "  --max_seq_length {MAXIMUM_SEQUENCE_LENGTH} \\\n",
        "  --output_dir {OUTPUT_DIR} \\\n",
        "  --save_steps {SAVE_STEPS}"
      ]
    },
    {
      "cell_type": "markdown",
      "metadata": {
        "id": "_3I2VJlCMJTN"
      },
      "source": [
        "Now, you can observe, there is evalidation metrics (e.g., accuracy, loss etc) since we are evaluating our model performance on the validation set we created from the \n",
        "training data.\n",
        "\n",
        "\n",
        "\n",
        "\n"
      ]
    },
    {
      "cell_type": "markdown",
      "metadata": {
        "id": "jW99ncOhhDEm"
      },
      "source": [
        "###iii. Training with Train, Dev and Test sets"
      ]
    },
    {
      "cell_type": "code",
      "execution_count": null,
      "metadata": {
        "id": "zaVssq7a1uwk",
        "colab": {
          "base_uri": "https://localhost:8080/"
        },
        "outputId": "dec256b4-620c-4b76-fe77-f1f069176702"
      },
      "outputs": [
        {
          "output_type": "stream",
          "name": "stdout",
          "text": [
            "WARNING:__main__:Process rank: -1, device: cuda:0, n_gpu: 1distributed training: False, 16-bits training: False\n",
            "INFO:__main__:Training/evaluation parameters TrainingArguments(\n",
            "_n_gpu=1,\n",
            "adafactor=False,\n",
            "adam_beta1=0.9,\n",
            "adam_beta2=0.999,\n",
            "adam_epsilon=1e-08,\n",
            "auto_find_batch_size=False,\n",
            "bf16=False,\n",
            "bf16_full_eval=False,\n",
            "data_seed=None,\n",
            "dataloader_drop_last=False,\n",
            "dataloader_num_workers=0,\n",
            "dataloader_pin_memory=True,\n",
            "ddp_bucket_cap_mb=None,\n",
            "ddp_find_unused_parameters=None,\n",
            "ddp_timeout=1800,\n",
            "debug=[],\n",
            "deepspeed=None,\n",
            "disable_tqdm=False,\n",
            "do_eval=True,\n",
            "do_predict=True,\n",
            "do_train=True,\n",
            "eval_accumulation_steps=None,\n",
            "eval_delay=0,\n",
            "eval_steps=None,\n",
            "evaluation_strategy=no,\n",
            "fp16=False,\n",
            "fp16_backend=auto,\n",
            "fp16_full_eval=False,\n",
            "fp16_opt_level=O1,\n",
            "fsdp=[],\n",
            "fsdp_min_num_params=0,\n",
            "fsdp_transformer_layer_cls_to_wrap=None,\n",
            "full_determinism=False,\n",
            "gradient_accumulation_steps=1,\n",
            "gradient_checkpointing=False,\n",
            "greater_is_better=None,\n",
            "group_by_length=False,\n",
            "half_precision_backend=auto,\n",
            "hub_model_id=None,\n",
            "hub_private_repo=False,\n",
            "hub_strategy=every_save,\n",
            "hub_token=<HUB_TOKEN>,\n",
            "ignore_data_skip=False,\n",
            "include_inputs_for_metrics=False,\n",
            "jit_mode_eval=False,\n",
            "label_names=None,\n",
            "label_smoothing_factor=0.0,\n",
            "learning_rate=5e-05,\n",
            "length_column_name=length,\n",
            "load_best_model_at_end=False,\n",
            "local_rank=-1,\n",
            "log_level=passive,\n",
            "log_level_replica=passive,\n",
            "log_on_each_node=True,\n",
            "logging_dir=/content/drive/MyDrive/afrisent-semeval-2023/models/yo/runs/Nov08_08-26-19_254b84a14870,\n",
            "logging_first_step=False,\n",
            "logging_nan_inf_filter=True,\n",
            "logging_steps=500,\n",
            "logging_strategy=steps,\n",
            "lr_scheduler_type=linear,\n",
            "max_grad_norm=1.0,\n",
            "max_steps=-1,\n",
            "metric_for_best_model=None,\n",
            "mp_parameters=,\n",
            "no_cuda=False,\n",
            "num_train_epochs=5.0,\n",
            "optim=adamw_hf,\n",
            "output_dir=/content/drive/MyDrive/afrisent-semeval-2023/models/yo,\n",
            "overwrite_output_dir=False,\n",
            "past_index=-1,\n",
            "per_device_eval_batch_size=8,\n",
            "per_device_train_batch_size=32,\n",
            "prediction_loss_only=False,\n",
            "push_to_hub=False,\n",
            "push_to_hub_model_id=None,\n",
            "push_to_hub_organization=None,\n",
            "push_to_hub_token=<PUSH_TO_HUB_TOKEN>,\n",
            "ray_scope=last,\n",
            "remove_unused_columns=True,\n",
            "report_to=['tensorboard'],\n",
            "resume_from_checkpoint=None,\n",
            "run_name=/content/drive/MyDrive/afrisent-semeval-2023/models/yo,\n",
            "save_on_each_node=False,\n",
            "save_steps=-1,\n",
            "save_strategy=steps,\n",
            "save_total_limit=None,\n",
            "seed=42,\n",
            "sharded_ddp=[],\n",
            "skip_memory_metrics=True,\n",
            "tf32=None,\n",
            "torchdynamo=None,\n",
            "tpu_metrics_debug=False,\n",
            "tpu_num_cores=None,\n",
            "use_ipex=False,\n",
            "use_legacy_prediction_loop=False,\n",
            "use_mps_device=False,\n",
            "warmup_ratio=0.0,\n",
            "warmup_steps=0,\n",
            "weight_decay=0.0,\n",
            "xpu_backend=None,\n",
            ")\n",
            "['positive', 'neutral', 'negative']\n",
            "[INFO|configuration_utils.py:654] 2022-11-08 08:26:20,279 >> loading configuration file config.json from cache at /root/.cache/huggingface/hub/models--Davlan--afro-xlmr-mini/snapshots/fda28c209984483d597e7388c80b6f6ae5af59b5/config.json\n",
            "[INFO|configuration_utils.py:706] 2022-11-08 08:26:20,282 >> Model config XLMRobertaConfig {\n",
            "  \"_name_or_path\": \"Davlan/afro-xlmr-mini\",\n",
            "  \"architectures\": [\n",
            "    \"XLMRobertaForMaskedLM\"\n",
            "  ],\n",
            "  \"attention_probs_dropout_prob\": 0.1,\n",
            "  \"bos_token_id\": 0,\n",
            "  \"classifier_dropout\": null,\n",
            "  \"eos_token_id\": 2,\n",
            "  \"hidden_act\": \"gelu\",\n",
            "  \"hidden_dropout_prob\": 0.1,\n",
            "  \"hidden_size\": 384,\n",
            "  \"id2label\": {\n",
            "    \"0\": \"LABEL_0\",\n",
            "    \"1\": \"LABEL_1\",\n",
            "    \"2\": \"LABEL_2\"\n",
            "  },\n",
            "  \"initializer_range\": 0.02,\n",
            "  \"intermediate_size\": 1536,\n",
            "  \"label2id\": {\n",
            "    \"LABEL_0\": 0,\n",
            "    \"LABEL_1\": 1,\n",
            "    \"LABEL_2\": 2\n",
            "  },\n",
            "  \"layer_norm_eps\": 1e-05,\n",
            "  \"max_position_embeddings\": 514,\n",
            "  \"model_type\": \"xlm-roberta\",\n",
            "  \"num_attention_heads\": 12,\n",
            "  \"num_hidden_layers\": 12,\n",
            "  \"pad_token_id\": 1,\n",
            "  \"position_embedding_type\": \"absolute\",\n",
            "  \"torch_dtype\": \"float32\",\n",
            "  \"transformers_version\": \"4.24.0\",\n",
            "  \"type_vocab_size\": 1,\n",
            "  \"use_cache\": true,\n",
            "  \"vocab_size\": 250002\n",
            "}\n",
            "\n",
            "[INFO|tokenization_utils_base.py:1775] 2022-11-08 08:26:21,229 >> loading file sentencepiece.bpe.model from cache at /root/.cache/huggingface/hub/models--Davlan--afro-xlmr-mini/snapshots/fda28c209984483d597e7388c80b6f6ae5af59b5/sentencepiece.bpe.model\n",
            "[INFO|tokenization_utils_base.py:1775] 2022-11-08 08:26:21,229 >> loading file tokenizer.json from cache at /root/.cache/huggingface/hub/models--Davlan--afro-xlmr-mini/snapshots/fda28c209984483d597e7388c80b6f6ae5af59b5/tokenizer.json\n",
            "[INFO|tokenization_utils_base.py:1775] 2022-11-08 08:26:21,229 >> loading file added_tokens.json from cache at None\n",
            "[INFO|tokenization_utils_base.py:1775] 2022-11-08 08:26:21,229 >> loading file special_tokens_map.json from cache at /root/.cache/huggingface/hub/models--Davlan--afro-xlmr-mini/snapshots/fda28c209984483d597e7388c80b6f6ae5af59b5/special_tokens_map.json\n",
            "[INFO|tokenization_utils_base.py:1775] 2022-11-08 08:26:21,229 >> loading file tokenizer_config.json from cache at /root/.cache/huggingface/hub/models--Davlan--afro-xlmr-mini/snapshots/fda28c209984483d597e7388c80b6f6ae5af59b5/tokenizer_config.json\n",
            "[INFO|modeling_utils.py:2158] 2022-11-08 08:26:21,797 >> loading weights file pytorch_model.bin from cache at /root/.cache/huggingface/hub/models--Davlan--afro-xlmr-mini/snapshots/fda28c209984483d597e7388c80b6f6ae5af59b5/pytorch_model.bin\n",
            "[WARNING|modeling_utils.py:2599] 2022-11-08 08:26:23,066 >> Some weights of the model checkpoint at Davlan/afro-xlmr-mini were not used when initializing XLMRobertaForSequenceClassification: ['lm_head.layer_norm.weight', 'lm_head.dense.bias', 'lm_head.bias', 'lm_head.dense.weight', 'lm_head.layer_norm.bias']\n",
            "- This IS expected if you are initializing XLMRobertaForSequenceClassification from the checkpoint of a model trained on another task or with another architecture (e.g. initializing a BertForSequenceClassification model from a BertForPreTraining model).\n",
            "- This IS NOT expected if you are initializing XLMRobertaForSequenceClassification from the checkpoint of a model that you expect to be exactly identical (initializing a BertForSequenceClassification model from a BertForSequenceClassification model).\n",
            "[WARNING|modeling_utils.py:2611] 2022-11-08 08:26:23,066 >> Some weights of XLMRobertaForSequenceClassification were not initialized from the model checkpoint at Davlan/afro-xlmr-mini and are newly initialized: ['classifier.dense.bias', 'classifier.out_proj.weight', 'classifier.out_proj.bias', 'classifier.dense.weight']\n",
            "You should probably TRAIN this model on a down-stream task to be able to use it for predictions and inference.\n",
            "Running tokenizer on train dataset:  83% 5/6 [00:00<00:00,  7.08ba/s]\n",
            "INFO:__main__:Sample 5238 of the training set: {'text': \"Ìwà l'ẹwà. Ìwà rere l'ẹ̀ṣọ́ ènìyàn. Tọ́jú ìwà rẹ ọ̀rẹ́ẹ̀ mi.\", 'label': 0, '__index_level_0__': 5238, 'input_ids': [0, 6, 107688, 434, 1298, 96, 25, 45743, 434, 1298, 5, 6, 107688, 434, 1298, 456, 107, 96, 25, 45743, 10565, 37267, 19030, 4868, 565, 19, 10230, 53, 40974, 5, 384, 19030, 4868, 5229, 6, 10230, 434, 1298, 1690, 45743, 6, 19030, 10565, 42, 45743, 4868, 45743, 10565, 324, 5, 2, 1, 1, 1, 1, 1, 1, 1, 1, 1, 1, 1, 1, 1, 1, 1, 1, 1, 1, 1, 1, 1, 1, 1, 1, 1, 1, 1, 1, 1, 1, 1, 1, 1, 1, 1, 1, 1, 1, 1, 1, 1, 1, 1, 1, 1, 1, 1, 1, 1, 1, 1, 1, 1, 1, 1, 1, 1, 1, 1, 1, 1, 1, 1, 1, 1, 1, 1, 1, 1, 1, 1, 1, 1, 1, 1, 1, 1], 'attention_mask': [1, 1, 1, 1, 1, 1, 1, 1, 1, 1, 1, 1, 1, 1, 1, 1, 1, 1, 1, 1, 1, 1, 1, 1, 1, 1, 1, 1, 1, 1, 1, 1, 1, 1, 1, 1, 1, 1, 1, 1, 1, 1, 1, 1, 1, 1, 1, 1, 1, 1, 1, 0, 0, 0, 0, 0, 0, 0, 0, 0, 0, 0, 0, 0, 0, 0, 0, 0, 0, 0, 0, 0, 0, 0, 0, 0, 0, 0, 0, 0, 0, 0, 0, 0, 0, 0, 0, 0, 0, 0, 0, 0, 0, 0, 0, 0, 0, 0, 0, 0, 0, 0, 0, 0, 0, 0, 0, 0, 0, 0, 0, 0, 0, 0, 0, 0, 0, 0, 0, 0, 0, 0, 0, 0, 0, 0, 0, 0]}.\n",
            "INFO:__main__:Sample 912 of the training set: {'text': 'RT @user: Ẹni tó ńsáré tó ńwo ẹ̀hìn, ó di dandan, kó fi ẹsẹ̀ kọ. / Whoever keeps looking back while running, will certainly stum…', 'label': 2, '__index_level_0__': 912, 'input_ids': [0, 27389, 1374, 65918, 12, 6, 243373, 93, 66545, 6, 6419, 54915, 446, 66545, 6, 6419, 3613, 6, 45743, 10565, 64269, 19, 4, 2456, 45, 123, 549, 4, 74739, 809, 6, 45743, 7, 45743, 10565, 472, 19030, 5, 248, 40469, 30441, 13695, 7, 16487, 4420, 12960, 51042, 4, 1221, 68782, 6, 48708, 27, 2, 1, 1, 1, 1, 1, 1, 1, 1, 1, 1, 1, 1, 1, 1, 1, 1, 1, 1, 1, 1, 1, 1, 1, 1, 1, 1, 1, 1, 1, 1, 1, 1, 1, 1, 1, 1, 1, 1, 1, 1, 1, 1, 1, 1, 1, 1, 1, 1, 1, 1, 1, 1, 1, 1, 1, 1, 1, 1, 1, 1, 1, 1, 1, 1, 1, 1, 1, 1, 1, 1, 1, 1, 1, 1], 'attention_mask': [1, 1, 1, 1, 1, 1, 1, 1, 1, 1, 1, 1, 1, 1, 1, 1, 1, 1, 1, 1, 1, 1, 1, 1, 1, 1, 1, 1, 1, 1, 1, 1, 1, 1, 1, 1, 1, 1, 1, 1, 1, 1, 1, 1, 1, 1, 1, 1, 1, 1, 1, 1, 1, 1, 0, 0, 0, 0, 0, 0, 0, 0, 0, 0, 0, 0, 0, 0, 0, 0, 0, 0, 0, 0, 0, 0, 0, 0, 0, 0, 0, 0, 0, 0, 0, 0, 0, 0, 0, 0, 0, 0, 0, 0, 0, 0, 0, 0, 0, 0, 0, 0, 0, 0, 0, 0, 0, 0, 0, 0, 0, 0, 0, 0, 0, 0, 0, 0, 0, 0, 0, 0, 0, 0, 0, 0, 0, 0]}.\n",
            "INFO:__main__:Sample 204 of the training set: {'text': 'RT @user: @user o da nje e bu mo o? @user', 'label': 1, '__index_level_0__': 204, 'input_ids': [0, 27389, 1374, 65918, 12, 1374, 65918, 36, 48, 5203, 28, 373, 931, 36, 32, 1374, 65918, 2, 1, 1, 1, 1, 1, 1, 1, 1, 1, 1, 1, 1, 1, 1, 1, 1, 1, 1, 1, 1, 1, 1, 1, 1, 1, 1, 1, 1, 1, 1, 1, 1, 1, 1, 1, 1, 1, 1, 1, 1, 1, 1, 1, 1, 1, 1, 1, 1, 1, 1, 1, 1, 1, 1, 1, 1, 1, 1, 1, 1, 1, 1, 1, 1, 1, 1, 1, 1, 1, 1, 1, 1, 1, 1, 1, 1, 1, 1, 1, 1, 1, 1, 1, 1, 1, 1, 1, 1, 1, 1, 1, 1, 1, 1, 1, 1, 1, 1, 1, 1, 1, 1, 1, 1, 1, 1, 1, 1, 1, 1], 'attention_mask': [1, 1, 1, 1, 1, 1, 1, 1, 1, 1, 1, 1, 1, 1, 1, 1, 1, 1, 0, 0, 0, 0, 0, 0, 0, 0, 0, 0, 0, 0, 0, 0, 0, 0, 0, 0, 0, 0, 0, 0, 0, 0, 0, 0, 0, 0, 0, 0, 0, 0, 0, 0, 0, 0, 0, 0, 0, 0, 0, 0, 0, 0, 0, 0, 0, 0, 0, 0, 0, 0, 0, 0, 0, 0, 0, 0, 0, 0, 0, 0, 0, 0, 0, 0, 0, 0, 0, 0, 0, 0, 0, 0, 0, 0, 0, 0, 0, 0, 0, 0, 0, 0, 0, 0, 0, 0, 0, 0, 0, 0, 0, 0, 0, 0, 0, 0, 0, 0, 0, 0, 0, 0, 0, 0, 0, 0, 0, 0]}.\n",
            "Running tokenizer on validation dataset:   0% 0/1 [00:00<?, ?ba/s]\n",
            "Running tokenizer on prediction dataset:  50% 1/2 [00:00<00:00,  2.93ba/s]\n",
            "[INFO|trainer.py:726] 2022-11-08 08:26:28,044 >> The following columns in the training set don't have a corresponding argument in `XLMRobertaForSequenceClassification.forward` and have been ignored: text, __index_level_0__. If text, __index_level_0__ are not expected by `XLMRobertaForSequenceClassification.forward`,  you can safely ignore this message.\n",
            "/usr/local/lib/python3.7/dist-packages/transformers/optimization.py:310: FutureWarning: This implementation of AdamW is deprecated and will be removed in a future version. Use the PyTorch implementation torch.optim.AdamW instead, or set `no_deprecation_warning=True` to disable this warning\n",
            "  FutureWarning,\n",
            "[INFO|trainer.py:1608] 2022-11-08 08:26:28,058 >> ***** Running training *****\n",
            "[INFO|trainer.py:1609] 2022-11-08 08:26:28,058 >>   Num examples = 5965\n",
            "[INFO|trainer.py:1610] 2022-11-08 08:26:28,058 >>   Num Epochs = 5\n",
            "[INFO|trainer.py:1611] 2022-11-08 08:26:28,058 >>   Instantaneous batch size per device = 32\n",
            "[INFO|trainer.py:1612] 2022-11-08 08:26:28,058 >>   Total train batch size (w. parallel, distributed & accumulation) = 32\n",
            "[INFO|trainer.py:1613] 2022-11-08 08:26:28,058 >>   Gradient Accumulation steps = 1\n",
            "[INFO|trainer.py:1614] 2022-11-08 08:26:28,058 >>   Total optimization steps = 935\n",
            "[INFO|trainer.py:1616] 2022-11-08 08:26:28,059 >>   Number of trainable parameters = 117641859\n",
            "{'loss': 1.0663, 'learning_rate': 2.32620320855615e-05, 'epoch': 2.67}\n",
            "100% 935/935 [03:53<00:00,  4.59it/s][INFO|trainer.py:1859] 2022-11-08 08:30:21,359 >> \n",
            "\n",
            "Training completed. Do not forget to share your model on huggingface.co/models =)\n",
            "\n",
            "\n",
            "{'train_runtime': 233.3031, 'train_samples_per_second': 127.838, 'train_steps_per_second': 4.008, 'train_loss': 1.0661083527427306, 'epoch': 5.0}\n",
            "100% 935/935 [03:53<00:00,  4.01it/s]\n",
            "[INFO|trainer.py:2678] 2022-11-08 08:30:21,368 >> Saving model checkpoint to /content/drive/MyDrive/afrisent-semeval-2023/models/yo\n",
            "[INFO|configuration_utils.py:447] 2022-11-08 08:30:21,373 >> Configuration saved in /content/drive/MyDrive/afrisent-semeval-2023/models/yo/config.json\n",
            "[INFO|modeling_utils.py:1624] 2022-11-08 08:30:23,680 >> Model weights saved in /content/drive/MyDrive/afrisent-semeval-2023/models/yo/pytorch_model.bin\n",
            "[INFO|tokenization_utils_base.py:2125] 2022-11-08 08:30:23,686 >> tokenizer config file saved in /content/drive/MyDrive/afrisent-semeval-2023/models/yo/tokenizer_config.json\n",
            "[INFO|tokenization_utils_base.py:2132] 2022-11-08 08:30:23,690 >> Special tokens file saved in /content/drive/MyDrive/afrisent-semeval-2023/models/yo/special_tokens_map.json\n",
            "***** train metrics *****\n",
            "  epoch                    =        5.0\n",
            "  train_loss               =     1.0661\n",
            "  train_runtime            = 0:03:53.30\n",
            "  train_samples            =       5965\n",
            "  train_samples_per_second =    127.838\n",
            "  train_steps_per_second   =      4.008\n",
            "INFO:__main__:*** Evaluate ***\n",
            "[INFO|trainer.py:726] 2022-11-08 08:30:24,221 >> The following columns in the evaluation set don't have a corresponding argument in `XLMRobertaForSequenceClassification.forward` and have been ignored: text, __index_level_0__. If text, __index_level_0__ are not expected by `XLMRobertaForSequenceClassification.forward`,  you can safely ignore this message.\n",
            "[INFO|trainer.py:2929] 2022-11-08 08:30:24,223 >> ***** Running Evaluation *****\n",
            "[INFO|trainer.py:2931] 2022-11-08 08:30:24,223 >>   Num examples = 852\n",
            "[INFO|trainer.py:2934] 2022-11-08 08:30:24,223 >>   Batch size = 8\n",
            "100% 107/107 [00:02<00:00, 48.63it/s]\n",
            "***** eval metrics *****\n",
            "  epoch                   =        5.0\n",
            "  eval_accuracy           =     0.3803\n",
            "  eval_loss               =     1.0877\n",
            "  eval_runtime            = 0:00:02.22\n",
            "  eval_samples            =        852\n",
            "  eval_samples_per_second =    382.551\n",
            "  eval_steps_per_second   =     48.043\n",
            "INFO:__main__:*** Predict ***\n",
            "[INFO|trainer.py:726] 2022-11-08 08:30:26,465 >> The following columns in the test set don't have a corresponding argument in `XLMRobertaForSequenceClassification.forward` and have been ignored: text, __index_level_0__. If text, __index_level_0__ are not expected by `XLMRobertaForSequenceClassification.forward`,  you can safely ignore this message.\n",
            "[INFO|trainer.py:2929] 2022-11-08 08:30:26,466 >> ***** Running Prediction *****\n",
            "[INFO|trainer.py:2931] 2022-11-08 08:30:26,466 >>   Num examples = 1705\n",
            "[INFO|trainer.py:2934] 2022-11-08 08:30:26,466 >>   Batch size = 8\n",
            "100% 214/214 [00:04<00:00, 48.75it/s]\n",
            "***** predict metrics *****\n",
            "  predict_accuracy           =     0.4147\n",
            "  predict_loss               =     1.0597\n",
            "  predict_runtime            = 0:00:04.40\n",
            "  predict_samples            =       1705\n",
            "  predict_samples_per_second =    386.766\n",
            "  predict_steps_per_second   =     48.544\n"
          ]
        }
      ],
      "source": [
        "DATA_DIR = os.path.join(TRAINING_DATA_DIR, 'splitted-train-dev-test', LANGUAGE_CODE)\n",
        "OUTPUT_DIR = os.path.join(PROJECT_DIR, 'models', LANGUAGE_CODE)\n",
        "\n",
        "!CUDA_VISIBLE_DEVICES=0 python starter_kit/run_textclass.py \\\n",
        "  --model_name_or_path {MODEL_NAME_OR_PATH} \\\n",
        "  --data_dir {DATA_DIR} \\\n",
        "  --do_train \\\n",
        "  --do_eval \\\n",
        "  --do_predict \\\n",
        "  --per_device_train_batch_size {BATCH_SIZE} \\\n",
        "  --learning_rate {LEARNING_RATE} \\\n",
        "  --num_train_epochs {NUMBER_OF_TRAINING_EPOCHS} \\\n",
        "  --max_seq_length {MAXIMUM_SEQUENCE_LENGTH} \\\n",
        "  --output_dir {OUTPUT_DIR} \\\n",
        "  --save_steps {SAVE_STEPS}"
      ]
    },
    {
      "cell_type": "markdown",
      "metadata": {
        "id": "2lLKHsrEPucP"
      },
      "source": [
        "Now that you trained your best model and find the best  parameters, you can submit your prediction on dev or test set on CodaLab competition page."
      ]
    },
    {
      "cell_type": "markdown",
      "metadata": {
        "id": "g9DeJD4CVmEl"
      },
      "source": [
        "#4) Submission\n",
        "\n",
        "- For submission after training your model, unlabeled tweets were provided for dev (development phase) and test (evaluation phase). \n",
        "\n",
        "- To generate their sentiment prediction, provide the path to the file containing the unlabeled tweets.\n",
        "\n",
        "**What the code does**\n",
        "1. Predicting sentiments of the unlabeled tweets (dev or test)\n",
        "2. Create a file in the submission format"
      ]
    },
    {
      "cell_type": "code",
      "execution_count": null,
      "metadata": {
        "id": "LYL3KcmoWXK1",
        "colab": {
          "base_uri": "https://localhost:8080/"
        },
        "outputId": "2f6899e9-8e60-40f9-b252-1d062eb51a0f"
      },
      "outputs": [
        {
          "output_type": "stream",
          "name": "stdout",
          "text": [
            "/content/drive/MyDrive/afrisent-semeval-2023\n",
            "***** Running Prediction *****\n",
            "  Num examples = 2835\n",
            "  Batch size = 8\n",
            "100% 355/355 [00:07<00:00, 49.02it/s]\n",
            "Data directory found.\n",
            "Creating submission files directory.\n"
          ]
        }
      ],
      "source": [
        "%cd {PROJECT_DIR}\n",
        "\n",
        "OUTPUT_DIR = os.path.join(PROJECT_DIR, 'models', LANGUAGE_CODE)\n",
        "FILE_NAME = os.path.join(PROJECT_DIR, TASK, 'dev', LANGUAGE_CODE + '_dev.tsv')\n",
        "TEXT_COLUMN = 'tweet'\n",
        "\n",
        "!python starter_kit/run_predict.py \\\n",
        "  --model_path {OUTPUT_DIR} \\\n",
        "  --file_name {FILE_NAME} \\\n",
        "  --text_column {TEXT_COLUMN} \\\n",
        "  --lang_code {LANGUAGE_CODE}"
      ]
    },
    {
      "cell_type": "markdown",
      "metadata": {
        "id": "JpoGeFwSEfVt"
      },
      "source": [
        "- Congratulations. You now trained sentiment classifier and predict on the unlabelled tweets.\n",
        "\n",
        "- The prediction file (pred_{lang}.tsv) is in \"afrisenti-semval-2023\" folder under \"submissions\" folder. For example, since we trained hausa (ha), you will be able to see pred_ha.tsv file ready for submission. The submission file is in the format below:\n",
        "\n",
        "<center>\n",
        "\n",
        "|ID | label |\n",
        "|--- | --- |\n",
        "|hau_dev_00001| negative |\n",
        "|hau_dev_00002| positive |\n",
        "|... | ... |\n",
        "\n",
        "</center>\n",
        "\n",
        "- Inside the same folder, you will also see a file \"ha_predictions.tsv\" with the format below to see tweets with corresponding sentiment predictions. This file is not for submission.\n",
        "\n",
        "\n",
        "<center>\n",
        "\n",
        "|ID | text | label |\n",
        "|--- | --- | --- | \n",
        "|hau_dev_00001| @user Allah Miki albarkah 🙏🙏🙏 |  positive |\n",
        "|hau_dev_00002| @user Kidan ma zai dadi😂\t |  negative |\n",
        "|... | ... | ... |\n",
        "\n",
        "</center>\n",
        "\n",
        "\n",
        "\n",
        "\n"
      ]
    },
    {
      "cell_type": "markdown",
      "source": [
        "# 5) Evaluate on test subsets from train set -- p/r/f1 scores"
      ],
      "metadata": {
        "id": "uEw3H8Xbd9Ts"
      }
    },
    {
      "cell_type": "markdown",
      "source": [
        "## a. predict and create a scores folder"
      ],
      "metadata": {
        "id": "5vbYuO8NGZJy"
      }
    },
    {
      "cell_type": "code",
      "source": [
        "# copied from previous cells, just to make the later cells in this section 5) work\n",
        "\n",
        "import os\n",
        "import pandas as pd\n",
        "import numpy as np\n",
        "from sklearn.model_selection import train_test_split\n",
        "\n",
        "# ------- UNCOMMENT IF NEEDED ---------------\n",
        "# if os.path.isdir(PROJECT_DIR):\n",
        "#   #The requirements file should be in PROJECT_DIR\n",
        "#   if os.path.isfile(os.path.join(PROJECT_DIR, 'starter_kit/requirements.txt')):\n",
        "#     !pip install -r starter_kit/requirements.txt\n",
        "#   else:\n",
        "#     print('requirements.txt file not found')\n",
        "\n",
        "# else:\n",
        "#   print(\"Project directory not found, please check again.\")\n",
        "# -------------------------------------------\n",
        "\n",
        "TASK = 'SubtaskA'\n",
        "\n",
        "# ------- UNCOMMENT IF NEEDED ---------------\n",
        "# Language to train sentiment classifier for\n",
        "# LANGUAGE_CODE = 'am'\n",
        "# -------------------------------------------\n",
        "\n",
        "if LANGUAGE_CODE in languages:\n",
        "  # Model Training Parameters\n",
        "  MODEL_NAME_OR_PATH = 'Davlan/afro-xlmr-mini'\n",
        "  BATCH_SIZE = 32\n",
        "  LEARNING_RATE = 5e-5 #0.005\n",
        "  NUMBER_OF_TRAINING_EPOCHS = 5 #100\n",
        "  MAXIMUM_SEQUENCE_LENGTH = 128\n",
        "  SAVE_STEPS = -1\n",
        "\n",
        "  print('Everything set. You can now start model training.')\n",
        "\n",
        "else:\n",
        "  print(\"Invalid language code/Dataset not released. Please input any of the following released data\\n\\n\\t- 'am'\\n\\t- 'dz'\\n\\t- 'ha'\\n\\t- 'ig'\\n\\t- 'ma'\\n\\t- 'pcm'\\n\\t- 'pt'\\n\\t- 'sw'\\n\\t- 'yo'\")\n",
        "\n",
        "# will create the resulting files in a folder called 'test-set-scores'\n",
        "%cd {PROJECT_DIR}\n",
        "\n",
        "OUTPUT_DIR = os.path.join(PROJECT_DIR, 'models', LANGUAGE_CODE)\n",
        "FILE_NAME = os.path.join(PROJECT_DIR, TASK, 'train', 'splitted-train-dev-test', LANGUAGE_CODE, 'test.tsv')\n",
        "TEXT_COLUMN = 'text'\n",
        "\n",
        "!python starter_kit/afrisenti_get_scores1.py \\\n",
        "  --model_path {OUTPUT_DIR} \\\n",
        "  --file_name {FILE_NAME} \\\n",
        "  --text_column {TEXT_COLUMN} \\\n",
        "  --lang_code {LANGUAGE_CODE}\n",
        "\n",
        "print('current language code is:', LANGUAGE_CODE)\n",
        "print('current model path is:', OUTPUT_DIR)"
      ],
      "metadata": {
        "id": "CEsOT9sV2uEH",
        "outputId": "5b0ab5c5-fbee-44f9-981b-0c07bedb845b",
        "colab": {
          "base_uri": "https://localhost:8080/"
        }
      },
      "execution_count": null,
      "outputs": [
        {
          "output_type": "stream",
          "name": "stdout",
          "text": [
            "Everything set. You can now start model training.\n",
            "/content/drive/MyDrive/afrisent-semeval-2023\n",
            "***** Running Prediction *****\n",
            "  Num examples = 1705\n",
            "  Batch size = 8\n",
            "100% 214/214 [00:06<00:00, 33.56it/s]\n",
            "Data directory found.\n",
            "Creating scores files directory.\n",
            "current language code is: yo\n",
            "current model path is: /content/drive/MyDrive/afrisent-semeval-2023/models/yo\n"
          ]
        }
      ]
    },
    {
      "cell_type": "markdown",
      "source": [
        "## b. evaluation method"
      ],
      "metadata": {
        "id": "L2XtrvdfGsy9"
      }
    },
    {
      "cell_type": "code",
      "source": [
        "import pandas as pd\n",
        "from sklearn.metrics import classification_report\n",
        "\n",
        "def evaluate(file_true, file_pred):\n",
        "\n",
        "  df_true = pd.read_csv(file_true, sep='\\t')\n",
        "  df_pred = pd.read_csv(file_pred, sep='\\t')\n",
        "  true = df_true.label\n",
        "  pred = df_pred.label\n",
        "  return classification_report(true, pred)"
      ],
      "metadata": {
        "id": "r6n44sWJ2duJ"
      },
      "execution_count": null,
      "outputs": []
    },
    {
      "cell_type": "markdown",
      "source": [
        "## c. get scores for 'ha'"
      ],
      "metadata": {
        "id": "D3TojbUI43Y1"
      }
    },
    {
      "cell_type": "code",
      "source": [
        "# get scores for 'ha'\n",
        "LANGUAGE_CODE = 'ha'\n",
        "file_true = os.path.join(PROJECT_DIR, TASK, 'train', 'splitted-train-dev-test', LANGUAGE_CODE, 'test.tsv')\n",
        "file_pred = os.path.join(PROJECT_DIR, 'models', LANGUAGE_CODE, 'scores', 'pred_ha.tsv')\n",
        "print(evaluate(file_true, file_pred))"
      ],
      "metadata": {
        "colab": {
          "base_uri": "https://localhost:8080/"
        },
        "id": "m0J2kq1q4mHE",
        "outputId": "17c032ef-271c-4828-cb4a-3fe1d2f71bd1"
      },
      "execution_count": null,
      "outputs": [
        {
          "output_type": "stream",
          "name": "stdout",
          "text": [
            "              precision    recall  f1-score   support\n",
            "\n",
            "    negative       0.67      0.64      0.65       889\n",
            "     neutral       0.69      0.70      0.69       980\n",
            "    positive       0.82      0.84      0.83       966\n",
            "\n",
            "    accuracy                           0.73      2835\n",
            "   macro avg       0.73      0.73      0.73      2835\n",
            "weighted avg       0.73      0.73      0.73      2835\n",
            "\n"
          ]
        }
      ]
    },
    {
      "cell_type": "markdown",
      "source": [
        "## d. get scores for 'am'"
      ],
      "metadata": {
        "id": "VC1urrfD5ers"
      }
    },
    {
      "cell_type": "code",
      "source": [
        "# get scores for 'am'\n",
        "LANGUAGE_CODE = 'am'\n",
        "file_true = os.path.join(PROJECT_DIR, TASK, 'train', 'splitted-train-dev-test', LANGUAGE_CODE, 'test.tsv')\n",
        "file_pred = os.path.join(PROJECT_DIR, 'models', LANGUAGE_CODE, 'scores', 'pred_' + LANGUAGE_CODE + '.tsv')\n",
        "print(evaluate(file_true, file_pred))"
      ],
      "metadata": {
        "colab": {
          "base_uri": "https://localhost:8080/"
        },
        "id": "fYQg06BV4I7n",
        "outputId": "9772401c-c9c7-4ef3-df1c-bd36c0795fcc"
      },
      "execution_count": null,
      "outputs": [
        {
          "output_type": "stream",
          "name": "stdout",
          "text": [
            "              precision    recall  f1-score   support\n",
            "\n",
            "    negative       0.43      0.28      0.34       275\n",
            "     neutral       0.63      0.77      0.69       639\n",
            "    positive       0.64      0.53      0.58       283\n",
            "\n",
            "    accuracy                           0.60      1197\n",
            "   macro avg       0.57      0.53      0.54      1197\n",
            "weighted avg       0.59      0.60      0.59      1197\n",
            "\n"
          ]
        }
      ]
    },
    {
      "cell_type": "markdown",
      "source": [
        "## e. get scores for 'dz'"
      ],
      "metadata": {
        "id": "x6szSPJe6J0V"
      }
    },
    {
      "cell_type": "code",
      "source": [
        "# get scores for 'dz'\n",
        "LANGUAGE_CODE = 'dz'\n",
        "file_true = os.path.join(PROJECT_DIR, TASK, 'train', 'splitted-train-dev-test', LANGUAGE_CODE, 'test.tsv')\n",
        "file_pred = os.path.join(PROJECT_DIR, 'models', LANGUAGE_CODE, 'scores', 'pred_' + LANGUAGE_CODE + '.tsv')\n",
        "print(evaluate(file_true, file_pred))"
      ],
      "metadata": {
        "colab": {
          "base_uri": "https://localhost:8080/"
        },
        "id": "MgxdjMT74WvL",
        "outputId": "f163a366-e02b-4dc9-8ec4-131af98fc7f5"
      },
      "execution_count": null,
      "outputs": [
        {
          "output_type": "stream",
          "name": "stdout",
          "text": [
            "              precision    recall  f1-score   support\n",
            "\n",
            "    negative       0.50      1.00      0.67       167\n",
            "     neutral       0.00      0.00      0.00        62\n",
            "    positive       0.00      0.00      0.00       102\n",
            "\n",
            "    accuracy                           0.50       331\n",
            "   macro avg       0.17      0.33      0.22       331\n",
            "weighted avg       0.25      0.50      0.34       331\n",
            "\n"
          ]
        },
        {
          "output_type": "stream",
          "name": "stderr",
          "text": [
            "/usr/local/lib/python3.7/dist-packages/sklearn/metrics/_classification.py:1318: UndefinedMetricWarning: Precision and F-score are ill-defined and being set to 0.0 in labels with no predicted samples. Use `zero_division` parameter to control this behavior.\n",
            "  _warn_prf(average, modifier, msg_start, len(result))\n",
            "/usr/local/lib/python3.7/dist-packages/sklearn/metrics/_classification.py:1318: UndefinedMetricWarning: Precision and F-score are ill-defined and being set to 0.0 in labels with no predicted samples. Use `zero_division` parameter to control this behavior.\n",
            "  _warn_prf(average, modifier, msg_start, len(result))\n",
            "/usr/local/lib/python3.7/dist-packages/sklearn/metrics/_classification.py:1318: UndefinedMetricWarning: Precision and F-score are ill-defined and being set to 0.0 in labels with no predicted samples. Use `zero_division` parameter to control this behavior.\n",
            "  _warn_prf(average, modifier, msg_start, len(result))\n"
          ]
        }
      ]
    },
    {
      "cell_type": "markdown",
      "source": [
        "## f. get scores for 'ig'"
      ],
      "metadata": {
        "id": "ivmmog-o6bBz"
      }
    },
    {
      "cell_type": "code",
      "source": [
        "# get scores for 'ig'\n",
        "LANGUAGE_CODE = 'ig'\n",
        "file_true = os.path.join(PROJECT_DIR, TASK, 'train', 'splitted-train-dev-test', LANGUAGE_CODE, 'test.tsv')\n",
        "file_pred = os.path.join(PROJECT_DIR, 'models', LANGUAGE_CODE, 'scores', 'pred_' + LANGUAGE_CODE + '.tsv')\n",
        "print(evaluate(file_true, file_pred))"
      ],
      "metadata": {
        "colab": {
          "base_uri": "https://localhost:8080/"
        },
        "id": "_FwYlKnA4Xzk",
        "outputId": "9fb3a7a5-d536-4961-9d29-735c796313be"
      },
      "execution_count": null,
      "outputs": [
        {
          "output_type": "stream",
          "name": "stdout",
          "text": [
            "              precision    recall  f1-score   support\n",
            "\n",
            "    negative       0.66      0.60      0.63       507\n",
            "     neutral       0.74      0.75      0.74       906\n",
            "    positive       0.76      0.79      0.77       626\n",
            "\n",
            "    accuracy                           0.73      2039\n",
            "   macro avg       0.72      0.71      0.71      2039\n",
            "weighted avg       0.72      0.73      0.72      2039\n",
            "\n"
          ]
        }
      ]
    },
    {
      "cell_type": "markdown",
      "source": [
        "##g. get scores for 'ma'"
      ],
      "metadata": {
        "id": "8v3vtqaf6exw"
      }
    },
    {
      "cell_type": "code",
      "source": [
        "# get scores for 'ma'\n",
        "LANGUAGE_CODE = 'ma'\n",
        "file_true = os.path.join(PROJECT_DIR, TASK, 'train', 'splitted-train-dev-test', LANGUAGE_CODE, 'test.tsv')\n",
        "file_pred = os.path.join(PROJECT_DIR, 'models', LANGUAGE_CODE, 'scores', 'pred_' + LANGUAGE_CODE + '.tsv')\n",
        "print(evaluate(file_true, file_pred))"
      ],
      "metadata": {
        "colab": {
          "base_uri": "https://localhost:8080/"
        },
        "id": "cTLek4-s4Yja",
        "outputId": "d675963a-1069-480d-87ab-9ad69b087f68"
      },
      "execution_count": null,
      "outputs": [
        {
          "output_type": "stream",
          "name": "stdout",
          "text": [
            "              precision    recall  f1-score   support\n",
            "\n",
            "    negative       0.68      0.63      0.66       318\n",
            "     neutral       0.74      0.84      0.79       443\n",
            "    positive       0.72      0.65      0.68       356\n",
            "\n",
            "    accuracy                           0.72      1117\n",
            "   macro avg       0.71      0.71      0.71      1117\n",
            "weighted avg       0.72      0.72      0.72      1117\n",
            "\n"
          ]
        }
      ]
    },
    {
      "cell_type": "markdown",
      "source": [
        "## h. get scores for 'pcm'"
      ],
      "metadata": {
        "id": "L8Y1kd8J6hmq"
      }
    },
    {
      "cell_type": "code",
      "source": [
        "# get scores for 'pcm'\n",
        "LANGUAGE_CODE = 'pcm'\n",
        "file_true = os.path.join(PROJECT_DIR, TASK, 'train', 'splitted-train-dev-test', LANGUAGE_CODE, 'test.tsv')\n",
        "file_pred = os.path.join(PROJECT_DIR, 'models', LANGUAGE_CODE, 'scores', 'pred_' + LANGUAGE_CODE + '.tsv')\n",
        "print(evaluate(file_true, file_pred))"
      ],
      "metadata": {
        "colab": {
          "base_uri": "https://localhost:8080/"
        },
        "id": "SSElGIQL4ZJN",
        "outputId": "fb09f043-2aa7-4af4-81ce-e96e9ddffa89"
      },
      "execution_count": null,
      "outputs": [
        {
          "output_type": "stream",
          "name": "stdout",
          "text": [
            "              precision    recall  f1-score   support\n",
            "\n",
            "    negative       0.73      0.85      0.79       641\n",
            "     neutral       0.00      0.00      0.00        20\n",
            "    positive       0.64      0.49      0.56       364\n",
            "\n",
            "    accuracy                           0.71      1025\n",
            "   macro avg       0.46      0.45      0.45      1025\n",
            "weighted avg       0.68      0.71      0.69      1025\n",
            "\n"
          ]
        },
        {
          "output_type": "stream",
          "name": "stderr",
          "text": [
            "/usr/local/lib/python3.7/dist-packages/sklearn/metrics/_classification.py:1318: UndefinedMetricWarning: Precision and F-score are ill-defined and being set to 0.0 in labels with no predicted samples. Use `zero_division` parameter to control this behavior.\n",
            "  _warn_prf(average, modifier, msg_start, len(result))\n",
            "/usr/local/lib/python3.7/dist-packages/sklearn/metrics/_classification.py:1318: UndefinedMetricWarning: Precision and F-score are ill-defined and being set to 0.0 in labels with no predicted samples. Use `zero_division` parameter to control this behavior.\n",
            "  _warn_prf(average, modifier, msg_start, len(result))\n",
            "/usr/local/lib/python3.7/dist-packages/sklearn/metrics/_classification.py:1318: UndefinedMetricWarning: Precision and F-score are ill-defined and being set to 0.0 in labels with no predicted samples. Use `zero_division` parameter to control this behavior.\n",
            "  _warn_prf(average, modifier, msg_start, len(result))\n"
          ]
        }
      ]
    },
    {
      "cell_type": "markdown",
      "source": [
        "## i. get scores for 'pt'"
      ],
      "metadata": {
        "id": "GFTl7xBA6kye"
      }
    },
    {
      "cell_type": "code",
      "source": [
        "# get scores for 'pt'\n",
        "LANGUAGE_CODE = 'pt'\n",
        "file_true = os.path.join(PROJECT_DIR, TASK, 'train', 'splitted-train-dev-test', LANGUAGE_CODE, 'test.tsv')\n",
        "file_pred = os.path.join(PROJECT_DIR, 'models', LANGUAGE_CODE, 'scores', 'pred_' + LANGUAGE_CODE + '.tsv')\n",
        "print(evaluate(file_true, file_pred))"
      ],
      "metadata": {
        "colab": {
          "base_uri": "https://localhost:8080/"
        },
        "id": "qoyoJmmd4Z5k",
        "outputId": "5cee7c3c-8ee1-4fef-b33a-0d2b95409ab1"
      },
      "execution_count": null,
      "outputs": [
        {
          "output_type": "stream",
          "name": "stdout",
          "text": [
            "              precision    recall  f1-score   support\n",
            "\n",
            "    negative       0.44      0.20      0.28       144\n",
            "     neutral       0.54      0.93      0.69       320\n",
            "    positive       0.00      0.00      0.00       149\n",
            "\n",
            "    accuracy                           0.53       613\n",
            "   macro avg       0.33      0.38      0.32       613\n",
            "weighted avg       0.39      0.53      0.42       613\n",
            "\n"
          ]
        },
        {
          "output_type": "stream",
          "name": "stderr",
          "text": [
            "/usr/local/lib/python3.7/dist-packages/sklearn/metrics/_classification.py:1318: UndefinedMetricWarning: Precision and F-score are ill-defined and being set to 0.0 in labels with no predicted samples. Use `zero_division` parameter to control this behavior.\n",
            "  _warn_prf(average, modifier, msg_start, len(result))\n",
            "/usr/local/lib/python3.7/dist-packages/sklearn/metrics/_classification.py:1318: UndefinedMetricWarning: Precision and F-score are ill-defined and being set to 0.0 in labels with no predicted samples. Use `zero_division` parameter to control this behavior.\n",
            "  _warn_prf(average, modifier, msg_start, len(result))\n",
            "/usr/local/lib/python3.7/dist-packages/sklearn/metrics/_classification.py:1318: UndefinedMetricWarning: Precision and F-score are ill-defined and being set to 0.0 in labels with no predicted samples. Use `zero_division` parameter to control this behavior.\n",
            "  _warn_prf(average, modifier, msg_start, len(result))\n"
          ]
        }
      ]
    },
    {
      "cell_type": "markdown",
      "source": [
        "## j. get scores for 'sw'"
      ],
      "metadata": {
        "id": "VzYaoUcl6nt_"
      }
    },
    {
      "cell_type": "code",
      "source": [
        "# get scores for 'sw'\n",
        "LANGUAGE_CODE = 'sw'\n",
        "file_true = os.path.join(PROJECT_DIR, TASK, 'train', 'splitted-train-dev-test', LANGUAGE_CODE, 'test.tsv')\n",
        "file_pred = os.path.join(PROJECT_DIR, 'models', LANGUAGE_CODE, 'scores', 'pred_' + LANGUAGE_CODE + '.tsv')\n",
        "print(evaluate(file_true, file_pred))"
      ],
      "metadata": {
        "colab": {
          "base_uri": "https://localhost:8080/"
        },
        "id": "Bfv4qZ6I4arP",
        "outputId": "be2851e0-3a9a-4256-b9ee-cdd654778091"
      },
      "execution_count": null,
      "outputs": [
        {
          "output_type": "stream",
          "name": "stdout",
          "text": [
            "              precision    recall  f1-score   support\n",
            "\n",
            "    negative       0.00      0.00      0.00        33\n",
            "     neutral       0.58      0.94      0.72       204\n",
            "    positive       0.59      0.15      0.24       125\n",
            "\n",
            "    accuracy                           0.58       362\n",
            "   macro avg       0.39      0.36      0.32       362\n",
            "weighted avg       0.53      0.58      0.49       362\n",
            "\n"
          ]
        },
        {
          "output_type": "stream",
          "name": "stderr",
          "text": [
            "/usr/local/lib/python3.7/dist-packages/sklearn/metrics/_classification.py:1318: UndefinedMetricWarning: Precision and F-score are ill-defined and being set to 0.0 in labels with no predicted samples. Use `zero_division` parameter to control this behavior.\n",
            "  _warn_prf(average, modifier, msg_start, len(result))\n",
            "/usr/local/lib/python3.7/dist-packages/sklearn/metrics/_classification.py:1318: UndefinedMetricWarning: Precision and F-score are ill-defined and being set to 0.0 in labels with no predicted samples. Use `zero_division` parameter to control this behavior.\n",
            "  _warn_prf(average, modifier, msg_start, len(result))\n",
            "/usr/local/lib/python3.7/dist-packages/sklearn/metrics/_classification.py:1318: UndefinedMetricWarning: Precision and F-score are ill-defined and being set to 0.0 in labels with no predicted samples. Use `zero_division` parameter to control this behavior.\n",
            "  _warn_prf(average, modifier, msg_start, len(result))\n"
          ]
        }
      ]
    },
    {
      "cell_type": "markdown",
      "source": [
        "## k. get scores for 'yo'"
      ],
      "metadata": {
        "id": "MuJ_UpT-6qNT"
      }
    },
    {
      "cell_type": "code",
      "source": [
        "# get scores for 'yo'\n",
        "LANGUAGE_CODE = 'yo'\n",
        "file_true = os.path.join(PROJECT_DIR, TASK, 'train', 'splitted-train-dev-test', LANGUAGE_CODE, 'test.tsv')\n",
        "file_pred = os.path.join(PROJECT_DIR, 'models', LANGUAGE_CODE, 'scores', 'pred_' + LANGUAGE_CODE + '.tsv')\n",
        "print(evaluate(file_true, file_pred))"
      ],
      "metadata": {
        "colab": {
          "base_uri": "https://localhost:8080/"
        },
        "id": "TfNEzU_54bLb",
        "outputId": "85aad1cd-71ab-495a-c223-b37116244faf"
      },
      "execution_count": null,
      "outputs": [
        {
          "output_type": "stream",
          "name": "stdout",
          "text": [
            "              precision    recall  f1-score   support\n",
            "\n",
            "    negative       0.00      0.00      0.00       354\n",
            "     neutral       0.00      0.00      0.00       644\n",
            "    positive       0.41      1.00      0.59       707\n",
            "\n",
            "    accuracy                           0.41      1705\n",
            "   macro avg       0.14      0.33      0.20      1705\n",
            "weighted avg       0.17      0.41      0.24      1705\n",
            "\n"
          ]
        },
        {
          "output_type": "stream",
          "name": "stderr",
          "text": [
            "/usr/local/lib/python3.7/dist-packages/sklearn/metrics/_classification.py:1318: UndefinedMetricWarning: Precision and F-score are ill-defined and being set to 0.0 in labels with no predicted samples. Use `zero_division` parameter to control this behavior.\n",
            "  _warn_prf(average, modifier, msg_start, len(result))\n",
            "/usr/local/lib/python3.7/dist-packages/sklearn/metrics/_classification.py:1318: UndefinedMetricWarning: Precision and F-score are ill-defined and being set to 0.0 in labels with no predicted samples. Use `zero_division` parameter to control this behavior.\n",
            "  _warn_prf(average, modifier, msg_start, len(result))\n",
            "/usr/local/lib/python3.7/dist-packages/sklearn/metrics/_classification.py:1318: UndefinedMetricWarning: Precision and F-score are ill-defined and being set to 0.0 in labels with no predicted samples. Use `zero_division` parameter to control this behavior.\n",
            "  _warn_prf(average, modifier, msg_start, len(result))\n"
          ]
        }
      ]
    }
  ],
  "metadata": {
    "accelerator": "GPU",
    "colab": {
      "collapsed_sections": [
        "DObkW3ulM7yg",
        "g9DeJD4CVmEl",
        "L2XtrvdfGsy9",
        "D3TojbUI43Y1",
        "VC1urrfD5ers",
        "x6szSPJe6J0V",
        "ivmmog-o6bBz",
        "8v3vtqaf6exw",
        "L8Y1kd8J6hmq",
        "GFTl7xBA6kye",
        "VzYaoUcl6nt_",
        "MuJ_UpT-6qNT"
      ],
      "provenance": [],
      "toc_visible": true
    },
    "kernelspec": {
      "display_name": "Python 3.9.12",
      "language": "python",
      "name": "python3"
    },
    "language_info": {
      "name": "python",
      "version": "3.9.12"
    },
    "vscode": {
      "interpreter": {
        "hash": "d203a7fbe37afbb990fedfc21c321928443618f3d7b991e0237ff71906aa031f"
      }
    },
    "gpuClass": "standard"
  },
  "nbformat": 4,
  "nbformat_minor": 0
}