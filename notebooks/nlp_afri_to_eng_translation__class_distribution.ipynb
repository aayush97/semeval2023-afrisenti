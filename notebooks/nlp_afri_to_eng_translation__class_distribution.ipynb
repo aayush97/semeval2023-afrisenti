{
 "cells": [
  {
   "cell_type": "code",
   "execution_count": 1,
   "id": "b203b4ea",
   "metadata": {},
   "outputs": [],
   "source": [
    "import pandas as pd\n",
    "import os\n",
    "pd.set_option(\"display.max_colwidth\", None)"
   ]
  },
  {
   "cell_type": "markdown",
   "id": "1548aa18",
   "metadata": {},
   "source": [
    "### Translation to English"
   ]
  },
  {
   "cell_type": "markdown",
   "id": "26c40d05",
   "metadata": {},
   "source": [
    "Went to location : semeval2023-afrisenti/data/raw/train/  \n",
    "\n",
    "Initially tried to translate using the google translate on the file directly, but faced some issues. After conversion, when saved and tried to load the data using pandas, I got some errors.  \n",
    "Used the notebook file -- AfriSenti_SemEval_2023_Starter_Notebook_Task_A.ipynb for re-formating the data.\n",
    "Obtained a 'formatted-train-data'folder, where for each language a folder(with train.tsv) is created.\n",
    "The train.tsv has Text and Label columns only. But not used this for final translation as it doesn't give all the information.  \n",
    "\n",
    "Tried using google-sheets for translation, but the translations seemed not good enough. \n",
    "\n",
    "Converted the train.tsv files to train.xlsx files so that it can be used in google translate doc conversion.\n",
    "Upload the train.xlsx to google translate doc conversion and can download the translated version.\n",
    "Checked if can be read using pandas.\n",
    "\n",
    "\n",
    "I Used the files from the original dataset (both train and dev) and used google translate to convert to english text.\n",
    "Some unicode/weird characters are present, some translations contain words that are not actual english words.\n",
    "That was the best google translate worked for the provided data.\n",
    "\n",
    "Converted the translated files into csv format with '\\t' seperator(equivalent to tsv)\n",
    "Compressed files are shared in whatsapp and also uploaded files to github.\n",
    "\n",
    "Train data - contains 3 columns(id, text, label)\n",
    "dev data - contains 2 columns(id, text)\n",
    "\n",
    "18 files - 9 each for train and dev are there. (9 languages)."
   ]
  },
  {
   "cell_type": "code",
   "execution_count": 56,
   "id": "5bd3b9e8",
   "metadata": {},
   "outputs": [],
   "source": [
    "#train_dir = r'E:\\FALL22\\CSCE633_NLP\\afrisenti_data\\train\\original/'\n",
    "#dev_dir = r'E:\\FALL22\\CSCE633_NLP\\afrisenti_data\\dev\\original/'"
   ]
  },
  {
   "cell_type": "code",
   "execution_count": 57,
   "id": "239ea6ee",
   "metadata": {},
   "outputs": [],
   "source": [
    "#files = [file for file in os.listdir(train_dir) if file.endswith('.tsv')]\n",
    "#files = [file for file in os.listdir(dev_dir) if file.endswith('.tsv')]"
   ]
  },
  {
   "cell_type": "code",
   "execution_count": 58,
   "id": "925d4d74",
   "metadata": {},
   "outputs": [
    {
     "data": {
      "text/plain": [
       "['am_dev.tsv',\n",
       " 'dz_dev.tsv',\n",
       " 'ha_dev.tsv',\n",
       " 'ig_dev.tsv',\n",
       " 'ma_dev.tsv',\n",
       " 'pcm_dev.tsv',\n",
       " 'pt_dev.tsv',\n",
       " 'sw_dev.tsv',\n",
       " 'yo_dev.tsv']"
      ]
     },
     "execution_count": 58,
     "metadata": {},
     "output_type": "execute_result"
    }
   ],
   "source": [
    "#files"
   ]
  },
  {
   "cell_type": "code",
   "execution_count": 59,
   "id": "be1ddf50",
   "metadata": {},
   "outputs": [],
   "source": [
    "#train_tobe_translated_dir = r'E:\\FALL22\\CSCE633_NLP\\afrisenti_data\\train\\tobe_translated//'\n",
    "#dev_tobe_translated_dir = r'E:\\FALL22\\CSCE633_NLP\\afrisenti_data\\dev\\tobe_translated//'"
   ]
  },
  {
   "cell_type": "code",
   "execution_count": 60,
   "id": "b357a3a3",
   "metadata": {},
   "outputs": [
    {
     "name": "stdout",
     "output_type": "stream",
     "text": [
      "Created excel file for : am_dev.tsv\n",
      "Created excel file for : dz_dev.tsv\n",
      "Created excel file for : ha_dev.tsv\n",
      "Created excel file for : ig_dev.tsv\n",
      "Created excel file for : ma_dev.tsv\n",
      "Created excel file for : pcm_dev.tsv\n",
      "Created excel file for : pt_dev.tsv\n",
      "Created excel file for : sw_dev.tsv\n",
      "Created excel file for : yo_dev.tsv\n"
     ]
    }
   ],
   "source": [
    "## train\n",
    "# for file in files :\n",
    "#     df = pd.read_csv(train_dir + file, sep='\\t')\n",
    "#     df.to_excel(train_tobe_translated_dir + file.split('.')[0] + '.xlsx', index=False)\n",
    "#     print(\"Created excel file for :\", file)\n",
    "## dev\n",
    "# for file in files :\n",
    "#     df = pd.read_csv(dev_dir + file, sep='\\t')\n",
    "#     df.to_excel(dev_tobe_translated_dir + file.split('.')[0] + '.xlsx', index=False)\n",
    "#     print(\"Created excel file for :\", file)"
   ]
  },
  {
   "cell_type": "code",
   "execution_count": 61,
   "id": "a341aba4",
   "metadata": {},
   "outputs": [
    {
     "name": "stdout",
     "output_type": "stream",
     "text": [
      "Tobe Translated location: E:\\FALL22\\CSCE633_NLP\\afrisenti_data\\dev\\tobe_translated//\n"
     ]
    }
   ],
   "source": [
    "#print(\"Tobe Translated location:\",train_translated_dir)\n",
    "# print(\"Tobe Translated location:\",dev_tobe_translated_dir)"
   ]
  },
  {
   "cell_type": "markdown",
   "id": "e8e87ee4",
   "metadata": {},
   "source": [
    "### Upload these excel files to google translate to get translations for the training data"
   ]
  },
  {
   "cell_type": "code",
   "execution_count": null,
   "id": "60354d7b",
   "metadata": {},
   "outputs": [],
   "source": []
  },
  {
   "cell_type": "markdown",
   "id": "8d5985b3",
   "metadata": {},
   "source": [
    "### Once translation is done using google-translate, convert back the files to tsv format."
   ]
  },
  {
   "cell_type": "code",
   "execution_count": 72,
   "id": "391cfad2",
   "metadata": {},
   "outputs": [
    {
     "data": {
      "text/plain": [
       "'E:\\\\FALL22\\\\CSCE633_NLP\\\\afrisenti_data\\\\train\\\\translated_to_english//'"
      ]
     },
     "execution_count": 72,
     "metadata": {},
     "output_type": "execute_result"
    }
   ],
   "source": [
    "# dev_translated = r'E:\\FALL22\\CSCE633_NLP\\afrisenti_data\\dev\\translated_to_english//'\n",
    "# dev_translated\n",
    "\n",
    "# train_translated = r'E:\\FALL22\\CSCE633_NLP\\afrisenti_data\\train\\translated_to_english//'\n",
    "# train_translated"
   ]
  },
  {
   "cell_type": "code",
   "execution_count": 73,
   "id": "f715c8d1",
   "metadata": {},
   "outputs": [],
   "source": [
    "#files = [file for file in os.listdir(dev_translated) if file.endswith('.xlsx')]\n",
    "\n",
    "#files = [file for file in os.listdir(train_translated) if file.endswith('.xlsx')]"
   ]
  },
  {
   "cell_type": "code",
   "execution_count": 74,
   "id": "0119cd3e",
   "metadata": {},
   "outputs": [
    {
     "data": {
      "text/plain": [
       "['am_train.xlsx',\n",
       " 'dz_train.xlsx',\n",
       " 'ha_train.xlsx',\n",
       " 'ig_train.xlsx',\n",
       " 'ma_train.xlsx',\n",
       " 'pcm_train.xlsx',\n",
       " 'pt_train.xlsx',\n",
       " 'sw_train.xlsx',\n",
       " 'yo_train.xlsx']"
      ]
     },
     "execution_count": 74,
     "metadata": {},
     "output_type": "execute_result"
    }
   ],
   "source": [
    "#files"
   ]
  },
  {
   "cell_type": "code",
   "execution_count": null,
   "id": "cccec0a4",
   "metadata": {},
   "outputs": [],
   "source": []
  },
  {
   "cell_type": "code",
   "execution_count": 75,
   "id": "380bf398",
   "metadata": {},
   "outputs": [
    {
     "name": "stdout",
     "output_type": "stream",
     "text": [
      "Created tsv file for : am_train.xlsx\n",
      "Created tsv file for : dz_train.xlsx\n",
      "Created tsv file for : ha_train.xlsx\n",
      "Created tsv file for : ig_train.xlsx\n",
      "Created tsv file for : ma_train.xlsx\n",
      "Created tsv file for : pcm_train.xlsx\n",
      "Created tsv file for : pt_train.xlsx\n",
      "Created tsv file for : sw_train.xlsx\n",
      "Created tsv file for : yo_train.xlsx\n"
     ]
    }
   ],
   "source": [
    "# ## dev\n",
    "# for file in files :\n",
    "#     df = pd.read_excel(dev_translated + file)\n",
    "#     df.to_csv(r'E:\\FALL22\\CSCE633_NLP\\afrisenti_data\\dev\\dev_afri_to_eng_tsv//' + file.split('.')[0] + '.csv', sep='\\t', index=False)\n",
    "#     print(\"Created tsv file for :\", file)\n",
    "\n",
    "## train\n",
    "# for file in files :\n",
    "#     df = pd.read_excel(train_translated + file)\n",
    "#     df.to_csv(r'E:\\FALL22\\CSCE633_NLP\\afrisenti_data\\train\\train_afri_to_eng_tsv//' + file.split('.')[0] + '.csv', sep='\\t', index=False)\n",
    "#     print(\"Created tsv file for :\", file)\n",
    "\n"
   ]
  },
  {
   "cell_type": "code",
   "execution_count": 76,
   "id": "c9d5a133",
   "metadata": {
    "scrolled": true
   },
   "outputs": [
    {
     "data": {
      "text/html": [
       "<div>\n",
       "<style scoped>\n",
       "    .dataframe tbody tr th:only-of-type {\n",
       "        vertical-align: middle;\n",
       "    }\n",
       "\n",
       "    .dataframe tbody tr th {\n",
       "        vertical-align: top;\n",
       "    }\n",
       "\n",
       "    .dataframe thead th {\n",
       "        text-align: right;\n",
       "    }\n",
       "</style>\n",
       "<table border=\"1\" class=\"dataframe\">\n",
       "  <thead>\n",
       "    <tr style=\"text-align: right;\">\n",
       "      <th></th>\n",
       "      <th>ID</th>\n",
       "      <th>tweet</th>\n",
       "      <th>label</th>\n",
       "    </tr>\n",
       "  </thead>\n",
       "  <tbody>\n",
       "    <tr>\n",
       "      <th>0</th>\n",
       "      <td>am_train_00001</td>\n",
       "      <td>Tesfaye, you posted a picture of a professor wearing a mask, shame on you.</td>\n",
       "      <td>negative</td>\n",
       "    </tr>\n",
       "    <tr>\n",
       "      <th>1</th>\n",
       "      <td>am_train_00002</td>\n",
       "      <td>This is the corner of your knowledge, isn't it?</td>\n",
       "      <td>negative</td>\n",
       "    </tr>\n",
       "    <tr>\n",
       "      <th>2</th>\n",
       "      <td>am_train_00003</td>\n",
       "      <td>Is it called a report? If there is anything else to say, tell us!</td>\n",
       "      <td>negative</td>\n",
       "    </tr>\n",
       "    <tr>\n",
       "      <th>3</th>\n",
       "      <td>am_train_00004</td>\n",
       "      <td>?? It reminded me of what we used to do in the Kodak photo booth when the flash went off. But what happened? Did all the Teddy behind turn his face??</td>\n",
       "      <td>negative</td>\n",
       "    </tr>\n",
       "    <tr>\n",
       "      <th>4</th>\n",
       "      <td>am_train_00005</td>\n",
       "      <td>Is it clear?? ???? He recovered</td>\n",
       "      <td>negative</td>\n",
       "    </tr>\n",
       "  </tbody>\n",
       "</table>\n",
       "</div>"
      ],
      "text/plain": [
       "               ID  \\\n",
       "0  am_train_00001   \n",
       "1  am_train_00002   \n",
       "2  am_train_00003   \n",
       "3  am_train_00004   \n",
       "4  am_train_00005   \n",
       "\n",
       "                                                                                                                                                    tweet  \\\n",
       "0                                                                              Tesfaye, you posted a picture of a professor wearing a mask, shame on you.   \n",
       "1                                                                                                         This is the corner of your knowledge, isn't it?   \n",
       "2                                                                                       Is it called a report? If there is anything else to say, tell us!   \n",
       "3   ?? It reminded me of what we used to do in the Kodak photo booth when the flash went off. But what happened? Did all the Teddy behind turn his face??   \n",
       "4                                                                                                                         Is it clear?? ???? He recovered   \n",
       "\n",
       "       label  \n",
       "0   negative  \n",
       "1   negative  \n",
       "2   negative  \n",
       "3   negative  \n",
       "4   negative  "
      ]
     },
     "execution_count": 76,
     "metadata": {},
     "output_type": "execute_result"
    }
   ],
   "source": [
    "# df = pd.read_csv(r'E:\\FALL22\\CSCE633_NLP\\afrisenti_data\\dev\\dev_afri_to_eng_tsv//'+'am_dev.csv',sep='\\t')\n",
    "# df.head()\n",
    "\n",
    "# df = pd.read_csv(r'E:\\FALL22\\CSCE633_NLP\\afrisenti_data\\train\\train_afri_to_eng_tsv//'+'am_train.csv',sep='\\t')\n",
    "# df.head()"
   ]
  },
  {
   "cell_type": "code",
   "execution_count": null,
   "id": "421bc496",
   "metadata": {},
   "outputs": [],
   "source": []
  },
  {
   "cell_type": "markdown",
   "id": "5b06219a",
   "metadata": {},
   "source": [
    "### For class distribution across languages\n",
    "We have to use train data only as it is the one with classes and for our case dev data is not useful because we don't have true labels(available only with competition persons).  \n",
    "- Class distribution for each language can be found"
   ]
  },
  {
   "cell_type": "code",
   "execution_count": 12,
   "id": "a580d8c3",
   "metadata": {},
   "outputs": [],
   "source": [
    "train_translated_tsv_path = r'E:\\FALL22\\CSCE633_NLP\\afrisenti_data\\train\\train_afri_to_eng_tsv'"
   ]
  },
  {
   "cell_type": "code",
   "execution_count": 13,
   "id": "12f43f7e",
   "metadata": {},
   "outputs": [],
   "source": [
    "# get a combined dataframe for all languages\n",
    "\n",
    "files = [file for file in os.listdir(train_translated_tsv_path) if file.endswith('.csv')]"
   ]
  },
  {
   "cell_type": "code",
   "execution_count": 14,
   "id": "9c83f6ac",
   "metadata": {},
   "outputs": [],
   "source": [
    "dfs = [pd.read_csv(train_translated_tsv_path +'\\\\'+ file, sep='\\t') for file in files]"
   ]
  },
  {
   "cell_type": "code",
   "execution_count": 22,
   "id": "c32beee8",
   "metadata": {},
   "outputs": [
    {
     "name": "stdout",
     "output_type": "stream",
     "text": [
      "am_train.csv -- Index(['ID', 'tweet', 'label'], dtype='object')\n",
      "dz_train.csv -- Index(['ID', ' tweet', ' label'], dtype='object')\n",
      "ha_train.csv -- Index(['ID', ' tweet', ' label'], dtype='object')\n",
      "ig_train.csv -- Index(['ID', 'tweet', 'label'], dtype='object')\n",
      "ma_train.csv -- Index(['ID', ' tweet', ' label'], dtype='object')\n",
      "pcm_train.csv -- Index(['ID', 'tweet', 'label'], dtype='object')\n",
      "pt_train.csv -- Index(['ID', 'tweet', 'label'], dtype='object')\n",
      "sw_train.csv -- Index(['ID', 'tweet', 'label'], dtype='object')\n",
      "yo_train.csv -- Index(['ID', 'tweet', 'label'], dtype='object')\n"
     ]
    }
   ],
   "source": [
    "for i, file in zip(dfs,files):\n",
    "    print(file, '--', i.columns)"
   ]
  },
  {
   "cell_type": "code",
   "execution_count": 23,
   "id": "7106a883",
   "metadata": {},
   "outputs": [],
   "source": [
    "## dz, ha, ma files have somehow the column names with extra space\n",
    "## This isn't any show stopper for any other analysis as the languages should be considered individually/seperately while doing analysis.\n",
    "## But lets fix it.\n",
    "\n",
    "dz = pd.read_csv(train_translated_tsv_path +'\\\\'+ 'dz_train.csv', sep='\\t')\n",
    "ha = pd.read_csv(train_translated_tsv_path +'\\\\'+ 'ha_train.csv', sep='\\t')\n",
    "ma = pd.read_csv(train_translated_tsv_path +'\\\\'+ 'ma_train.csv', sep='\\t')"
   ]
  },
  {
   "cell_type": "code",
   "execution_count": 24,
   "id": "e6c40c57",
   "metadata": {},
   "outputs": [
    {
     "data": {
      "text/plain": [
       "[Index(['ID', ' tweet', ' label'], dtype='object'),\n",
       " Index(['ID', ' tweet', ' label'], dtype='object'),\n",
       " Index(['ID', ' tweet', ' label'], dtype='object')]"
      ]
     },
     "execution_count": 24,
     "metadata": {},
     "output_type": "execute_result"
    }
   ],
   "source": [
    "[i.columns for i in [dz,ha,ma]]"
   ]
  },
  {
   "cell_type": "code",
   "execution_count": 25,
   "id": "f01c0efb",
   "metadata": {},
   "outputs": [
    {
     "data": {
      "text/plain": [
       "[None, None, None]"
      ]
     },
     "execution_count": 25,
     "metadata": {},
     "output_type": "execute_result"
    }
   ],
   "source": [
    "[i.rename({' tweet': 'tweet', ' label': 'label'}, axis=1, inplace=True) for i in [dz,ha,ma]]"
   ]
  },
  {
   "cell_type": "code",
   "execution_count": 26,
   "id": "757335de",
   "metadata": {},
   "outputs": [
    {
     "data": {
      "text/plain": [
       "[Index(['ID', 'tweet', 'label'], dtype='object'),\n",
       " Index(['ID', 'tweet', 'label'], dtype='object'),\n",
       " Index(['ID', 'tweet', 'label'], dtype='object')]"
      ]
     },
     "execution_count": 26,
     "metadata": {},
     "output_type": "execute_result"
    }
   ],
   "source": [
    "# Verify if the column names are modified properly\n",
    "[i.columns for i in [dz,ha,ma]]"
   ]
  },
  {
   "cell_type": "markdown",
   "id": "6bd60841",
   "metadata": {},
   "source": [
    "They are modified correctly. Now replace the tsv files accordingly.\n"
   ]
  },
  {
   "cell_type": "code",
   "execution_count": 27,
   "id": "3a1a9e82",
   "metadata": {},
   "outputs": [],
   "source": [
    "# dz.to_csv(r'E:\\FALL22\\CSCE633_NLP\\afrisenti_data\\train\\train_afri_to_eng_tsv//' + 'dz_train' + '.csv', sep='\\t', index=False)\n",
    "# ha.to_csv(r'E:\\FALL22\\CSCE633_NLP\\afrisenti_data\\train\\train_afri_to_eng_tsv//' + 'ha_train' + '.csv', sep='\\t', index=False)\n",
    "# ma.to_csv(r'E:\\FALL22\\CSCE633_NLP\\afrisenti_data\\train\\train_afri_to_eng_tsv//' + 'ma_train' + '.csv', sep='\\t', index=False)"
   ]
  },
  {
   "cell_type": "markdown",
   "id": "c5808545",
   "metadata": {},
   "source": [
    "#### Now recheck the column names"
   ]
  },
  {
   "cell_type": "code",
   "execution_count": 28,
   "id": "c0e1b915",
   "metadata": {},
   "outputs": [],
   "source": [
    "# get a combined dataframe for all languages\n",
    "\n",
    "files = [file for file in os.listdir(train_translated_tsv_path) if file.endswith('.csv')]\n",
    "dfs = [pd.read_csv(train_translated_tsv_path +'\\\\'+ file, sep='\\t') for file in files]\n"
   ]
  },
  {
   "cell_type": "code",
   "execution_count": 29,
   "id": "081924a2",
   "metadata": {},
   "outputs": [
    {
     "name": "stdout",
     "output_type": "stream",
     "text": [
      "am_train.csv -- Index(['ID', 'tweet', 'label'], dtype='object')\n",
      "dz_train.csv -- Index(['ID', 'tweet', 'label'], dtype='object')\n",
      "ha_train.csv -- Index(['ID', 'tweet', 'label'], dtype='object')\n",
      "ig_train.csv -- Index(['ID', 'tweet', 'label'], dtype='object')\n",
      "ma_train.csv -- Index(['ID', 'tweet', 'label'], dtype='object')\n",
      "pcm_train.csv -- Index(['ID', 'tweet', 'label'], dtype='object')\n",
      "pt_train.csv -- Index(['ID', 'tweet', 'label'], dtype='object')\n",
      "sw_train.csv -- Index(['ID', 'tweet', 'label'], dtype='object')\n",
      "yo_train.csv -- Index(['ID', 'tweet', 'label'], dtype='object')\n"
     ]
    }
   ],
   "source": [
    "for i, file in zip(dfs,files):\n",
    "    print(file, '--', i.columns)"
   ]
  },
  {
   "cell_type": "code",
   "execution_count": 149,
   "id": "2f6826c0",
   "metadata": {},
   "outputs": [
    {
     "data": {
      "text/plain": [
       "(5583, 3)"
      ]
     },
     "execution_count": 149,
     "metadata": {},
     "output_type": "execute_result"
    }
   ],
   "source": [
    "## ma_train.ID value has naming convention like 'my_'. Need to change to 'ma_'. \n",
    "## Again this doesn't cause serious issue.\n",
    "## ma_dev.csv doesn't have this issue\n",
    "ma = pd.read_csv(train_translated_tsv_path +'\\\\'+ 'ma_train.csv', sep='\\t')\n",
    "ma.shape"
   ]
  },
  {
   "cell_type": "code",
   "execution_count": 151,
   "id": "c1e1c264",
   "metadata": {},
   "outputs": [],
   "source": [
    "\n",
    "#ma.ID = ma.ID.apply(lambda x: x.replace('my_', 'ma_'))\n"
   ]
  },
  {
   "cell_type": "code",
   "execution_count": 153,
   "id": "f47b5806",
   "metadata": {},
   "outputs": [],
   "source": [
    "#ma.to_csv(r'E:\\FALL22\\CSCE633_NLP\\afrisenti_data\\train\\train_afri_to_eng_tsv//' + 'ma_train' + '.csv', sep='\\t', index=False)\n",
    "##ma_dev.csv doesn't have this issue"
   ]
  },
  {
   "cell_type": "markdown",
   "id": "b3fd132c",
   "metadata": {},
   "source": [
    "Now all column names are as expected for train. Lets cross check for dev"
   ]
  },
  {
   "cell_type": "code",
   "execution_count": 30,
   "id": "9de42740",
   "metadata": {},
   "outputs": [],
   "source": [
    "dev_translated_tsv_path = r'E:\\FALL22\\CSCE633_NLP\\afrisenti_data\\dev\\dev_afri_to_eng_tsv'"
   ]
  },
  {
   "cell_type": "code",
   "execution_count": 31,
   "id": "288d911d",
   "metadata": {},
   "outputs": [],
   "source": [
    "files_dev = [file for file in os.listdir(dev_translated_tsv_path) if file.endswith('.csv')]\n",
    "dfs_dev = [pd.read_csv(dev_translated_tsv_path +'\\\\'+ file, sep='\\t') for file in files_dev]\n"
   ]
  },
  {
   "cell_type": "code",
   "execution_count": 34,
   "id": "ec036590",
   "metadata": {},
   "outputs": [
    {
     "name": "stdout",
     "output_type": "stream",
     "text": [
      "am_dev.csv -- Index(['ID', 'tweet'], dtype='object') (1497, 2)\n",
      "dz_dev.csv -- Index(['ID', ' tweet'], dtype='object') (414, 2)\n",
      "ha_dev.csv -- Index(['ID', ' tweet'], dtype='object') (2677, 2)\n",
      "ig_dev.csv -- Index(['ID', ' tweet'], dtype='object') (1841, 2)\n",
      "ma_dev.csv -- Index(['ID', ' tweet'], dtype='object') (1215, 2)\n",
      "pcm_dev.csv -- Index(['ID', 'tweet'], dtype='object') (1281, 2)\n",
      "pt_dev.csv -- Index(['ID', ' tweet'], dtype='object') (767, 2)\n",
      "sw_dev.csv -- Index(['ID', 'tweet'], dtype='object') (453, 2)\n",
      "yo_dev.csv -- Index(['ID', 'tweet'], dtype='object') (2090, 2)\n"
     ]
    }
   ],
   "source": [
    "for i, file in zip(dfs_dev,files_dev):\n",
    "    print(file, '--', i.columns, i.shape)"
   ]
  },
  {
   "cell_type": "code",
   "execution_count": 35,
   "id": "282c763f",
   "metadata": {},
   "outputs": [],
   "source": [
    "## dz, ha, ig, ma, pt of dev also has column name ' tweet' instead of 'tweet', Lets fix this as well.\n",
    "\n",
    "dz_dev = pd.read_csv(dev_translated_tsv_path +'\\\\'+ 'dz_dev.csv', sep='\\t')\n",
    "ha_dev = pd.read_csv(dev_translated_tsv_path +'\\\\'+ 'ha_dev.csv', sep='\\t')\n",
    "ig_dev = pd.read_csv(dev_translated_tsv_path +'\\\\'+ 'ig_dev.csv', sep='\\t')\n",
    "ma_dev = pd.read_csv(dev_translated_tsv_path +'\\\\'+ 'ma_dev.csv', sep='\\t')\n",
    "pt_dev = pd.read_csv(dev_translated_tsv_path +'\\\\'+ 'pt_dev.csv', sep='\\t')"
   ]
  },
  {
   "cell_type": "code",
   "execution_count": 36,
   "id": "7ebea534",
   "metadata": {},
   "outputs": [
    {
     "data": {
      "text/plain": [
       "[Index(['ID', ' tweet'], dtype='object'),\n",
       " Index(['ID', ' tweet'], dtype='object'),\n",
       " Index(['ID', ' tweet'], dtype='object'),\n",
       " Index(['ID', ' tweet'], dtype='object'),\n",
       " Index(['ID', ' tweet'], dtype='object')]"
      ]
     },
     "execution_count": 36,
     "metadata": {},
     "output_type": "execute_result"
    }
   ],
   "source": [
    "# check column names for dev\n",
    "[i.columns for i in [dz_dev,ha_dev,ig_dev,ma_dev,pt_dev]]"
   ]
  },
  {
   "cell_type": "code",
   "execution_count": 37,
   "id": "556f70f7",
   "metadata": {},
   "outputs": [
    {
     "data": {
      "text/plain": [
       "[None, None, None, None, None]"
      ]
     },
     "execution_count": 37,
     "metadata": {},
     "output_type": "execute_result"
    }
   ],
   "source": [
    "# rename the column \n",
    "[i.rename({' tweet': 'tweet'}, axis=1, inplace=True) for i in [dz_dev,ha_dev,ig_dev,ma_dev,pt_dev]]"
   ]
  },
  {
   "cell_type": "code",
   "execution_count": 39,
   "id": "755c7a37",
   "metadata": {},
   "outputs": [],
   "source": [
    "# dz_dev.to_csv(r'E:\\FALL22\\CSCE633_NLP\\afrisenti_data\\dev\\dev_afri_to_eng_tsv//' + 'dz_dev' + '.csv', sep='\\t', index=False)\n",
    "# ha_dev.to_csv(r'E:\\FALL22\\CSCE633_NLP\\afrisenti_data\\dev\\dev_afri_to_eng_tsv//' + 'ha_dev' + '.csv', sep='\\t', index=False)\n",
    "# ig_dev.to_csv(r'E:\\FALL22\\CSCE633_NLP\\afrisenti_data\\dev\\dev_afri_to_eng_tsv//' + 'ig_dev' + '.csv', sep='\\t', index=False)\n",
    "# ma_dev.to_csv(r'E:\\FALL22\\CSCE633_NLP\\afrisenti_data\\dev\\dev_afri_to_eng_tsv//' + 'ma_dev' + '.csv', sep='\\t', index=False)\n",
    "# pt_dev.to_csv(r'E:\\FALL22\\CSCE633_NLP\\afrisenti_data\\dev\\dev_afri_to_eng_tsv//' + 'pt_dev' + '.csv', sep='\\t', index=False)"
   ]
  },
  {
   "cell_type": "code",
   "execution_count": null,
   "id": "6a152a33",
   "metadata": {},
   "outputs": [],
   "source": []
  },
  {
   "cell_type": "code",
   "execution_count": 40,
   "id": "76d8ffb4",
   "metadata": {},
   "outputs": [
    {
     "name": "stdout",
     "output_type": "stream",
     "text": [
      "am_dev.csv -- Index(['ID', 'tweet'], dtype='object') (1497, 2)\n",
      "dz_dev.csv -- Index(['ID', 'tweet'], dtype='object') (414, 2)\n",
      "ha_dev.csv -- Index(['ID', 'tweet'], dtype='object') (2677, 2)\n",
      "ig_dev.csv -- Index(['ID', 'tweet'], dtype='object') (1841, 2)\n",
      "ma_dev.csv -- Index(['ID', 'tweet'], dtype='object') (1215, 2)\n",
      "pcm_dev.csv -- Index(['ID', 'tweet'], dtype='object') (1281, 2)\n",
      "pt_dev.csv -- Index(['ID', 'tweet'], dtype='object') (767, 2)\n",
      "sw_dev.csv -- Index(['ID', 'tweet'], dtype='object') (453, 2)\n",
      "yo_dev.csv -- Index(['ID', 'tweet'], dtype='object') (2090, 2)\n"
     ]
    }
   ],
   "source": [
    "# Verify the column names\n",
    "files_dev = [file for file in os.listdir(dev_translated_tsv_path) if file.endswith('.csv')]\n",
    "dfs_dev = [pd.read_csv(dev_translated_tsv_path +'\\\\'+ file, sep='\\t') for file in files_dev]\n",
    "\n",
    "for i, file in zip(dfs_dev,files_dev):\n",
    "    print(file, '--', i.columns, i.shape)"
   ]
  },
  {
   "cell_type": "markdown",
   "id": "762d07b9",
   "metadata": {},
   "source": [
    "Now the column names are fixed for dev set as well."
   ]
  },
  {
   "cell_type": "markdown",
   "id": "01ce7c88",
   "metadata": {},
   "source": [
    "#### Work on class distribution across the languages"
   ]
  },
  {
   "cell_type": "code",
   "execution_count": 154,
   "id": "362fca82",
   "metadata": {},
   "outputs": [],
   "source": [
    "files = [file for file in os.listdir(train_translated_tsv_path) if file.endswith('.csv')]\n",
    "dfs = [pd.read_csv(train_translated_tsv_path +'\\\\'+ file, sep='\\t') for file in files]\n",
    "df_all = pd.concat(dfs, axis=0, ignore_index=True)"
   ]
  },
  {
   "cell_type": "code",
   "execution_count": 155,
   "id": "7621b814",
   "metadata": {},
   "outputs": [
    {
     "data": {
      "text/plain": [
       "(56098, 3)"
      ]
     },
     "execution_count": 155,
     "metadata": {},
     "output_type": "execute_result"
    }
   ],
   "source": [
    "df_all.shape"
   ]
  },
  {
   "cell_type": "code",
   "execution_count": 156,
   "id": "03603f6b",
   "metadata": {},
   "outputs": [
    {
     "data": {
      "text/plain": [
       "RangeIndex(start=0, stop=56098, step=1)"
      ]
     },
     "execution_count": 156,
     "metadata": {},
     "output_type": "execute_result"
    }
   ],
   "source": [
    "df_all.index"
   ]
  },
  {
   "cell_type": "code",
   "execution_count": 157,
   "id": "894bab53",
   "metadata": {},
   "outputs": [
    {
     "data": {
      "text/html": [
       "<div>\n",
       "<style scoped>\n",
       "    .dataframe tbody tr th:only-of-type {\n",
       "        vertical-align: middle;\n",
       "    }\n",
       "\n",
       "    .dataframe tbody tr th {\n",
       "        vertical-align: top;\n",
       "    }\n",
       "\n",
       "    .dataframe thead th {\n",
       "        text-align: right;\n",
       "    }\n",
       "</style>\n",
       "<table border=\"1\" class=\"dataframe\">\n",
       "  <thead>\n",
       "    <tr style=\"text-align: right;\">\n",
       "      <th></th>\n",
       "      <th>ID</th>\n",
       "      <th>tweet</th>\n",
       "      <th>label</th>\n",
       "    </tr>\n",
       "  </thead>\n",
       "  <tbody>\n",
       "    <tr>\n",
       "      <th>0</th>\n",
       "      <td>am_train_00001</td>\n",
       "      <td>Tesfaye, you posted a picture of a professor wearing a mask, shame on you.</td>\n",
       "      <td>negative</td>\n",
       "    </tr>\n",
       "    <tr>\n",
       "      <th>1</th>\n",
       "      <td>am_train_00002</td>\n",
       "      <td>This is the corner of your knowledge, isn't it?</td>\n",
       "      <td>negative</td>\n",
       "    </tr>\n",
       "    <tr>\n",
       "      <th>2</th>\n",
       "      <td>am_train_00003</td>\n",
       "      <td>Is it called a report? If there is anything else to say, tell us!</td>\n",
       "      <td>negative</td>\n",
       "    </tr>\n",
       "    <tr>\n",
       "      <th>3</th>\n",
       "      <td>am_train_00004</td>\n",
       "      <td>?? It reminded me of what we used to do in the Kodak photo booth when the flash went off. But what happened? Did all the Teddy behind turn his face??</td>\n",
       "      <td>negative</td>\n",
       "    </tr>\n",
       "    <tr>\n",
       "      <th>4</th>\n",
       "      <td>am_train_00005</td>\n",
       "      <td>Is it clear?? ???? He recovered</td>\n",
       "      <td>negative</td>\n",
       "    </tr>\n",
       "  </tbody>\n",
       "</table>\n",
       "</div>"
      ],
      "text/plain": [
       "               ID  \\\n",
       "0  am_train_00001   \n",
       "1  am_train_00002   \n",
       "2  am_train_00003   \n",
       "3  am_train_00004   \n",
       "4  am_train_00005   \n",
       "\n",
       "                                                                                                                                                    tweet  \\\n",
       "0                                                                              Tesfaye, you posted a picture of a professor wearing a mask, shame on you.   \n",
       "1                                                                                                         This is the corner of your knowledge, isn't it?   \n",
       "2                                                                                       Is it called a report? If there is anything else to say, tell us!   \n",
       "3   ?? It reminded me of what we used to do in the Kodak photo booth when the flash went off. But what happened? Did all the Teddy behind turn his face??   \n",
       "4                                                                                                                         Is it clear?? ???? He recovered   \n",
       "\n",
       "      label  \n",
       "0  negative  \n",
       "1  negative  \n",
       "2  negative  \n",
       "3  negative  \n",
       "4  negative  "
      ]
     },
     "execution_count": 157,
     "metadata": {},
     "output_type": "execute_result"
    }
   ],
   "source": [
    "df_all.head()"
   ]
  },
  {
   "cell_type": "code",
   "execution_count": 158,
   "id": "2931374b",
   "metadata": {},
   "outputs": [],
   "source": [
    "# we can create a language column from the ID column values"
   ]
  },
  {
   "cell_type": "code",
   "execution_count": 159,
   "id": "f367e201",
   "metadata": {},
   "outputs": [],
   "source": [
    "# sum(df_all.ID.value_counts() > 1)"
   ]
  },
  {
   "cell_type": "code",
   "execution_count": 160,
   "id": "3bd886fd",
   "metadata": {},
   "outputs": [],
   "source": [
    "df_all.ID = df_all.ID.str.strip()\n",
    "df_all['language'] = df_all.ID.apply(lambda x: x.split('_')[0])"
   ]
  },
  {
   "cell_type": "code",
   "execution_count": 161,
   "id": "95b388e3",
   "metadata": {},
   "outputs": [
    {
     "data": {
      "text/html": [
       "<div>\n",
       "<style scoped>\n",
       "    .dataframe tbody tr th:only-of-type {\n",
       "        vertical-align: middle;\n",
       "    }\n",
       "\n",
       "    .dataframe tbody tr th {\n",
       "        vertical-align: top;\n",
       "    }\n",
       "\n",
       "    .dataframe thead th {\n",
       "        text-align: right;\n",
       "    }\n",
       "</style>\n",
       "<table border=\"1\" class=\"dataframe\">\n",
       "  <thead>\n",
       "    <tr style=\"text-align: right;\">\n",
       "      <th></th>\n",
       "      <th>ID</th>\n",
       "      <th>tweet</th>\n",
       "      <th>label</th>\n",
       "      <th>language</th>\n",
       "    </tr>\n",
       "  </thead>\n",
       "  <tbody>\n",
       "    <tr>\n",
       "      <th>0</th>\n",
       "      <td>am_train_00001</td>\n",
       "      <td>Tesfaye, you posted a picture of a professor wearing a mask, shame on you.</td>\n",
       "      <td>negative</td>\n",
       "      <td>am</td>\n",
       "    </tr>\n",
       "    <tr>\n",
       "      <th>1</th>\n",
       "      <td>am_train_00002</td>\n",
       "      <td>This is the corner of your knowledge, isn't it?</td>\n",
       "      <td>negative</td>\n",
       "      <td>am</td>\n",
       "    </tr>\n",
       "    <tr>\n",
       "      <th>2</th>\n",
       "      <td>am_train_00003</td>\n",
       "      <td>Is it called a report? If there is anything else to say, tell us!</td>\n",
       "      <td>negative</td>\n",
       "      <td>am</td>\n",
       "    </tr>\n",
       "    <tr>\n",
       "      <th>3</th>\n",
       "      <td>am_train_00004</td>\n",
       "      <td>?? It reminded me of what we used to do in the Kodak photo booth when the flash went off. But what happened? Did all the Teddy behind turn his face??</td>\n",
       "      <td>negative</td>\n",
       "      <td>am</td>\n",
       "    </tr>\n",
       "    <tr>\n",
       "      <th>4</th>\n",
       "      <td>am_train_00005</td>\n",
       "      <td>Is it clear?? ???? He recovered</td>\n",
       "      <td>negative</td>\n",
       "      <td>am</td>\n",
       "    </tr>\n",
       "    <tr>\n",
       "      <th>...</th>\n",
       "      <td>...</td>\n",
       "      <td>...</td>\n",
       "      <td>...</td>\n",
       "      <td>...</td>\n",
       "    </tr>\n",
       "    <tr>\n",
       "      <th>56093</th>\n",
       "      <td>yo_train_08518</td>\n",
       "      <td>RT @user: The eyes of a bat are here, the eyes of an owl are seeing anchors, today is the day of the good fortune in our eyes. All children of the rat of the day Oo°˚˚˚°!</td>\n",
       "      <td>positive</td>\n",
       "      <td>yo</td>\n",
       "    </tr>\n",
       "    <tr>\n",
       "      <th>56094</th>\n",
       "      <td>yo_train_08519</td>\n",
       "      <td>We are grateful to our opponents, we will be wise, yes we will know, we are trying, and we will be tired to try again, soon we will bring out a sign of identity for all of you. https://t.co/LEqsIFKqsR</td>\n",
       "      <td>positive</td>\n",
       "      <td>yo</td>\n",
       "    </tr>\n",
       "    <tr>\n",
       "      <th>56095</th>\n",
       "      <td>yo_train_08520</td>\n",
       "      <td>The person who was yesterday, who is today, cannot be tomorrow; Whoever called the shots yesterday and calls the shots today, cannot call the shots tomorrow; only God calls the shots at all times. [Nothing lasts forever; change is certain; keep up hope] #Yoruba #proverbs</td>\n",
       "      <td>positive</td>\n",
       "      <td>yo</td>\n",
       "    </tr>\n",
       "    <tr>\n",
       "      <th>56096</th>\n",
       "      <td>yo_train_08521</td>\n",
       "      <td>My God is a miracle worker #yoruba</td>\n",
       "      <td>positive</td>\n",
       "      <td>yo</td>\n",
       "    </tr>\n",
       "    <tr>\n",
       "      <th>56097</th>\n",
       "      <td>yo_train_08522</td>\n",
       "      <td>RT @user: Come join me! #yorubafood #naijafood #africanfood http://t.co/T32HYEPg4M</td>\n",
       "      <td>positive</td>\n",
       "      <td>yo</td>\n",
       "    </tr>\n",
       "  </tbody>\n",
       "</table>\n",
       "<p>56098 rows × 4 columns</p>\n",
       "</div>"
      ],
      "text/plain": [
       "                   ID  \\\n",
       "0      am_train_00001   \n",
       "1      am_train_00002   \n",
       "2      am_train_00003   \n",
       "3      am_train_00004   \n",
       "4      am_train_00005   \n",
       "...               ...   \n",
       "56093  yo_train_08518   \n",
       "56094  yo_train_08519   \n",
       "56095  yo_train_08520   \n",
       "56096  yo_train_08521   \n",
       "56097  yo_train_08522   \n",
       "\n",
       "                                                                                                                                                                                                                                                                                 tweet  \\\n",
       "0                                                                                                                                                                                                           Tesfaye, you posted a picture of a professor wearing a mask, shame on you.   \n",
       "1                                                                                                                                                                                                                                      This is the corner of your knowledge, isn't it?   \n",
       "2                                                                                                                                                                                                                    Is it called a report? If there is anything else to say, tell us!   \n",
       "3                                                                                                                                ?? It reminded me of what we used to do in the Kodak photo booth when the flash went off. But what happened? Did all the Teddy behind turn his face??   \n",
       "4                                                                                                                                                                                                                                                      Is it clear?? ???? He recovered   \n",
       "...                                                                                                                                                                                                                                                                                ...   \n",
       "56093                                                                                                       RT @user: The eyes of a bat are here, the eyes of an owl are seeing anchors, today is the day of the good fortune in our eyes. All children of the rat of the day Oo°˚˚˚°!   \n",
       "56094                                                                         We are grateful to our opponents, we will be wise, yes we will know, we are trying, and we will be tired to try again, soon we will bring out a sign of identity for all of you. https://t.co/LEqsIFKqsR   \n",
       "56095  The person who was yesterday, who is today, cannot be tomorrow; Whoever called the shots yesterday and calls the shots today, cannot call the shots tomorrow; only God calls the shots at all times. [Nothing lasts forever; change is certain; keep up hope] #Yoruba #proverbs   \n",
       "56096                                                                                                                                                                                                                                               My God is a miracle worker #yoruba   \n",
       "56097                                                                                                                                                                                               RT @user: Come join me! #yorubafood #naijafood #africanfood http://t.co/T32HYEPg4M   \n",
       "\n",
       "          label language  \n",
       "0      negative       am  \n",
       "1      negative       am  \n",
       "2      negative       am  \n",
       "3      negative       am  \n",
       "4      negative       am  \n",
       "...         ...      ...  \n",
       "56093  positive       yo  \n",
       "56094  positive       yo  \n",
       "56095  positive       yo  \n",
       "56096  positive       yo  \n",
       "56097  positive       yo  \n",
       "\n",
       "[56098 rows x 4 columns]"
      ]
     },
     "execution_count": 161,
     "metadata": {},
     "output_type": "execute_result"
    }
   ],
   "source": [
    "df_all"
   ]
  },
  {
   "cell_type": "code",
   "execution_count": 162,
   "id": "05edff60",
   "metadata": {},
   "outputs": [
    {
     "data": {
      "text/plain": [
       "neutral     20879\n",
       "positive    17856\n",
       "negative    17363\n",
       "Name: label, dtype: int64"
      ]
     },
     "execution_count": 162,
     "metadata": {},
     "output_type": "execute_result"
    }
   ],
   "source": [
    "df_all.label.value_counts()"
   ]
  },
  {
   "cell_type": "markdown",
   "id": "c13e6b6a",
   "metadata": {},
   "source": [
    "Another problem is in class labels, there is an extra space. Need to fix on this as well on individual files. But for now just focus on the combined file and fix it here."
   ]
  },
  {
   "cell_type": "code",
   "execution_count": 163,
   "id": "089abcef",
   "metadata": {},
   "outputs": [],
   "source": [
    "df_all.label = df_all.label.str.strip()"
   ]
  },
  {
   "cell_type": "code",
   "execution_count": 164,
   "id": "3a4d4890",
   "metadata": {},
   "outputs": [
    {
     "data": {
      "text/plain": [
       "neutral     20879\n",
       "positive    17856\n",
       "negative    17363\n",
       "Name: label, dtype: int64"
      ]
     },
     "execution_count": 164,
     "metadata": {},
     "output_type": "execute_result"
    }
   ],
   "source": [
    "# Overall distribution of class labels across 9 languages\n",
    "df_all.label.value_counts()"
   ]
  },
  {
   "cell_type": "code",
   "execution_count": 165,
   "id": "f62e00e5",
   "metadata": {},
   "outputs": [
    {
     "data": {
      "text/plain": [
       "language  label   \n",
       "am        negative    1548\n",
       "          neutral     3104\n",
       "          positive    1332\n",
       "dz        negative     892\n",
       "          neutral      342\n",
       "          positive     417\n",
       "en        positive      27\n",
       "ha        negative    4573\n",
       "          neutral     4912\n",
       "          positive    4687\n",
       "ig        negative    2600\n",
       "          neutral     4508\n",
       "          positive    3084\n",
       "ma        negative    1664\n",
       "          neutral     2161\n",
       "          positive    1758\n",
       "pcm       negative    3241\n",
       "          neutral       72\n",
       "          positive    1808\n",
       "pt        negative     782\n",
       "          neutral     1600\n",
       "          positive     654\n",
       "sw        negative     191\n",
       "          neutral     1072\n",
       "          positive     547\n",
       "yo        negative    1872\n",
       "          neutral     3108\n",
       "          positive    3542\n",
       "Name: label, dtype: int64"
      ]
     },
     "execution_count": 165,
     "metadata": {},
     "output_type": "execute_result"
    }
   ],
   "source": [
    "# Class distribution across\n",
    "df_all.groupby(['language','label'])['label'].count()"
   ]
  },
  {
   "cell_type": "code",
   "execution_count": 166,
   "id": "b1f38ca7",
   "metadata": {},
   "outputs": [
    {
     "data": {
      "text/plain": [
       "27"
      ]
     },
     "execution_count": 166,
     "metadata": {},
     "output_type": "execute_result"
    }
   ],
   "source": [
    "sum(df_all.ID.str.contains('en'))\n",
    "# some ids contain 'en' in them. We shall ignore them as there only 27 positive and no other labels.\n",
    "# we can actually identify where these are present in individual files and replace with that language. (All occurred in pt language)\n",
    "# but this is just for class distribution so the above step need not be done, bcz during classification the ID column anyways should not be considered."
   ]
  },
  {
   "cell_type": "code",
   "execution_count": 167,
   "id": "b21f24d5",
   "metadata": {},
   "outputs": [],
   "source": [
    "# Class distribution across 9 african languages\n",
    "class_dist = pd.DataFrame(df_all.loc[~df_all.ID.str.contains('en'),:].groupby(['language','label'])['label'].count())"
   ]
  },
  {
   "cell_type": "code",
   "execution_count": 168,
   "id": "233dce7d",
   "metadata": {},
   "outputs": [
    {
     "data": {
      "text/html": [
       "<div>\n",
       "<style scoped>\n",
       "    .dataframe tbody tr th:only-of-type {\n",
       "        vertical-align: middle;\n",
       "    }\n",
       "\n",
       "    .dataframe tbody tr th {\n",
       "        vertical-align: top;\n",
       "    }\n",
       "\n",
       "    .dataframe thead th {\n",
       "        text-align: right;\n",
       "    }\n",
       "</style>\n",
       "<table border=\"1\" class=\"dataframe\">\n",
       "  <thead>\n",
       "    <tr style=\"text-align: right;\">\n",
       "      <th></th>\n",
       "      <th></th>\n",
       "      <th>Counts</th>\n",
       "    </tr>\n",
       "    <tr>\n",
       "      <th>language</th>\n",
       "      <th>label</th>\n",
       "      <th></th>\n",
       "    </tr>\n",
       "  </thead>\n",
       "  <tbody>\n",
       "    <tr>\n",
       "      <th rowspan=\"3\" valign=\"top\">am</th>\n",
       "      <th>negative</th>\n",
       "      <td>1548</td>\n",
       "    </tr>\n",
       "    <tr>\n",
       "      <th>neutral</th>\n",
       "      <td>3104</td>\n",
       "    </tr>\n",
       "    <tr>\n",
       "      <th>positive</th>\n",
       "      <td>1332</td>\n",
       "    </tr>\n",
       "    <tr>\n",
       "      <th rowspan=\"3\" valign=\"top\">dz</th>\n",
       "      <th>negative</th>\n",
       "      <td>892</td>\n",
       "    </tr>\n",
       "    <tr>\n",
       "      <th>neutral</th>\n",
       "      <td>342</td>\n",
       "    </tr>\n",
       "    <tr>\n",
       "      <th>positive</th>\n",
       "      <td>417</td>\n",
       "    </tr>\n",
       "    <tr>\n",
       "      <th rowspan=\"3\" valign=\"top\">ha</th>\n",
       "      <th>negative</th>\n",
       "      <td>4573</td>\n",
       "    </tr>\n",
       "    <tr>\n",
       "      <th>neutral</th>\n",
       "      <td>4912</td>\n",
       "    </tr>\n",
       "    <tr>\n",
       "      <th>positive</th>\n",
       "      <td>4687</td>\n",
       "    </tr>\n",
       "    <tr>\n",
       "      <th rowspan=\"3\" valign=\"top\">ig</th>\n",
       "      <th>negative</th>\n",
       "      <td>2600</td>\n",
       "    </tr>\n",
       "    <tr>\n",
       "      <th>neutral</th>\n",
       "      <td>4508</td>\n",
       "    </tr>\n",
       "    <tr>\n",
       "      <th>positive</th>\n",
       "      <td>3084</td>\n",
       "    </tr>\n",
       "    <tr>\n",
       "      <th rowspan=\"3\" valign=\"top\">ma</th>\n",
       "      <th>negative</th>\n",
       "      <td>1664</td>\n",
       "    </tr>\n",
       "    <tr>\n",
       "      <th>neutral</th>\n",
       "      <td>2161</td>\n",
       "    </tr>\n",
       "    <tr>\n",
       "      <th>positive</th>\n",
       "      <td>1758</td>\n",
       "    </tr>\n",
       "    <tr>\n",
       "      <th rowspan=\"3\" valign=\"top\">pcm</th>\n",
       "      <th>negative</th>\n",
       "      <td>3241</td>\n",
       "    </tr>\n",
       "    <tr>\n",
       "      <th>neutral</th>\n",
       "      <td>72</td>\n",
       "    </tr>\n",
       "    <tr>\n",
       "      <th>positive</th>\n",
       "      <td>1808</td>\n",
       "    </tr>\n",
       "    <tr>\n",
       "      <th rowspan=\"3\" valign=\"top\">pt</th>\n",
       "      <th>negative</th>\n",
       "      <td>782</td>\n",
       "    </tr>\n",
       "    <tr>\n",
       "      <th>neutral</th>\n",
       "      <td>1600</td>\n",
       "    </tr>\n",
       "    <tr>\n",
       "      <th>positive</th>\n",
       "      <td>654</td>\n",
       "    </tr>\n",
       "    <tr>\n",
       "      <th rowspan=\"3\" valign=\"top\">sw</th>\n",
       "      <th>negative</th>\n",
       "      <td>191</td>\n",
       "    </tr>\n",
       "    <tr>\n",
       "      <th>neutral</th>\n",
       "      <td>1072</td>\n",
       "    </tr>\n",
       "    <tr>\n",
       "      <th>positive</th>\n",
       "      <td>547</td>\n",
       "    </tr>\n",
       "    <tr>\n",
       "      <th rowspan=\"3\" valign=\"top\">yo</th>\n",
       "      <th>negative</th>\n",
       "      <td>1872</td>\n",
       "    </tr>\n",
       "    <tr>\n",
       "      <th>neutral</th>\n",
       "      <td>3108</td>\n",
       "    </tr>\n",
       "    <tr>\n",
       "      <th>positive</th>\n",
       "      <td>3542</td>\n",
       "    </tr>\n",
       "  </tbody>\n",
       "</table>\n",
       "</div>"
      ],
      "text/plain": [
       "                   Counts\n",
       "language label           \n",
       "am       negative    1548\n",
       "         neutral     3104\n",
       "         positive    1332\n",
       "dz       negative     892\n",
       "         neutral      342\n",
       "         positive     417\n",
       "ha       negative    4573\n",
       "         neutral     4912\n",
       "         positive    4687\n",
       "ig       negative    2600\n",
       "         neutral     4508\n",
       "         positive    3084\n",
       "ma       negative    1664\n",
       "         neutral     2161\n",
       "         positive    1758\n",
       "pcm      negative    3241\n",
       "         neutral       72\n",
       "         positive    1808\n",
       "pt       negative     782\n",
       "         neutral     1600\n",
       "         positive     654\n",
       "sw       negative     191\n",
       "         neutral     1072\n",
       "         positive     547\n",
       "yo       negative    1872\n",
       "         neutral     3108\n",
       "         positive    3542"
      ]
     },
     "execution_count": 168,
     "metadata": {},
     "output_type": "execute_result"
    }
   ],
   "source": [
    "class_dist.rename({'label':'Counts'}, axis =1, inplace=True)\n",
    "class_dist"
   ]
  },
  {
   "cell_type": "code",
   "execution_count": 169,
   "id": "9456ea30",
   "metadata": {},
   "outputs": [
    {
     "data": {
      "text/html": [
       "<div>\n",
       "<style scoped>\n",
       "    .dataframe tbody tr th:only-of-type {\n",
       "        vertical-align: middle;\n",
       "    }\n",
       "\n",
       "    .dataframe tbody tr th {\n",
       "        vertical-align: top;\n",
       "    }\n",
       "\n",
       "    .dataframe thead th {\n",
       "        text-align: right;\n",
       "    }\n",
       "</style>\n",
       "<table border=\"1\" class=\"dataframe\">\n",
       "  <thead>\n",
       "    <tr style=\"text-align: right;\">\n",
       "      <th></th>\n",
       "      <th>language</th>\n",
       "      <th>label</th>\n",
       "      <th>Counts</th>\n",
       "    </tr>\n",
       "  </thead>\n",
       "  <tbody>\n",
       "    <tr>\n",
       "      <th>0</th>\n",
       "      <td>am</td>\n",
       "      <td>negative</td>\n",
       "      <td>1548</td>\n",
       "    </tr>\n",
       "    <tr>\n",
       "      <th>1</th>\n",
       "      <td>am</td>\n",
       "      <td>neutral</td>\n",
       "      <td>3104</td>\n",
       "    </tr>\n",
       "    <tr>\n",
       "      <th>2</th>\n",
       "      <td>am</td>\n",
       "      <td>positive</td>\n",
       "      <td>1332</td>\n",
       "    </tr>\n",
       "    <tr>\n",
       "      <th>3</th>\n",
       "      <td>dz</td>\n",
       "      <td>negative</td>\n",
       "      <td>892</td>\n",
       "    </tr>\n",
       "    <tr>\n",
       "      <th>4</th>\n",
       "      <td>dz</td>\n",
       "      <td>neutral</td>\n",
       "      <td>342</td>\n",
       "    </tr>\n",
       "  </tbody>\n",
       "</table>\n",
       "</div>"
      ],
      "text/plain": [
       "  language     label  Counts\n",
       "0       am  negative    1548\n",
       "1       am   neutral    3104\n",
       "2       am  positive    1332\n",
       "3       dz  negative     892\n",
       "4       dz   neutral     342"
      ]
     },
     "execution_count": 169,
     "metadata": {},
     "output_type": "execute_result"
    }
   ],
   "source": [
    "class_dist.reset_index(inplace=True)\n",
    "class_dist.head()"
   ]
  },
  {
   "cell_type": "code",
   "execution_count": 170,
   "id": "5f74e098",
   "metadata": {},
   "outputs": [],
   "source": [
    "import seaborn as sns\n",
    "import matplotlib.pyplot as plt"
   ]
  },
  {
   "cell_type": "code",
   "execution_count": 171,
   "id": "b5ee277b",
   "metadata": {},
   "outputs": [
    {
     "data": {
      "text/plain": [
       "Text(0.5, 1.0, 'Class Distribution Across 9 African Languages')"
      ]
     },
     "execution_count": 171,
     "metadata": {},
     "output_type": "execute_result"
    },
    {
     "data": {
      "image/png": "[encoded data removed]",
      "text/plain": [
       "<Figure size 799.75x360 with 1 Axes>"
      ]
     },
     "metadata": {
      "needs_background": "light"
     },
     "output_type": "display_data"
    }
   ],
   "source": [
    "\n",
    "sns.catplot(x = 'language', y='Counts', \n",
    "               hue = 'label',data=class_dist, kind='bar', aspect=2, palette=['#B81D13','#F7DB80','#008450'])\n",
    "plt.title('Class Distribution Across 9 African Languages', fontsize = 20)"
   ]
  },
  {
   "cell_type": "markdown",
   "id": "44833479",
   "metadata": {},
   "source": [
    "Observations :  \n",
    "  - **am, ig, pt, sw** the **neutral** class is **dominating** positive and negative classes with a **decent** margin.   \n",
    "  - **ha, ma** **neutral** class is **dominating** but not that much.  \n",
    "  - **pcm**, the **neutral** class is **very small** and **negative** class is **dominating**.  \n",
    "  - **dz** has **around twice number of negative** class labels as that of positive.  \n",
    "  - **yo** has **around twice number of positive** class labels as that of negative.  \n",
    "  "
   ]
  },
  {
   "cell_type": "code",
   "execution_count": 125,
   "id": "bb7cff27",
   "metadata": {},
   "outputs": [
    {
     "name": "stdout",
     "output_type": "stream",
     "text": [
      "am_train.csv \n",
      "  neutral     3104\n",
      " negative    1548\n",
      " positive    1332\n",
      "Name: label, dtype: int64 \n",
      "\n",
      "dz_train.csv \n",
      " negative    892\n",
      "positive    417\n",
      "neutral     342\n",
      "Name: label, dtype: int64 \n",
      "\n",
      "ha_train.csv \n",
      "  neutral     4912\n",
      " positive    4687\n",
      " negative    4573\n",
      "Name: label, dtype: int64 \n",
      "\n",
      "ig_train.csv \n",
      "  neutral     4508\n",
      " positive    3084\n",
      " negative    2600\n",
      "Name: label, dtype: int64 \n",
      "\n",
      "ma_train.csv \n",
      "  neutral     2161\n",
      " positive    1758\n",
      " negative    1664\n",
      "Name: label, dtype: int64 \n",
      "\n",
      "pcm_train.csv \n",
      " negative    3241\n",
      "positive    1808\n",
      "neutral       72\n",
      "Name: label, dtype: int64 \n",
      "\n",
      "pt_train.csv \n",
      "  neutral     1600\n",
      " negative     782\n",
      " positive     681\n",
      "Name: label, dtype: int64 \n",
      "\n",
      "sw_train.csv \n",
      "  neutral     1072\n",
      " positive     547\n",
      " negative     191\n",
      "Name: label, dtype: int64 \n",
      "\n",
      "yo_train.csv \n",
      "  positive    3542\n",
      " neutral     3108\n",
      " negative    1872\n",
      "Name: label, dtype: int64 \n",
      "\n"
     ]
    },
    {
     "data": {
      "text/plain": [
       "[None, None, None, None, None, None, None, None, None]"
      ]
     },
     "execution_count": 125,
     "metadata": {},
     "output_type": "execute_result"
    }
   ],
   "source": [
    "## any space in labels?\n",
    "[print(file, '\\n', i.label.value_counts(), '\\n') for i,file in zip(dfs,files)]"
   ]
  },
  {
   "cell_type": "code",
   "execution_count": 128,
   "id": "e11afaca",
   "metadata": {},
   "outputs": [
    {
     "data": {
      "text/plain": [
       "'E:\\\\FALL22\\\\CSCE633_NLP\\\\afrisenti_data\\\\train\\\\train_afri_to_eng_tsv'"
      ]
     },
     "execution_count": 128,
     "metadata": {},
     "output_type": "execute_result"
    }
   ],
   "source": [
    "train_translated_tsv_path"
   ]
  },
  {
   "cell_type": "code",
   "execution_count": 129,
   "id": "78303bb0",
   "metadata": {},
   "outputs": [
    {
     "data": {
      "text/plain": [
       "'E:\\\\FALL22\\\\CSCE633_NLP\\\\afrisenti_data\\\\dev\\\\dev_afri_to_eng_tsv'"
      ]
     },
     "execution_count": 129,
     "metadata": {},
     "output_type": "execute_result"
    }
   ],
   "source": [
    "dev_translated_tsv_path"
   ]
  },
  {
   "cell_type": "code",
   "execution_count": 131,
   "id": "9a355d00",
   "metadata": {},
   "outputs": [
    {
     "name": "stdout",
     "output_type": "stream",
     "text": [
      "am_train.csv : has been created in  E:\\FALL22\\CSCE633_NLP\\afrisenti_data\\train\\train_afri_to_eng_tsv\n",
      "dz_train.csv : has been created in  E:\\FALL22\\CSCE633_NLP\\afrisenti_data\\train\\train_afri_to_eng_tsv\n",
      "ha_train.csv : has been created in  E:\\FALL22\\CSCE633_NLP\\afrisenti_data\\train\\train_afri_to_eng_tsv\n",
      "ig_train.csv : has been created in  E:\\FALL22\\CSCE633_NLP\\afrisenti_data\\train\\train_afri_to_eng_tsv\n",
      "ma_train.csv : has been created in  E:\\FALL22\\CSCE633_NLP\\afrisenti_data\\train\\train_afri_to_eng_tsv\n",
      "pcm_train.csv : has been created in  E:\\FALL22\\CSCE633_NLP\\afrisenti_data\\train\\train_afri_to_eng_tsv\n",
      "pt_train.csv : has been created in  E:\\FALL22\\CSCE633_NLP\\afrisenti_data\\train\\train_afri_to_eng_tsv\n",
      "sw_train.csv : has been created in  E:\\FALL22\\CSCE633_NLP\\afrisenti_data\\train\\train_afri_to_eng_tsv\n",
      "yo_train.csv : has been created in  E:\\FALL22\\CSCE633_NLP\\afrisenti_data\\train\\train_afri_to_eng_tsv\n"
     ]
    }
   ],
   "source": [
    "## We can strip the ID,label values and \n",
    "\n",
    "for file in files:\n",
    "    df = pd.read_csv(train_translated_tsv_path +'\\\\'+ file, sep='\\t')\n",
    "    ## Strip the id,label values\n",
    "    df.ID = df.ID.str.strip()\n",
    "    df.label = df.label.str.strip()\n",
    "    \n",
    "#     print(\"File name:\", file)\n",
    "#     print(df.columns, df.shape)\n",
    "#     print(df.label.value_counts(),'\\n')\n",
    "    \n",
    "#     df.to_csv(train_translated_tsv_path +'\\\\' + file.split('.')[0] + '.csv', sep='\\t', index=False)\n",
    "#     print(file,\": has been created in \", train_translated_tsv_path)\n",
    "    "
   ]
  },
  {
   "cell_type": "code",
   "execution_count": null,
   "id": "92ee1c40",
   "metadata": {},
   "outputs": [],
   "source": []
  },
  {
   "cell_type": "code",
   "execution_count": 133,
   "id": "56a1174a",
   "metadata": {},
   "outputs": [
    {
     "name": "stdout",
     "output_type": "stream",
     "text": [
      "File name: am_train.csv\n",
      "Index(['ID', 'tweet', 'label'], dtype='object') (5984, 3)\n",
      "neutral     3104\n",
      "negative    1548\n",
      "positive    1332\n",
      "Name: label, dtype: int64\n",
      "am    5984\n",
      "Name: ID, dtype: int64\n",
      "##############################\n",
      "File name: dz_train.csv\n",
      "Index(['ID', 'tweet', 'label'], dtype='object') (1651, 3)\n",
      "negative    892\n",
      "positive    417\n",
      "neutral     342\n",
      "Name: label, dtype: int64\n",
      "dz    1651\n",
      "Name: ID, dtype: int64\n",
      "##############################\n",
      "File name: ha_train.csv\n",
      "Index(['ID', 'tweet', 'label'], dtype='object') (14172, 3)\n",
      "neutral     4912\n",
      "positive    4687\n",
      "negative    4573\n",
      "Name: label, dtype: int64\n",
      "ha    14172\n",
      "Name: ID, dtype: int64\n",
      "##############################\n",
      "File name: ig_train.csv\n",
      "Index(['ID', 'tweet', 'label'], dtype='object') (10192, 3)\n",
      "neutral     4508\n",
      "positive    3084\n",
      "negative    2600\n",
      "Name: label, dtype: int64\n",
      "ig    10192\n",
      "Name: ID, dtype: int64\n",
      "##############################\n",
      "File name: ma_train.csv\n",
      "Index(['ID', 'tweet', 'label'], dtype='object') (5583, 3)\n",
      "neutral     2161\n",
      "positive    1758\n",
      "negative    1664\n",
      "Name: label, dtype: int64\n",
      "my    5583\n",
      "Name: ID, dtype: int64\n",
      "##############################\n",
      "File name: pcm_train.csv\n",
      "Index(['ID', 'tweet', 'label'], dtype='object') (5121, 3)\n",
      "negative    3241\n",
      "positive    1808\n",
      "neutral       72\n",
      "Name: label, dtype: int64\n",
      "pcm    5121\n",
      "Name: ID, dtype: int64\n",
      "##############################\n",
      "File name: pt_train.csv\n",
      "Index(['ID', 'tweet', 'label'], dtype='object') (3063, 3)\n",
      "neutral     1600\n",
      "negative     782\n",
      "positive     681\n",
      "Name: label, dtype: int64\n",
      "pt    3036\n",
      "en      27\n",
      "Name: ID, dtype: int64\n",
      "##############################\n",
      "File name: sw_train.csv\n",
      "Index(['ID', 'tweet', 'label'], dtype='object') (1810, 3)\n",
      "neutral     1072\n",
      "positive     547\n",
      "negative     191\n",
      "Name: label, dtype: int64\n",
      "sw    1810\n",
      "Name: ID, dtype: int64\n",
      "##############################\n",
      "File name: yo_train.csv\n",
      "Index(['ID', 'tweet', 'label'], dtype='object') (8522, 3)\n",
      "positive    3542\n",
      "neutral     3108\n",
      "negative    1872\n",
      "Name: label, dtype: int64\n",
      "yo    8522\n",
      "Name: ID, dtype: int64\n",
      "##############################\n"
     ]
    }
   ],
   "source": [
    "## To cross-check if the id, labels have ' ' at beginning\n",
    "files = [file for file in os.listdir(train_translated_tsv_path) if file.endswith('.csv')]\n",
    "dfs = [pd.read_csv(train_translated_tsv_path +'\\\\'+ file, sep='\\t') for file in files]\n",
    "for i, file in zip(dfs,files):\n",
    "    #print(file, '--', i.columns)\n",
    "    print(\"File name:\", file)\n",
    "    print(i.columns, i.shape)\n",
    "    print(i.label.value_counts())#,'\\n')\n",
    "    print(i.ID.apply(lambda x: x.split('_')[0]).value_counts())\n",
    "    print('#'*30)"
   ]
  },
  {
   "cell_type": "code",
   "execution_count": 134,
   "id": "258730ee",
   "metadata": {},
   "outputs": [
    {
     "data": {
      "text/plain": [
       "'E:\\\\FALL22\\\\CSCE633_NLP\\\\afrisenti_data\\\\dev\\\\dev_afri_to_eng_tsv'"
      ]
     },
     "execution_count": 134,
     "metadata": {},
     "output_type": "execute_result"
    }
   ],
   "source": [
    "dev_translated_tsv_path"
   ]
  },
  {
   "cell_type": "code",
   "execution_count": 135,
   "id": "058f4c19",
   "metadata": {},
   "outputs": [
    {
     "data": {
      "text/plain": [
       "['am_dev.csv',\n",
       " 'dz_dev.csv',\n",
       " 'ha_dev.csv',\n",
       " 'ig_dev.csv',\n",
       " 'ma_dev.csv',\n",
       " 'pcm_dev.csv',\n",
       " 'pt_dev.csv',\n",
       " 'sw_dev.csv',\n",
       " 'yo_dev.csv']"
      ]
     },
     "execution_count": 135,
     "metadata": {},
     "output_type": "execute_result"
    }
   ],
   "source": [
    "files_dev"
   ]
  },
  {
   "cell_type": "code",
   "execution_count": 142,
   "id": "1b6fd2df",
   "metadata": {},
   "outputs": [
    {
     "name": "stdout",
     "output_type": "stream",
     "text": [
      "am_dev.csv : has been created in  E:\\FALL22\\CSCE633_NLP\\afrisenti_data\\dev\\dev_afri_to_eng_tsv\n",
      "dz_dev.csv : has been created in  E:\\FALL22\\CSCE633_NLP\\afrisenti_data\\dev\\dev_afri_to_eng_tsv\n",
      "ha_dev.csv : has been created in  E:\\FALL22\\CSCE633_NLP\\afrisenti_data\\dev\\dev_afri_to_eng_tsv\n",
      "ig_dev.csv : has been created in  E:\\FALL22\\CSCE633_NLP\\afrisenti_data\\dev\\dev_afri_to_eng_tsv\n",
      "ma_dev.csv : has been created in  E:\\FALL22\\CSCE633_NLP\\afrisenti_data\\dev\\dev_afri_to_eng_tsv\n",
      "pcm_dev.csv : has been created in  E:\\FALL22\\CSCE633_NLP\\afrisenti_data\\dev\\dev_afri_to_eng_tsv\n",
      "pt_dev.csv : has been created in  E:\\FALL22\\CSCE633_NLP\\afrisenti_data\\dev\\dev_afri_to_eng_tsv\n",
      "sw_dev.csv : has been created in  E:\\FALL22\\CSCE633_NLP\\afrisenti_data\\dev\\dev_afri_to_eng_tsv\n",
      "yo_dev.csv : has been created in  E:\\FALL22\\CSCE633_NLP\\afrisenti_data\\dev\\dev_afri_to_eng_tsv\n"
     ]
    }
   ],
   "source": [
    "## We can strip the ID values for dev set as well.\n",
    "\n",
    "for file in files_dev:\n",
    "    df = pd.read_csv(dev_translated_tsv_path +'\\\\'+ file, sep='\\t')\n",
    "    ## Strip the id values\n",
    "    df.ID = df.ID.str.strip()\n",
    "       \n",
    "#     print(\"File name:\", file)\n",
    "#     print(df.columns, df.shape)\n",
    "#     print(sum(df.ID.str.startswith(' ') | df.ID.str.endswith(' ')))\n",
    "    \n",
    "    \n",
    "#     df.to_csv(dev_translated_tsv_path +'\\\\' + file.split('.')[0] + '.csv', sep='\\t', index=False)\n",
    "#     print(file,\": has been created in \", dev_translated_tsv_path)\n",
    "    "
   ]
  },
  {
   "cell_type": "code",
   "execution_count": 143,
   "id": "5e7869ee",
   "metadata": {},
   "outputs": [
    {
     "name": "stdout",
     "output_type": "stream",
     "text": [
      "File name: am_dev.csv\n",
      "Index(['ID', 'tweet'], dtype='object') (1497, 2)\n",
      "am    1497\n",
      "Name: ID, dtype: int64\n",
      "##############################\n",
      "File name: dz_dev.csv\n",
      "Index(['ID', 'tweet'], dtype='object') (414, 2)\n",
      "dz    414\n",
      "Name: ID, dtype: int64\n",
      "##############################\n",
      "File name: ha_dev.csv\n",
      "Index(['ID', 'tweet'], dtype='object') (2677, 2)\n",
      "ha    2677\n",
      "Name: ID, dtype: int64\n",
      "##############################\n",
      "File name: ig_dev.csv\n",
      "Index(['ID', 'tweet'], dtype='object') (1841, 2)\n",
      "ig    1841\n",
      "Name: ID, dtype: int64\n",
      "##############################\n",
      "File name: ma_dev.csv\n",
      "Index(['ID', 'tweet'], dtype='object') (1215, 2)\n",
      "ma    1215\n",
      "Name: ID, dtype: int64\n",
      "##############################\n",
      "File name: pcm_dev.csv\n",
      "Index(['ID', 'tweet'], dtype='object') (1281, 2)\n",
      "pcm    1281\n",
      "Name: ID, dtype: int64\n",
      "##############################\n",
      "File name: pt_dev.csv\n",
      "Index(['ID', 'tweet'], dtype='object') (767, 2)\n",
      "pt    755\n",
      "en     12\n",
      "Name: ID, dtype: int64\n",
      "##############################\n",
      "File name: sw_dev.csv\n",
      "Index(['ID', 'tweet'], dtype='object') (453, 2)\n",
      "sw    434\n",
      "en     19\n",
      "Name: ID, dtype: int64\n",
      "##############################\n",
      "File name: yo_dev.csv\n",
      "Index(['ID', 'tweet'], dtype='object') (2090, 2)\n",
      "yo    2090\n",
      "Name: ID, dtype: int64\n",
      "##############################\n"
     ]
    }
   ],
   "source": [
    "## To cross-check if the ID value has ' ' at start or end.\n",
    "files_dev = [file for file in os.listdir(dev_translated_tsv_path) if file.endswith('.csv')]\n",
    "dfs_dev = [pd.read_csv(dev_translated_tsv_path +'\\\\'+ file, sep='\\t') for file in files_dev]\n",
    "for i, file in zip(dfs_dev,files_dev):\n",
    "    #print(file, '--', i.columns)\n",
    "    print(\"File name:\", file)\n",
    "    print(i.columns, i.shape)\n",
    "    print(i.ID.apply(lambda x: x.split('_')[0]).value_counts())\n",
    "    print('#'*30)"
   ]
  },
  {
   "cell_type": "markdown",
   "id": "1ec0a755",
   "metadata": {},
   "source": [
    "In pt_dev.csv - 12, st_dev.csv - 19, pt_train.csv - 27 instances have 'en' in the ID value. It may indicate the comments were actually made in 'english'."
   ]
  },
  {
   "cell_type": "code",
   "execution_count": null,
   "id": "06af1bc2",
   "metadata": {},
   "outputs": [],
   "source": []
  }
 ],
 "metadata": {
  "kernelspec": {
   "display_name": "Python 3 (ipykernel)",
   "language": "python",
   "name": "python3"
  },
  "language_info": {
   "codemirror_mode": {
    "name": "ipython",
    "version": 3
   },
   "file_extension": ".py",
   "mimetype": "text/x-python",
   "name": "python",
   "nbconvert_exporter": "python",
   "pygments_lexer": "ipython3",
   "version": "3.9.7"
  }
 },
 "nbformat": 4,
 "nbformat_minor": 5
}
